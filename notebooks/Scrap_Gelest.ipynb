{
 "cells": [
  {
   "cell_type": "markdown",
   "metadata": {},
   "source": [
    "# Web Scrape Gelest"
   ]
  },
  {
   "cell_type": "markdown",
   "metadata": {},
   "source": [
    "Let's import the libraries we'll need. Also, hacking the [government pdfs](https://govhack-toolkit.readthedocs.io/technical/scraping/)"
   ]
  },
  {
   "cell_type": "code",
   "execution_count": 1,
   "metadata": {},
   "outputs": [],
   "source": [
    "# import libraries\n",
    "import PyPDF2\n",
    "from urllib.request import urlopen\n",
    "import requests\n",
    "import os\n",
    "import matplotlib.pyplot as plt\n",
    "import pandas as pd\n",
    "import numpy as np\n",
    "import re\n",
    "import itertools\n",
    "from bs4 import BeautifulSoup\n",
    "from rdkit import Chem\n",
    "from rdkit.Chem import Draw\n",
    "from util import removeJunk, compoundProperties, getSmiles, getFlashPoint, celsiusToKelvin"
   ]
  },
  {
   "cell_type": "code",
   "execution_count": 2,
   "metadata": {},
   "outputs": [
    {
     "name": "stdout",
     "output_type": "stream",
     "text": [
      "good data point\n"
     ]
    },
    {
     "data": {
      "text/plain": [
       "-1"
      ]
     },
     "execution_count": 2,
     "metadata": {},
     "output_type": "execute_result"
    }
   ],
   "source": [
    "text = 'Flash point   :   > 4 °C'\n",
    "re.search('Flash point(.+?)C', text).group(0)\n",
    "if '>' not in text or '<' not in text:\n",
    "    print('good data point')\n",
    "#re.findall('\\d+', fp)\n",
    "num = ['-1']\n",
    "int(num[0])"
   ]
  },
  {
   "cell_type": "code",
   "execution_count": 3,
   "metadata": {},
   "outputs": [],
   "source": [
    "#helper methods\n",
    "def getFlashPoint_new(pdfUrl):\n",
    "    flashp = None\n",
    "    response = urlopen(pdfUrl)\n",
    "    file = open(\"document.pdf\", 'wb')\n",
    "    file.write(response.read())\n",
    "    file.close()\n",
    "    pdf_file = open('document.pdf', 'rb')\n",
    "        \n",
    "    read_pdf = PyPDF2.PdfFileReader(pdf_file)\n",
    "    \n",
    "    #number_of_pages = read_pdf.getNumPages()\n",
    "    for p in range(read_pdf.getNumPages()):\n",
    "        page = read_pdf.getPage(p)\n",
    "        text = page.extractText()\n",
    "        \n",
    "        text = text.replace('\\n', ' ').replace('\\r', '')\n",
    "        fp = re.search('Flash point(.+?)C', text)\n",
    "        if 'Flash point   :   No' in text or 'Flash point   :   no' in text:\n",
    "            break\n",
    "        #print(fp)\n",
    "        if fp != None:\n",
    "            fp = re.search('Flash point(.+?)C', text).group(0)\n",
    "            print(fp)\n",
    "            if '>' in fp or '<' in fp:\n",
    "                break\n",
    "            else:\n",
    "                flashPoint = re.findall('\\d+', fp)\n",
    "                #print(int(flashPoint[0]))\n",
    "                flashp = int(flashPoint[0])\n",
    "                if '-' in fp:\n",
    "                    flashp = -1 * flashp\n",
    "                flashp = celsiusToKelvin(flashp)\n",
    "                print(flashp)\n",
    "                break\n",
    "    \n",
    "    pdf_file.close()\n",
    "    \n",
    "    #print(flashp)    \n",
    "    return flashp\n"
   ]
  },
  {
   "cell_type": "markdown",
   "metadata": {},
   "source": [
    "I think we should get the box for each [product](https://www.gelest.com/product-lines/silicones/)"
   ]
  },
  {
   "cell_type": "code",
   "execution_count": 4,
   "metadata": {},
   "outputs": [
    {
     "name": "stdout",
     "output_type": "stream",
     "text": [
      "-------------------Page1------------------------------------------\n",
      "Flash point   :   > 76 °C\n",
      "Flash point   :   > 76 °C\n",
      "Flash point   :   103 °C\n",
      "376.15\n",
      "Flash point   :   > 110 °C\n",
      "Flash point   :   56 °C\n",
      "329.15\n",
      "Flash point   :   > 110 °C\n",
      "Flash point   :   > 110 °C\n",
      "Flash point   :   > 110 °C\n",
      "Flash point   :   > 110 °C\n",
      "Flash point   :   > 110 °C\n",
      "Flash point   :   168 °C\n",
      "441.15\n",
      "Flash point   :   > 110 °C\n",
      "Flash point   :   > 110 °C\n",
      "-------------------Page2------------------------------------------\n",
      "Flash point   :   > 150 °C\n",
      "Flash point   :   > 150 °C\n",
      "Flash point   :   > 110 °C\n",
      "Flash point   :   102 °C\n",
      "375.15\n",
      "Flash point   :   > 110 °C\n",
      "Flash point   :   > 110 °C\n",
      "Flash point   :   > 110 °C\n",
      "Flash point   :   39 °C\n",
      "312.15\n",
      "Flash point   :   > 110 °C\n",
      "Flash point   :   > 150 °C\n",
      "Flash point   :   > 110 °C\n",
      "Flash point   :   > 110 °C\n",
      "Flash point   :   101 °C\n",
      "374.15\n",
      "Flash point   :   > 204 °C\n",
      "Flash point   :   > 110 °C\n",
      "Flash point   :   30 °C\n",
      "303.15\n",
      "-------------------Page3------------------------------------------\n",
      "Flash point   :   123 °C\n",
      "396.15\n",
      "Flash point   :   91 °C\n",
      "364.15\n",
      "Flash point   :   176 °C\n",
      "449.15\n",
      "Flash point   :   > 110 °C\n",
      "Flash point   :   143 °C\n",
      "416.15\n",
      "Flash point   :   116 °C\n",
      "389.15\n",
      "Flash point   :   168 °C\n",
      "441.15\n",
      "Flash point   :   113 °C\n",
      "386.15\n",
      "Flash point   :   > 150 °C\n",
      "Flash point   :   110 °C\n",
      "383.15\n",
      "Flash point   :   > 65 °C\n",
      "Flash point   :   204 °C\n",
      "477.15\n",
      "Flash point   :   140 °C\n",
      "413.15\n",
      "-------------------Page4------------------------------------------\n",
      "Flash point   :   > 110 °C\n",
      "Flash point   :   > 110 °C\n",
      "Flash point   :   > 65 °C\n",
      "Flash point   :   115 °C\n",
      "388.15\n",
      "Flash point   :   1 °C\n",
      "274.15\n",
      "Flash point   :   > 204 °C\n",
      "Flash point   :   127 °C\n",
      "400.15\n",
      "Flash point   :   > 110 °C\n",
      "Flash point   :   > 65 °C\n",
      "Flash point   :   153 °C\n",
      "426.15\n",
      "Flash point   :   > 200 °C\n",
      "Flash point   :   > 150 °C\n",
      "-------------------Page5------------------------------------------\n",
      "Flash point   :   > 110 °C\n",
      "Flash point   :   204 °C\n",
      "477.15\n",
      "Flash point   :   198 °C\n",
      "471.15\n",
      "Flash point   :   140 °C\n",
      "413.15\n",
      "Flash point   :   > 204 °C\n",
      "Flash point   :   > 205   °C\n",
      "Flash point   :   > 150 °C\n",
      "Flash point   :   > 205 °C\n",
      "Flash point   :   > 110 °C\n",
      "Flash point   :   > 65 °C\n",
      "Flash point   :   204 °C\n",
      "477.15\n",
      "Flash point   :   113 °C\n",
      "386.15\n",
      "Flash point   :   73 °C\n",
      "346.15\n",
      "Flash point   :   > 110 °C\n",
      "-------------------Page6------------------------------------------\n",
      "Flash point   :   61 °C\n",
      "334.15\n",
      "Flash point   :   > 76 °C\n",
      "Flash point   :   > 1 10 °C\n",
      "Flash point   :   > 121 °C\n",
      "Flash point   :   113 °C\n",
      "386.15\n",
      "Flash point   :   107 °C\n",
      "380.15\n",
      "Flash point   :   104 °C\n",
      "377.15\n",
      "Flash point   :   > 110 °C\n",
      "Flash point   :   > 110 °C\n",
      "Flash point   :   > 110 °C\n",
      "-------------------Page7------------------------------------------\n",
      "Flash point   :   > 110 °C\n",
      "Flash point   :   > 110 °C\n",
      "Flash point   :   75 °C\n",
      "348.15\n",
      "Flash point   :   > 65 °C\n",
      "Flash point   :   231 °C\n",
      "504.15\n",
      "Flash point   :   1 07 °C\n",
      "274.15\n",
      "Flash point   :   107 °C\n",
      "380.15\n",
      "Flash point   :   > 110 °C\n",
      "Flash point   :   53 °C\n",
      "326.15\n",
      "Flash point   :   > 65 °C\n",
      "Flash point   :   39 °C\n",
      "312.15\n",
      "Flash point   :   > 25 °C\n",
      "Flash point   :   - 12 °C\n",
      "261.15\n",
      "Flash point   :   - 12 °C\n",
      "261.15\n",
      "Flash point   :   > 110 °C\n",
      "Flash point   :   94 °C\n",
      "367.15\n",
      "Flash point   :   231 °C\n",
      "504.15\n",
      "Flash point   :   > 65 °C\n",
      "Flash point   :   > 200 °C\n",
      "-------------------Page8------------------------------------------\n",
      "Flash point   :   40 °C\n",
      "313.15\n",
      "Flash point   :   106 °C\n",
      "379.15\n",
      "Flash point   :   > 110 °C\n",
      "-------------------Page9------------------------------------------\n",
      "Flash point   :   11 °C\n",
      "284.15\n",
      "Flash point   :   121   °C\n",
      "394.15\n",
      "Flash point   :   120 °C\n",
      "393.15\n",
      "Flash point   :   > 110 °C\n",
      "Flash point   :   > 174 °C\n",
      "Flash point   :   > 120 °C\n",
      "Flash point   :   120 °C\n",
      "393.15\n",
      "Flash point   :   104 °C\n",
      "377.15\n",
      "Flash point   :   > 150 °C\n",
      "Flash point   :   113 °C\n",
      "386.15\n",
      "Flash point   :   98 °C\n",
      "371.15\n",
      "Flash point   :   > 100 °C\n",
      "-------------------Page10------------------------------------------\n",
      "Flash point   :   40 °C\n",
      "313.15\n",
      "Flash point   :   > 110 °C\n",
      "Flash point   :   > 150 °C\n",
      "Flash point   :   105 °C\n",
      "378.15\n",
      "Flash point   :   99 °C\n",
      "372.15\n",
      "Flash point   :   97 °C\n",
      "370.15\n",
      "Flash point   :   - 14 °C\n",
      "259.15\n",
      "Flash point   :   > 65 °C\n",
      "Flash point   :   > 65 °C\n",
      "Flash point   :   > 120 °C\n",
      "Flash point   :   > 110 °C\n",
      "Flash point   :   > 110 °C\n",
      "Flash point   :   > 110 °C\n",
      "Flash point   :   > 204 °C\n",
      "Flash point   :   70 °C\n",
      "343.15\n",
      "-------------------Page11------------------------------------------\n",
      "Flash point   :   > 110 °C\n",
      "Flash point   :   > 110 °C\n",
      "Flash point   :   > 110 °C\n",
      "Flash point   :   > 110 °C\n",
      "Flash point   :   > 110 °C\n",
      "Flash point   :   > 110 °C\n",
      "could not scrap pdf\n"
     ]
    }
   ],
   "source": [
    "num = 1\n",
    "frame = pd.DataFrame(columns=(\"compound\", \"smiles\", \"flashpoint\", \"pure substance\", \"img\", \"sds\")) #frame for scraped data\n",
    "\n",
    "while num <= 11:\n",
    "    print(\"-------------------Page\"+str(num)+\"------------------------------------------\")\n",
    "    url = \"https://www.gelest.com/product-lines/tin-compounds/?pl_page=\"+str(num)+\"&perpage=20\"\n",
    "    response = requests.get(url)\n",
    "    soup = BeautifulSoup(response.content, \"html.parser\")\n",
    "    products = soup.find(\"div\", {\"class\": re.compile(\"^(first border-box col-xs-24)\")})\n",
    "    contents = soup.find_all(\"div\", {\"class\": \"wc-product-meta\"})\n",
    "    imgs = soup.find_all(\"img\", {\"class\": \"img-responsive center-block wp-post-image\"})\n",
    "    \n",
    "    for img, data in zip(imgs, contents):\n",
    "        \n",
    "        productCode = data.find(\"span\", {\"class\" : \"code\"}).text\n",
    "        sds = soup.find(\"a\", {\"href\": \"https://s3.amazonaws.com/gelest/sds/\"+productCode+\"_GHS+US_English+US.pdf\"})\n",
    "        casNo = data.find(\"span\", {\"class\" : \"cas-number\"})\n",
    "    \n",
    "        if casNo == None:\n",
    "            casNo = ''\n",
    "        else:\n",
    "            casNo = casNo.text\n",
    "        \n",
    "        compound = data.find(\"p\", {\"class\" : \"title\"}).text.strip('\\n\\t')\n",
    "        compound = removeJunk(compound)\n",
    "        #print(compound)\n",
    "        #smilesUrl = \"https://opsin.ch.cam.ac.uk/opsin/\"+compound+\".smi\"\n",
    "        #print(smilesUrl)\n",
    "        requestSmiles = \" \" #requests.get(smilesUrl)\n",
    "    \n",
    "        if 1 != 1:#requestSmiles.status_code == 400 or requestSmiles.status_code == 404:\n",
    "            print(\"no smiles\")\n",
    "        else:\n",
    "            try:\n",
    "                if sds != None: #if sds['href'] != None:\n",
    "                    #print(sds['href'])\n",
    "                    if sds == None:\n",
    "                        flashPoint = None\n",
    "                    else:\n",
    "                        flashPoint = getFlashPoint_new(sds['href'])\n",
    "                        form, binary = compoundProperties(sds['href'])\n",
    "                        #print(form, binary)\n",
    "                        frame = frame.append({'compound' : compound,\n",
    "                            'smiles' : getSmiles(compound), #requestSmiles.text,\n",
    "                            'flashpoint' : flashPoint,\n",
    "                            'pure substance' : binary,\n",
    "                            'img' : img['src'],\n",
    "                            'sds' : sds['href']}, ignore_index=True)\n",
    "            except:\n",
    "                print('could not scrap pdf')\n",
    "\n",
    "\n",
    "    num+= 1"
   ]
  },
  {
   "cell_type": "code",
   "execution_count": 5,
   "metadata": {},
   "outputs": [
    {
     "data": {
      "text/plain": [
       "(160, 6)"
      ]
     },
     "execution_count": 5,
     "metadata": {},
     "output_type": "execute_result"
    }
   ],
   "source": [
    "frame.shape"
   ]
  },
  {
   "cell_type": "code",
   "execution_count": 6,
   "metadata": {},
   "outputs": [
    {
     "name": "stdout",
     "output_type": "stream",
     "text": [
      "(44, 4)\n"
     ]
    }
   ],
   "source": [
    "frame.drop(columns=['sds', 'img'], inplace=True)\n",
    "frame.dropna(inplace=True)\n",
    "Chem.MolToSmiles(Chem.MolFromSmiles('C[Ge](Cl)(Cl)Cl'))\n",
    "#print(frame.shape)\n",
    "#frame.dropna(inplace=True)\n",
    "print(frame.shape)\n"
   ]
  },
  {
   "cell_type": "code",
   "execution_count": 7,
   "metadata": {},
   "outputs": [
    {
     "data": {
      "text/html": [
       "<div>\n",
       "<style scoped>\n",
       "    .dataframe tbody tr th:only-of-type {\n",
       "        vertical-align: middle;\n",
       "    }\n",
       "\n",
       "    .dataframe tbody tr th {\n",
       "        vertical-align: top;\n",
       "    }\n",
       "\n",
       "    .dataframe thead th {\n",
       "        text-align: right;\n",
       "    }\n",
       "</style>\n",
       "<table border=\"1\" class=\"dataframe\">\n",
       "  <thead>\n",
       "    <tr style=\"text-align: right;\">\n",
       "      <th></th>\n",
       "      <th>compound</th>\n",
       "      <th>smiles</th>\n",
       "      <th>flashpoint</th>\n",
       "      <th>pure substance</th>\n",
       "      <th>source</th>\n",
       "    </tr>\n",
       "  </thead>\n",
       "  <tbody>\n",
       "    <tr>\n",
       "      <th>2</th>\n",
       "      <td>ALLYLTRI-n-BUTYLTIN</td>\n",
       "      <td>C=CC[Sn](CCCC)(CCCC)CCCC</td>\n",
       "      <td>376.15</td>\n",
       "      <td>1</td>\n",
       "      <td>gelest_tin</td>\n",
       "    </tr>\n",
       "    <tr>\n",
       "      <th>4</th>\n",
       "      <td>BIS[BIS(TRIMETHYLSILYL)AMINO]TIN(II)</td>\n",
       "      <td>C[Si](C)(C)N([Sn]N([Si](C)(C)C)[Si](C)(C)C)[Si...</td>\n",
       "      <td>329.15</td>\n",
       "      <td>1</td>\n",
       "      <td>gelest_tin</td>\n",
       "    </tr>\n",
       "    <tr>\n",
       "      <th>16</th>\n",
       "      <td>t-BUTYLTRI n-BUTYLTIN</td>\n",
       "      <td>CCCC[Sn](CCCC)(CCCC)C(C)(C)C</td>\n",
       "      <td>375.15</td>\n",
       "      <td>1</td>\n",
       "      <td>gelest_tin</td>\n",
       "    </tr>\n",
       "    <tr>\n",
       "      <th>20</th>\n",
       "      <td>CHLOROMETHYLTRIMETHYLTIN</td>\n",
       "      <td>C[Sn](C)(C)CCl</td>\n",
       "      <td>312.15</td>\n",
       "      <td>1</td>\n",
       "      <td>gelest_tin</td>\n",
       "    </tr>\n",
       "    <tr>\n",
       "      <th>25</th>\n",
       "      <td>DIALLYLDI-n-BUTYLTIN</td>\n",
       "      <td>C=CC[Sn](CC=C)(CCCC)CCCC</td>\n",
       "      <td>374.15</td>\n",
       "      <td>1</td>\n",
       "      <td>gelest_tin</td>\n",
       "    </tr>\n",
       "  </tbody>\n",
       "</table>\n",
       "</div>"
      ],
      "text/plain": [
       "                                compound  \\\n",
       "2                    ALLYLTRI-n-BUTYLTIN   \n",
       "4   BIS[BIS(TRIMETHYLSILYL)AMINO]TIN(II)   \n",
       "16                 t-BUTYLTRI n-BUTYLTIN   \n",
       "20              CHLOROMETHYLTRIMETHYLTIN   \n",
       "25                  DIALLYLDI-n-BUTYLTIN   \n",
       "\n",
       "                                               smiles flashpoint  \\\n",
       "2                            C=CC[Sn](CCCC)(CCCC)CCCC     376.15   \n",
       "4   C[Si](C)(C)N([Sn]N([Si](C)(C)C)[Si](C)(C)C)[Si...     329.15   \n",
       "16                       CCCC[Sn](CCCC)(CCCC)C(C)(C)C     375.15   \n",
       "20                                     C[Sn](C)(C)CCl     312.15   \n",
       "25                           C=CC[Sn](CC=C)(CCCC)CCCC     374.15   \n",
       "\n",
       "   pure substance      source  \n",
       "2               1  gelest_tin  \n",
       "4               1  gelest_tin  \n",
       "16              1  gelest_tin  \n",
       "20              1  gelest_tin  \n",
       "25              1  gelest_tin  "
      ]
     },
     "execution_count": 7,
     "metadata": {},
     "output_type": "execute_result"
    }
   ],
   "source": [
    "frame['source'] = 'gelest_tin'\n",
    "frame.head()\n"
   ]
  },
  {
   "cell_type": "code",
   "execution_count": 8,
   "metadata": {},
   "outputs": [
    {
     "name": "stdout",
     "output_type": "stream",
     "text": [
      "(44, 5)\n"
     ]
    }
   ],
   "source": [
    "#frame.dropna(inplace=True) # = frame[frame.flashPoint != None]\n",
    "print(frame.shape)\n",
    "frame.to_csv('tin_all.csv', encoding='utf-8',index=False)\n",
    "#sdsUrl = \"https://s3.amazonaws.com/gelest/sds/SIA0482.0_GHS+US_English+US.pdf\"\n",
    "#fp = getFlashPoint(sdsUrl)\n",
    "#print(fp)"
   ]
  },
  {
   "cell_type": "code",
   "execution_count": null,
   "metadata": {},
   "outputs": [],
   "source": []
  },
  {
   "cell_type": "code",
   "execution_count": null,
   "metadata": {},
   "outputs": [],
   "source": [
    "intermediates = pd.read_csv('intermediates_all.csv')\n",
    "metalOrganics = pd.read_csv('metal-organics_all.csv')\n",
    "tinCompounds = pd.read_csv('tin-compounds_all.csv')\n",
    "silanes = pd.read_csv('silanes_all.csv')\n",
    "germaniumCompounds = pd.read_csv('germanium-compounds_all.csv')\n",
    "silicones = pd.read_csv('silicones_all.csv')\n",
    "\n",
    "#compounds = silanes.append([intermediates,\n",
    "#                            tinCompounds,\n",
    "##                            germaniumCompounds,\n",
    "#                            silicones,\n",
    "#                            metalOrganics])"
   ]
  },
  {
   "cell_type": "code",
   "execution_count": null,
   "metadata": {},
   "outputs": [],
   "source": [
    "#find smiles strings\n",
    "#silanes['smiles'] = silanes['compound'].apply(getSmiles)\n",
    "#silanes.to_csv(\"silanes_all.csv\",encoding='utf-8',index=False)"
   ]
  },
  {
   "cell_type": "code",
   "execution_count": null,
   "metadata": {},
   "outputs": [],
   "source": [
    "#silanes\n",
    "#silanes['Product form'] = silanes['sds'].apply(compoundProperties)\n",
    "silanes"
   ]
  },
  {
   "cell_type": "code",
   "execution_count": null,
   "metadata": {},
   "outputs": [],
   "source": [
    "silanes.iloc[0]\n",
    "silanes = silanes[pd.notnull(silanes['smiles'])]\n",
    "silanes = silanes.loc[silanes['Product form'] == 'Substance']\n",
    "silanes['smiles'].isnull().sum().sum()\n",
    "silanes.to_csv(\"gelest_silanes_substance.csv\",encoding='utf-8',index=False)\n",
    "#metalOrganics['smiles'] = metalOrganics['compound'].apply(getSmiles)\n",
    "#tinCompounds['smiles'] = tinCompounds['compound'].apply(getSmiles)\n",
    "#germaniumCompounds['smiles'] = germaniumCompounds['compound'].apply(getSmiles)"
   ]
  },
  {
   "cell_type": "code",
   "execution_count": null,
   "metadata": {},
   "outputs": [],
   "source": [
    "#metal organics\n",
    "metalOrganics['smiles'] = metalOrganics['compound'].apply(getSmiles)\n",
    "metalOrganics = metalOrganics[pd.notnull(metalOrganics['smiles'])]\n",
    "print(metalOrganics['smiles'].isnull().sum().sum())\n",
    "metalOrganics = metalOrganics[pd.notnull(metalOrganics['smiles'])]\n",
    "metalOrganics['Product form'] = metalOrganics['sds'].apply(compoundProperties)\n",
    "print(metalOrganics['smiles'].isnull().sum().sum())"
   ]
  },
  {
   "cell_type": "code",
   "execution_count": null,
   "metadata": {},
   "outputs": [],
   "source": [
    "metalOrganics = metalOrganics.loc[metalOrganics['Product form'] == 'Substance']\n",
    "metalOrganics.to_csv(\"gelest_metal-organics_substance.csv\",encoding='utf-8',index=False)"
   ]
  },
  {
   "cell_type": "code",
   "execution_count": null,
   "metadata": {},
   "outputs": [],
   "source": [
    "# tin compounds\n",
    "tinCompounds['smiles'] = tinCompounds['compound'].apply(getSmiles)\n",
    "tinCompounds = tinCompounds[pd.notnull(tinCompounds['smiles'])]\n",
    "print(tinCompounds['smiles'].isnull().sum().sum())\n",
    "tinCompounds = tinCompounds[pd.notnull(tinCompounds['smiles'])]\n",
    "tinCompounds['Product form'] = tinCompounds['sds'].apply(compoundProperties)\n",
    "print(tinCompounds['smiles'].isnull().sum().sum())\n",
    "\n",
    "tinCompounds = tinCompounds.loc[tinCompounds['Product form'] == 'Substance']\n",
    "tinCompounds.to_csv(\"gelest_tin-compounds_substance.csv\",encoding='utf-8',index=False)"
   ]
  },
  {
   "cell_type": "code",
   "execution_count": null,
   "metadata": {},
   "outputs": [],
   "source": [
    "# germanium compounds\n",
    "germaniumCompounds['smiles'] = germaniumCompounds['compound'].apply(getSmiles)\n",
    "germaniumCompounds = germaniumCompounds[pd.notnull(germaniumCompounds['smiles'])]\n",
    "print(germaniumCompounds['smiles'].isnull().sum().sum())\n",
    "germaniumCompounds = germaniumCompounds[pd.notnull(germaniumCompounds['smiles'])]\n",
    "germaniumCompounds['Product form'] = germaniumCompounds['sds'].apply(compoundProperties)\n",
    "print(germaniumCompounds['smiles'].isnull().sum().sum())\n",
    "\n",
    "germaniumCompounds = germaniumCompounds.loc[germaniumCompounds['Product form'] == 'Substance']\n",
    "germaniumCompounds.to_csv(\"gelest_germanium-compounds_substance.csv\",encoding='utf-8',index=False)"
   ]
  },
  {
   "cell_type": "markdown",
   "metadata": {},
   "source": [
    "# Using Opsin web services to request the smiles from IUPAC name"
   ]
  },
  {
   "cell_type": "code",
   "execution_count": null,
   "metadata": {},
   "outputs": [],
   "source": [
    "url = \"https://opsin.ch.cam.ac.uk/opsin/ACETOXYETHYLTRIETHOXYSILANE.smi\"\n",
    "r = requests.get(url)\n",
    "r.text"
   ]
  },
  {
   "cell_type": "code",
   "execution_count": null,
   "metadata": {},
   "outputs": [],
   "source": [
    "m = Chem.MolFromSmiles(r.text)\n",
    "Draw.MolToImage(m)\n",
    "\n",
    "m1 = Chem.MolFromSmiles('C(#N)CCC[Si](O[*:2])(C)[*:1]')\n",
    "Draw.MolToImage(m1)"
   ]
  },
  {
   "cell_type": "markdown",
   "metadata": {},
   "source": [
    "# Extract identifiers"
   ]
  },
  {
   "cell_type": "code",
   "execution_count": null,
   "metadata": {},
   "outputs": [],
   "source": [
    "response = urlopen('https://s3.amazonaws.com/gelest/sds/SIA0006.0_GHS+US_English+US.pdf')\n",
    "file = open(\"document.pdf\", 'wb')\n",
    "file.write(response.read())\n",
    "file.close()\n",
    "pdf_file = open('document.pdf', 'rb')\n",
    "read_pdf = PyPDF2.PdfFileReader(pdf_file)"
   ]
  },
  {
   "cell_type": "code",
   "execution_count": null,
   "metadata": {},
   "outputs": [],
   "source": [
    "page = read_pdf.getPage(0)\n",
    "text = page.extractText()\n",
    "text = text.replace('\\n', ' ').replace('\\r', '')\n",
    "text"
   ]
  },
  {
   "cell_type": "code",
   "execution_count": null,
   "metadata": {},
   "outputs": [],
   "source": [
    "fp = re.search('Product form(.+?) P', text)\n",
    "string = fp.group(0)\n",
    "strArray = string.split()\n",
    "print(strArray[3])\n",
    "fp = re.search('Physical state(.+?) F', text)\n",
    "string = fp.group(0)\n",
    "strArray = string.split()\n",
    "print(strArray[3])\n",
    "fp = re.search('Chemical family(.+?) 1', text)\n",
    "string = fp.group(0)\n",
    "strArray = string.split()\n",
    "print(strArray[3])"
   ]
  },
  {
   "cell_type": "code",
   "execution_count": null,
   "metadata": {},
   "outputs": [],
   "source": []
  },
  {
   "cell_type": "code",
   "execution_count": null,
   "metadata": {},
   "outputs": [],
   "source": []
  }
 ],
 "metadata": {
  "kernelspec": {
   "display_name": "moleprop",
   "language": "python",
   "name": "moleprop"
  },
  "language_info": {
   "codemirror_mode": {
    "name": "ipython",
    "version": 3
   },
   "file_extension": ".py",
   "mimetype": "text/x-python",
   "name": "python",
   "nbconvert_exporter": "python",
   "pygments_lexer": "ipython3",
   "version": "3.6.8"
  }
 },
 "nbformat": 4,
 "nbformat_minor": 2
}
