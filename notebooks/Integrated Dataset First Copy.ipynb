{
 "cells": [
  {
   "cell_type": "code",
   "execution_count": 14,
   "metadata": {},
   "outputs": [],
   "source": [
    "import pandas as pd\n",
    "from rdkit import Chem\n",
    "import requests\n",
    "#from helpers.integration_helpers import canoicalize_smiles"
   ]
  },
  {
   "cell_type": "markdown",
   "metadata": {},
   "source": [
    "## Carroll"
   ]
  },
  {
   "cell_type": "code",
   "execution_count": null,
   "metadata": {},
   "outputs": [],
   "source": [
    "data = pd.read_csv('../data/Carroll11.csv', encoding = \"ISO-8859-1\")"
   ]
  },
  {
   "cell_type": "code",
   "execution_count": null,
   "metadata": {},
   "outputs": [],
   "source": [
    "carroll = data[['Compound', 'TFP(K)Ref.']]\n",
    "carroll['source'] = 'carroll11'\n",
    "carroll['pure substance'] = 1"
   ]
  },
  {
   "cell_type": "code",
   "execution_count": null,
   "metadata": {},
   "outputs": [],
   "source": [
    "carroll['smiles'] = carroll['Compound'].apply(getSmiles)"
   ]
  },
  {
   "cell_type": "code",
   "execution_count": null,
   "metadata": {},
   "outputs": [],
   "source": [
    "carroll.dropna(subset=['smiles'], inplace=True)"
   ]
  },
  {
   "cell_type": "code",
   "execution_count": null,
   "metadata": {},
   "outputs": [],
   "source": [
    "carroll.dropna(subset=['Compound'], inplace=True)"
   ]
  },
  {
   "cell_type": "code",
   "execution_count": null,
   "metadata": {},
   "outputs": [],
   "source": [
    "carroll.head()"
   ]
  },
  {
   "cell_type": "code",
   "execution_count": null,
   "metadata": {},
   "outputs": [],
   "source": [
    "carroll.rename(index=str, columns={\"Compound\": \"compound\", \"TFP(K)Ref.\": \"flashpoint\"}, inplace=True)"
   ]
  },
  {
   "cell_type": "code",
   "execution_count": null,
   "metadata": {},
   "outputs": [],
   "source": [
    "carroll = carroll[['smiles', 'compound', 'flashpoint', 'source', 'pure substance']]\n",
    "carroll.head()\n",
    "carroll.to_csv('Carroll11.csv', index=False)"
   ]
  },
  {
   "cell_type": "code",
   "execution_count": null,
   "metadata": {},
   "outputs": [],
   "source": [
    "print(carroll['flashpoint'].mean())\n",
    "print(carroll['flashpoint'].std())"
   ]
  },
  {
   "cell_type": "markdown",
   "metadata": {},
   "source": [
    "## Saldana"
   ]
  },
  {
   "cell_type": "code",
   "execution_count": null,
   "metadata": {},
   "outputs": [],
   "source": [
    "data = pd.read_csv('../data/Saldana11(fuels).csv', encoding = \"ISO-8859-1\")"
   ]
  },
  {
   "cell_type": "code",
   "execution_count": null,
   "metadata": {},
   "outputs": [],
   "source": [
    "fuels = data[['Name', 'Family', 'SMILES', 'FP Exp.']]\n",
    "fuels['source'] = 'Saldana11'\n",
    "fuels['pure substance'] = 1\n",
    "fuels.rename(index=str, columns={\"Name\": \"compound\", \"FP Exp.\": \"flashpoint\", \"SMILES\": \"smiles\"}, inplace=True)\n",
    "fuels = fuels[['smiles', 'compound', 'flashpoint', 'source', 'pure substance', 'Family']]\n",
    "fuels.head()"
   ]
  },
  {
   "cell_type": "code",
   "execution_count": null,
   "metadata": {},
   "outputs": [],
   "source": [
    "fuels.to_csv('fuels.csv', index=False)"
   ]
  },
  {
   "cell_type": "code",
   "execution_count": null,
   "metadata": {},
   "outputs": [],
   "source": [
    "print(fuels['flashpoint'].mean())\n",
    "print(fuels['flashpoint'].std())"
   ]
  },
  {
   "cell_type": "markdown",
   "metadata": {},
   "source": [
    "## Pan12"
   ]
  },
  {
   "cell_type": "code",
   "execution_count": null,
   "metadata": {},
   "outputs": [],
   "source": [
    "data = pd.read_csv('../data/pan12.csv', encoding = \"ISO-8859-1\")"
   ]
  },
  {
   "cell_type": "code",
   "execution_count": null,
   "metadata": {},
   "outputs": [],
   "source": [
    "pan12 = data[['Compounds Name','smiles', 'Observed']]\n",
    "pan12.rename(index=str,columns={\"Compounds Name\": \"compound\", 'Observed': 'flashpoint'}, inplace=True)\n",
    "pan12['flashpoint'] = pan12['flashpoint'].apply(CtoK)\n",
    "pan12['source'] = 'pan12'\n",
    "pan12['pure substance'] = 1\n",
    "pan12 = pan12[['smiles', 'compound', 'flashpoint', 'source', 'pure substance']]\n",
    "pan12.head()"
   ]
  },
  {
   "cell_type": "code",
   "execution_count": null,
   "metadata": {},
   "outputs": [],
   "source": [
    "pan12.to_csv('pan12.csv', index=False)"
   ]
  },
  {
   "cell_type": "markdown",
   "metadata": {},
   "source": [
    "## chen14"
   ]
  },
  {
   "cell_type": "code",
   "execution_count": null,
   "metadata": {},
   "outputs": [],
   "source": [
    "data = pd.read_csv('../data/chen14.csv', encoding = \"ISO-8859-1\")"
   ]
  },
  {
   "cell_type": "code",
   "execution_count": null,
   "metadata": {},
   "outputs": [],
   "source": [
    "data.head()"
   ]
  },
  {
   "cell_type": "code",
   "execution_count": null,
   "metadata": {},
   "outputs": [],
   "source": [
    "chen14 = data[['Compond Name','smiles', 'Observed']]\n",
    "chen14.rename(index=str,columns={\"Compond Name\": \"compound\", 'Observed': 'flashpoint'}, inplace=True)\n",
    "chen14['flashpoint'] = chen14['flashpoint'].apply(CtoK)\n",
    "chen14['source'] = 'chen14'\n",
    "chen14['pure substance'] = 1\n",
    "chen14 = chen14[['smiles', 'compound', 'flashpoint', 'source', 'pure substance']]\n",
    "chen14.head()"
   ]
  },
  {
   "cell_type": "code",
   "execution_count": null,
   "metadata": {},
   "outputs": [],
   "source": [
    "chen14.to_csv('chen14.csv', index=False)"
   ]
  },
  {
   "cell_type": "code",
   "execution_count": null,
   "metadata": {},
   "outputs": [],
   "source": [
    "carroll = pd.read_csv('Carroll11.csv', encoding = \"ISO-8859-1\")\n",
    "fuels = pd.read_csv('fuels.csv', encoding = \"ISO-8859-1\")\n",
    "pan12 = pd.read_csv('pan12.csv', encoding = \"ISO-8859-1\")\n",
    "chen14 = pd.read_csv('chen14.csv', encoding = \"ISO-8859-1\")"
   ]
  },
  {
   "cell_type": "code",
   "execution_count": null,
   "metadata": {},
   "outputs": [],
   "source": [
    "# canonicalize carroll smiles\n",
    "for i in range(0, len(carroll)):\n",
    "    carroll.iloc[i]['smiles'] = Chem.MolToSmiles(Chem.MolFromSmiles(carroll.iloc[i]['smiles']))\n"
   ]
  },
  {
   "cell_type": "code",
   "execution_count": null,
   "metadata": {},
   "outputs": [],
   "source": [
    "fuels.drop(['Family'], axis=1, inplace=True)\n",
    "print(carroll.columns)\n",
    "print(fuels.columns)\n",
    "print(pan12.columns)\n",
    "print(chen14.columns)"
   ]
  },
  {
   "cell_type": "code",
   "execution_count": null,
   "metadata": {},
   "outputs": [],
   "source": [
    "carroll['smiles']"
   ]
  },
  {
   "cell_type": "code",
   "execution_count": null,
   "metadata": {},
   "outputs": [],
   "source": [
    "frames = [fuels, carroll, pan12, chen14]\n",
    "result = pd.concat(frames)"
   ]
  },
  {
   "cell_type": "code",
   "execution_count": null,
   "metadata": {},
   "outputs": [],
   "source": [
    "result.shape"
   ]
  },
  {
   "cell_type": "code",
   "execution_count": null,
   "metadata": {},
   "outputs": [],
   "source": [
    "#canonicalize smiles with rdkit\n",
    "result['canonical smiles'] = None\n",
    "for idx, row in result.iterrows():\n",
    "    result.loc[idx,'canonical smiles'] = Chem.MolToSmiles(Chem.MolFromSmiles(result.iloc[idx]['smiles']))"
   ]
  },
  {
   "cell_type": "code",
   "execution_count": null,
   "metadata": {},
   "outputs": [],
   "source": [
    "result.dropna(inplace=True)"
   ]
  },
  {
   "cell_type": "code",
   "execution_count": null,
   "metadata": {},
   "outputs": [],
   "source": [
    "result.shape"
   ]
  },
  {
   "cell_type": "code",
   "execution_count": null,
   "metadata": {},
   "outputs": [],
   "source": [
    "result.to_csv('integrated_dataset.csv', index=False)"
   ]
  },
  {
   "cell_type": "code",
   "execution_count": null,
   "metadata": {},
   "outputs": [],
   "source": [
    "result = pd.read_csv('../data/integrated_dataset.csv')"
   ]
  },
  {
   "cell_type": "code",
   "execution_count": null,
   "metadata": {},
   "outputs": [],
   "source": [
    "result['canonical smiles'] = None\n",
    "result.head(5)"
   ]
  },
  {
   "cell_type": "code",
   "execution_count": null,
   "metadata": {},
   "outputs": [],
   "source": [
    "for idx, row in result.iterrows():\n",
    "    result.loc[idx,'canonical smiles'] = Chem.MolToSmiles(Chem.MolFromSmiles(result.loc[idx]['smiles']))"
   ]
  },
  {
   "cell_type": "code",
   "execution_count": null,
   "metadata": {},
   "outputs": [],
   "source": [
    "result.to_csv('../data/integrated_dataset.csv', index=False)"
   ]
  },
  {
   "cell_type": "markdown",
   "metadata": {},
   "source": [
    "## Add Gelest to dataset"
   ]
  },
  {
   "cell_type": "code",
   "execution_count": null,
   "metadata": {},
   "outputs": [],
   "source": [
    "#result = pd.read_csv('../data/integrated_dataset.csv')\n",
    "result.drop(columns=['smiles'], inplace=True)\n",
    "result.rename(index=str, columns={\"canonical smiles\" : \"smiles\"}, inplace=True)"
   ]
  },
  {
   "cell_type": "code",
   "execution_count": null,
   "metadata": {},
   "outputs": [],
   "source": [
    "silanes = pd.read_csv('../data/silanes_all.csv')\n",
    "metal_organic = pd.read_csv('../data/metal-organics_all.csv')\n",
    "tin = pd.read_csv('../data/tin_all.csv')\n",
    "germanium  = pd.read_csv('../data/germanium_all.csv')"
   ]
  },
  {
   "cell_type": "code",
   "execution_count": null,
   "metadata": {},
   "outputs": [],
   "source": [
    "result = result[['compound', 'smiles', 'flashpoint', 'pure substance', 'source']]\n",
    "result.head()"
   ]
  },
  {
   "cell_type": "code",
   "execution_count": null,
   "metadata": {},
   "outputs": [],
   "source": [
    "frames = [silanes, metal_organic, tin, germanium, result]\n",
    "resultv2 = pd.concat(frames)"
   ]
  },
  {
   "cell_type": "code",
   "execution_count": null,
   "metadata": {},
   "outputs": [],
   "source": [
    "resultv2.shape\n",
    "resultv2.to_csv('../data/integrated_dataset.csv')"
   ]
  },
  {
   "cell_type": "markdown",
   "metadata": {},
   "source": [
    "## pubchem integration"
   ]
  },
  {
   "cell_type": "code",
   "execution_count": null,
   "metadata": {},
   "outputs": [],
   "source": [
    "pubchem = pd.read_csv('../data/pubchem_data.csv')\n",
    "carroll = pd.read_csv('../data/Carroll11.csv')\n",
    "chen14 = pd.read_csv('../data/chen14.csv')\n",
    "fuels = pd.read_csv('../data/fuels.csv')\n",
    "germanium = pd.read_csv('../data/germanium_all.csv')\n",
    "metal_organics = pd.read_csv('../data/metal-organics_all.csv')\n",
    "pan12 = pd.read_csv('../data/pan12.csv')\n",
    "silanes = pd.read_csv('../data/silanes_all.csv')\n",
    "tin = pd.read_csv('../data/tin_all.csv')"
   ]
  },
  {
   "cell_type": "code",
   "execution_count": null,
   "metadata": {},
   "outputs": [],
   "source": [
    "print(list(pubchem))\n",
    "print(list(carroll))\n",
    "print(list(chen14))\n",
    "print(list(fuels))\n",
    "print(list(germanium))\n",
    "print(list(metal_organics))\n",
    "print(list(pan12))\n",
    "print(list(silanes))\n",
    "print(list(tin))"
   ]
  },
  {
   "cell_type": "code",
   "execution_count": null,
   "metadata": {},
   "outputs": [],
   "source": [
    "def canoicalize_smiles(data):\n",
    "    for idx, row in data.iterrows():\n",
    "        m = Chem.MolFromSmiles(data.iloc[idx]['smiles'])\n",
    "        if m != None:\n",
    "            data.iloc[idx]['smiles'] = Chem.MolToSmiles(m)\n",
    "        else:\n",
    "            data.iloc[idx]['smiles'] = None\n",
    "    return data"
   ]
  },
  {
   "cell_type": "code",
   "execution_count": null,
   "metadata": {},
   "outputs": [],
   "source": [
    "frames = [pubchem, carroll, chen14, fuels, germanium, metal_organics, pan12, silanes, tin]\n",
    "result = pd.concat(frames)"
   ]
  },
  {
   "cell_type": "code",
   "execution_count": null,
   "metadata": {},
   "outputs": [],
   "source": [
    "canonical_smiles_data = canoicalize_smiles(result)"
   ]
  },
  {
   "cell_type": "code",
   "execution_count": null,
   "metadata": {},
   "outputs": [],
   "source": [
    "canonical_smiles_data[canonical_smiles_data.duplicated()].shape"
   ]
  },
  {
   "cell_type": "code",
   "execution_count": null,
   "metadata": {},
   "outputs": [],
   "source": [
    "canonical_smiles_data.to_csv('../data/integrated_dataset.csv', index=False)"
   ]
  },
  {
   "cell_type": "code",
   "execution_count": null,
   "metadata": {},
   "outputs": [],
   "source": [
    "data = canonical_smiles_data"
   ]
  },
  {
   "cell_type": "code",
   "execution_count": null,
   "metadata": {},
   "outputs": [],
   "source": [
    "data.drop_duplicates().shape"
   ]
  },
  {
   "cell_type": "code",
   "execution_count": null,
   "metadata": {},
   "outputs": [],
   "source": [
    "#data.drop_duplicates('smiles').\n",
    "rows = data.loc[data['smiles'] == 'C[Sn](C)(C)Cl']\n",
    "rows.iloc[0]#['flashpoint'].std()"
   ]
  },
  {
   "cell_type": "code",
   "execution_count": 59,
   "metadata": {},
   "outputs": [],
   "source": [
    "def remove_duplicates(data):\n",
    "    duplicates = data[data.duplicated(subset='smiles')]\n",
    "    result = data.drop_duplicates(subset='smiles', keep=False)#[~duplicates]\n",
    "    #for each unique smiles that has duplicates\n",
    "    for smiles in data[data.duplicated(subset='smiles')]['smiles'].unique():\n",
    "        dup_rows = data.loc[data['smiles'] == smiles]\n",
    "        if dup_rows['flashpoint'].unique().shape[0] == 1:\n",
    "            # remove all but one\n",
    "            result = result.append(dup_rows.iloc[0], sort=False)\n",
    "        else:\n",
    "            if dup_rows['flashpoint'].std() < 5:\n",
    "                # add 1 back\n",
    "                result = result.append(dup_rows.iloc[0], sort=False)\n",
    "    return result  \n",
    "            "
   ]
  },
  {
   "cell_type": "code",
   "execution_count": null,
   "metadata": {},
   "outputs": [],
   "source": [
    "pure_compounds = data.loc[data['pure substance'] == 1]\n",
    "pure_compounds.shape"
   ]
  },
  {
   "cell_type": "code",
   "execution_count": null,
   "metadata": {},
   "outputs": [],
   "source": [
    "data[data.duplicated(subset='smiles')].shape"
   ]
  },
  {
   "cell_type": "code",
   "execution_count": null,
   "metadata": {},
   "outputs": [],
   "source": [
    "data = data.loc[data['pure substance'] == 1]\n",
    "print(data.shape)\n",
    "no_dups = remove_duplicates(data)\n",
    "print(no_dups.shape)"
   ]
  },
  {
   "cell_type": "code",
   "execution_count": null,
   "metadata": {},
   "outputs": [],
   "source": [
    "no_dups[no_dups.duplicated(subset='smiles')]\n",
    "#no_dups.loc[no_dups['smiles'] == 'CC1=CCCC(=C)C2CC(C2CC1)(C)C']\n",
    "no_dups.to_csv('../data/integrated_dataset.csv', index=False)"
   ]
  },
  {
   "cell_type": "code",
   "execution_count": null,
   "metadata": {},
   "outputs": [],
   "source": [
    "result = data.drop_duplicates(subset='smiles', keep=False)\n",
    "result.shape"
   ]
  },
  {
   "cell_type": "code",
   "execution_count": null,
   "metadata": {},
   "outputs": [],
   "source": [
    "data[data.duplicated(subset='smiles')]['smiles'].unique()"
   ]
  },
  {
   "cell_type": "markdown",
   "metadata": {},
   "source": [
    "### Hazardous Materials"
   ]
  },
  {
   "cell_type": "code",
   "execution_count": 40,
   "metadata": {},
   "outputs": [],
   "source": [
    "data = pd.read_csv('../data/hazardous_materials.csv')\n",
    "haz = data[['Common name', 'Data type', 'Measurement name', 'Measurement value', 'Measurement units']]"
   ]
  },
  {
   "cell_type": "code",
   "execution_count": 41,
   "metadata": {},
   "outputs": [],
   "source": [
    "flashpoints = haz.loc[haz['Measurement name'] == 'Flash point']"
   ]
  },
  {
   "cell_type": "code",
   "execution_count": 42,
   "metadata": {},
   "outputs": [
    {
     "name": "stdout",
     "output_type": "stream",
     "text": [
      "['Common name', 'Data type', 'Measurement name', 'Measurement value', 'Measurement units']\n"
     ]
    }
   ],
   "source": [
    "print(list(flashpoints))"
   ]
  },
  {
   "cell_type": "code",
   "execution_count": 43,
   "metadata": {},
   "outputs": [
    {
     "name": "stderr",
     "output_type": "stream",
     "text": [
      "C:\\Users\\Nathaniel\\Miniconda3\\envs\\moleprop\\lib\\site-packages\\ipykernel_launcher.py:1: SettingWithCopyWarning: \n",
      "A value is trying to be set on a copy of a slice from a DataFrame.\n",
      "Try using .loc[row_indexer,col_indexer] = value instead\n",
      "\n",
      "See the caveats in the documentation: http://pandas.pydata.org/pandas-docs/stable/indexing.html#indexing-view-versus-copy\n",
      "  \"\"\"Entry point for launching an IPython kernel.\n"
     ]
    }
   ],
   "source": [
    "flashpoints['smiles'] = flashpoints['Common name'].apply(get_smiles)"
   ]
  },
  {
   "cell_type": "code",
   "execution_count": 11,
   "metadata": {},
   "outputs": [],
   "source": [
    "def get_compound_with_element(data, element):\n",
    "    return data[data['smiles'].str.contains(element)]\n",
    "\n",
    "def get_smiles(compound):\n",
    "    smilesUrl = \"https://opsin.ch.cam.ac.uk/opsin/\"+compound+\".smi\"\n",
    "    requestSmiles = requests.get(smilesUrl)\n",
    "    if requestSmiles.status_code == 400 or requestSmiles.status_code == 404:\n",
    "        return None\n",
    "    else:\n",
    "        return Chem.MolToSmiles(Chem.MolFromSmiles(requestSmiles.text))  \n",
    "    \n",
    "def celsiusToKelvin(temp):\n",
    "    return temp + 273.15\n",
    "\n",
    "def get_compound_with_element(data, element):\n",
    "    return data[data['smiles'].str.contains(element)]"
   ]
  },
  {
   "cell_type": "code",
   "execution_count": 18,
   "metadata": {},
   "outputs": [
    {
     "ename": "NameError",
     "evalue": "name 'flashpoints' is not defined",
     "output_type": "error",
     "traceback": [
      "\u001b[1;31m---------------------------------------------------------------------------\u001b[0m",
      "\u001b[1;31mNameError\u001b[0m                                 Traceback (most recent call last)",
      "\u001b[1;32m<ipython-input-18-b964410ad5e5>\u001b[0m in \u001b[0;36m<module>\u001b[1;34m\u001b[0m\n\u001b[1;32m----> 1\u001b[1;33m \u001b[0mflashpoints\u001b[0m \u001b[1;33m=\u001b[0m \u001b[0mflashpoints\u001b[0m\u001b[1;33m[\u001b[0m\u001b[1;33m~\u001b[0m\u001b[0mflashpoints\u001b[0m\u001b[1;33m[\u001b[0m\u001b[1;34m'Measurement value'\u001b[0m\u001b[1;33m]\u001b[0m\u001b[1;33m.\u001b[0m\u001b[0mstr\u001b[0m\u001b[1;33m.\u001b[0m\u001b[0mcontains\u001b[0m\u001b[1;33m(\u001b[0m\u001b[1;34m'<'\u001b[0m\u001b[1;33m)\u001b[0m\u001b[1;33m]\u001b[0m\u001b[1;33m\u001b[0m\u001b[1;33m\u001b[0m\u001b[0m\n\u001b[0m\u001b[0;32m      2\u001b[0m \u001b[0mflashpoints\u001b[0m \u001b[1;33m=\u001b[0m \u001b[0mflashpoints\u001b[0m\u001b[1;33m[\u001b[0m\u001b[1;33m~\u001b[0m\u001b[0mflashpoints\u001b[0m\u001b[1;33m[\u001b[0m\u001b[1;34m'Measurement value'\u001b[0m\u001b[1;33m]\u001b[0m\u001b[1;33m.\u001b[0m\u001b[0mstr\u001b[0m\u001b[1;33m.\u001b[0m\u001b[0mcontains\u001b[0m\u001b[1;33m(\u001b[0m\u001b[1;34m'>'\u001b[0m\u001b[1;33m)\u001b[0m\u001b[1;33m]\u001b[0m\u001b[1;33m\u001b[0m\u001b[1;33m\u001b[0m\u001b[0m\n\u001b[0;32m      3\u001b[0m \u001b[0mflashpoints\u001b[0m \u001b[1;33m=\u001b[0m \u001b[0mflashpoints\u001b[0m\u001b[1;33m[\u001b[0m\u001b[1;33m~\u001b[0m\u001b[0mflashpoints\u001b[0m\u001b[1;33m[\u001b[0m\u001b[1;34m'Measurement value'\u001b[0m\u001b[1;33m]\u001b[0m\u001b[1;33m.\u001b[0m\u001b[0mstr\u001b[0m\u001b[1;33m.\u001b[0m\u001b[0mcontains\u001b[0m\u001b[1;33m(\u001b[0m\u001b[1;34m'~'\u001b[0m\u001b[1;33m)\u001b[0m\u001b[1;33m]\u001b[0m\u001b[1;33m\u001b[0m\u001b[1;33m\u001b[0m\u001b[0m\n\u001b[0;32m      4\u001b[0m \u001b[0mpattern\u001b[0m \u001b[1;33m=\u001b[0m \u001b[1;34m'\\\\w+-\\\\w'\u001b[0m\u001b[1;33m\u001b[0m\u001b[1;33m\u001b[0m\u001b[0m\n\u001b[0;32m      5\u001b[0m \u001b[0mflashpoints\u001b[0m\u001b[1;33m[\u001b[0m\u001b[1;34m'Measurement value'\u001b[0m\u001b[1;33m]\u001b[0m \u001b[1;33m=\u001b[0m \u001b[0mflashpoints\u001b[0m\u001b[1;33m[\u001b[0m\u001b[1;34m'Measurement value'\u001b[0m\u001b[1;33m]\u001b[0m\u001b[1;33m.\u001b[0m\u001b[0mstr\u001b[0m\u001b[1;33m.\u001b[0m\u001b[0mreplace\u001b[0m\u001b[1;33m(\u001b[0m\u001b[0mpattern\u001b[0m\u001b[1;33m,\u001b[0m \u001b[1;34m'none'\u001b[0m\u001b[1;33m,\u001b[0m \u001b[0mregex\u001b[0m\u001b[1;33m=\u001b[0m\u001b[1;32mTrue\u001b[0m\u001b[1;33m)\u001b[0m\u001b[1;33m\u001b[0m\u001b[1;33m\u001b[0m\u001b[0m\n",
      "\u001b[1;31mNameError\u001b[0m: name 'flashpoints' is not defined"
     ]
    }
   ],
   "source": [
    "flashpoints = flashpoints[~flashpoints['Measurement value'].str.contains('<')]\n",
    "flashpoints = flashpoints[~flashpoints['Measurement value'].str.contains('>')]\n",
    "flashpoints = flashpoints[~flashpoints['Measurement value'].str.contains('~')]\n",
    "pattern = '\\\\w+-\\\\w'\n",
    "flashpoints['Measurement value'] = flashpoints['Measurement value'].str.replace(pattern, 'none', regex=True)\n",
    "#flashpoints = flashpoints[~flashpoints['Measurement value'].str.contains('none')]\n",
    "flashpoints['Measurement value'] = pd.to_numeric(flashpoints['Measurement value'], errors='coerce')\n",
    "\n",
    "flashpoints.head()"
   ]
  },
  {
   "cell_type": "code",
   "execution_count": 46,
   "metadata": {},
   "outputs": [],
   "source": [
    "flashpoints['flashpoint'] = flashpoints['Measurement value'].apply(celsiusToKelvin)\n",
    "flashpoints.drop(columns=['Measurement name','Data type', 'Measurement units', 'Measurement value'], inplace=True)\n",
    "#flashpoints.rename(columns={'Common name' : 'compound', 'Measurement value' : 'flashpoint'}, inplace=True)"
   ]
  },
  {
   "cell_type": "code",
   "execution_count": 62,
   "metadata": {},
   "outputs": [
    {
     "data": {
      "text/plain": [
       "(368, 5)"
      ]
     },
     "execution_count": 62,
     "metadata": {},
     "output_type": "execute_result"
    }
   ],
   "source": [
    "flashpoints.dropna(inplace=True)\n",
    "flashpoints.rename(columns={'Common name' : 'compound'}, inplace=True)\n",
    "#flashpoints.drop(df.columns[i], axis=1)\n",
    "flashpoints['pure substance'] = 1\n",
    "flashpoints['source'] = 'hazardous materials'\n",
    "hazardous_mat = flashpoints[['compound', 'flashpoint', 'pure substance', 'smiles', 'source']]\n",
    "hazardous_mat.shape"
   ]
  },
  {
   "cell_type": "code",
   "execution_count": 61,
   "metadata": {},
   "outputs": [
    {
     "name": "stdout",
     "output_type": "stream",
     "text": [
      "(3684, 5)\n",
      "(3471, 5)\n"
     ]
    }
   ],
   "source": [
    "#data = pd.read_csv('../data/integrated_dataset.csv')\n",
    "#frames = [data, hazardous_mat]\n",
    "#result = pd.concat(frames)\n",
    "no_dups = remove_duplicates(result)\n",
    "print(result.shape)\n",
    "print(no_dups.shape)\n",
    "no_dups.to_csv('../data/integrated_dataset.csv', index=False)"
   ]
  },
  {
   "cell_type": "code",
   "execution_count": 13,
   "metadata": {},
   "outputs": [
    {
     "name": "stdout",
     "output_type": "stream",
     "text": [
      "(298, 2)\n",
      "(3173, 2)\n"
     ]
    }
   ],
   "source": [
    "dataset = pd.read_csv('../data/integrated_dataset.csv')\n",
    "Si_data = get_compound_with_element(dataset, 'Si')\n",
    "Si_data = Si_data[['smiles', 'flashpoint']]\n",
    "print(Si_data.shape)\n",
    "Si_data.to_csv('../data/sidata.csv', index=False)\n",
    "data = dataset[~dataset['smiles'].str.contains('Si')]\n",
    "data = data[['smiles', 'flashpoint']]\n",
    "data.to_csv('../data/notSidata.csv')\n",
    "print(data.shape)\n"
   ]
  },
  {
   "cell_type": "code",
   "execution_count": null,
   "metadata": {},
   "outputs": [],
   "source": [
    "data = dataset[['smiles', 'flashpoint']]\n",
    "data.to_csv('../data/flashpoints.csv')\n",
    "dataset['source'].unique()"
   ]
  },
  {
   "cell_type": "code",
   "execution_count": null,
   "metadata": {},
   "outputs": [],
   "source": [
    "data = dataset[dataset['source'] != 'gelest_metal-organics']\n",
    "data = data[['smiles', 'flashpoint']]\n",
    "data.to_csv('../data/flashpointsNoGelestMetallics.csv', index=False)"
   ]
  },
  {
   "cell_type": "code",
   "execution_count": 3,
   "metadata": {},
   "outputs": [
    {
     "name": "stdout",
     "output_type": "stream",
     "text": [
      "341.2367156439067\n",
      "65.30367258221965\n"
     ]
    }
   ],
   "source": [
    "data = pd.read_csv('../data/integrated_dataset.csv')\n",
    "print(data['flashpoint'].mean())\n",
    "print(data['flashpoint'].std())"
   ]
  },
  {
   "cell_type": "code",
   "execution_count": 7,
   "metadata": {},
   "outputs": [],
   "source": [
    "carroll = data[data['source'] == 'carroll11']\n",
    "carroll = carroll[['smiles', 'flashpoint']]\n",
    "carroll.head()\n",
    "carroll.to_csv('../data/carroll.csv', index=False)"
   ]
  },
  {
   "cell_type": "code",
   "execution_count": 8,
   "metadata": {},
   "outputs": [],
   "source": [
    "carroll = data[data['source'] == 'pubchem']\n",
    "carroll = carroll[['smiles', 'flashpoint']]\n",
    "carroll.head()\n",
    "carroll.to_csv('../data/pubchem.csv', index=False)"
   ]
  },
  {
   "cell_type": "code",
   "execution_count": 55,
   "metadata": {},
   "outputs": [
    {
     "data": {
      "text/html": [
       "<div>\n",
       "<style scoped>\n",
       "    .dataframe tbody tr th:only-of-type {\n",
       "        vertical-align: middle;\n",
       "    }\n",
       "\n",
       "    .dataframe tbody tr th {\n",
       "        vertical-align: top;\n",
       "    }\n",
       "\n",
       "    .dataframe thead th {\n",
       "        text-align: right;\n",
       "    }\n",
       "</style>\n",
       "<table border=\"1\" class=\"dataframe\">\n",
       "  <thead>\n",
       "    <tr style=\"text-align: right;\">\n",
       "      <th></th>\n",
       "      <th>smiles</th>\n",
       "      <th>flashpoint</th>\n",
       "    </tr>\n",
       "  </thead>\n",
       "  <tbody>\n",
       "    <tr>\n",
       "      <th>0</th>\n",
       "      <td>CC(C)CC</td>\n",
       "      <td>222.0</td>\n",
       "    </tr>\n",
       "    <tr>\n",
       "      <th>1</th>\n",
       "      <td>CC(C)CCC</td>\n",
       "      <td>241.0</td>\n",
       "    </tr>\n",
       "    <tr>\n",
       "      <th>2</th>\n",
       "      <td>CC(C)CCCCC</td>\n",
       "      <td>277.0</td>\n",
       "    </tr>\n",
       "    <tr>\n",
       "      <th>3</th>\n",
       "      <td>CC(C)CCCCCC</td>\n",
       "      <td>297.0</td>\n",
       "    </tr>\n",
       "    <tr>\n",
       "      <th>4</th>\n",
       "      <td>CC(C)CCCCCCC</td>\n",
       "      <td>311.0</td>\n",
       "    </tr>\n",
       "  </tbody>\n",
       "</table>\n",
       "</div>"
      ],
      "text/plain": [
       "         smiles  flashpoint\n",
       "0       CC(C)CC       222.0\n",
       "1      CC(C)CCC       241.0\n",
       "2    CC(C)CCCCC       277.0\n",
       "3   CC(C)CCCCCC       297.0\n",
       "4  CC(C)CCCCCCC       311.0"
      ]
     },
     "execution_count": 55,
     "metadata": {},
     "output_type": "execute_result"
    }
   ],
   "source": [
    "pubchem = pd.read_csv('../data/carroll.csv')\n",
    "integrated_dataset = pd.read_csv('../data/integrated_dataset.csv')\n",
    "\n",
    "pubchem.head()\n",
    "#print(pubchem['flashpoint'].mean())\n",
    "#print(pubchem['flashpoint'].std())"
   ]
  },
  {
   "cell_type": "code",
   "execution_count": 91,
   "metadata": {},
   "outputs": [],
   "source": [
    "def LOG(dataset, test_group):  # leave out group\n",
    "        \"\"\"\n",
    "        split dataset by leaving out a specific source as test set\n",
    "        dataset: data frame\n",
    "        test_group: string\n",
    "        \"\"\"\n",
    "        # remove duplicates in train group.\n",
    "        test_df = dataset[dataset['source'] == test_group]\n",
    "        train_df = dataset[dataset['source'] != test_group]\n",
    "\n",
    "        # remove data points in  train dataframe that match smiles strings in\n",
    "        # test dataframe\n",
    "        for index, row in test_df.iterrows():\n",
    "            smi = row['smiles']\n",
    "            train_df = train_df[train_df['smiles'] != smi]\n",
    "\n",
    "        frames = [train_df, test_df]\n",
    "        dataset = pd.concat(frames)\n",
    "        dataset.reset_index(drop=True, inplace=True)\n",
    "        test_indices = []\n",
    "        train_indices = list(range(len(dataset.index)))\n",
    "        print(\"||||||||||||||||||| \"+test_group+ \" will be used as test set|||||||||||||||||||\")\n",
    "        for i in range(0,len(dataset.index)):\n",
    "            if dataset.iloc[i]['source'] == test_group:\n",
    "                test_indices.append(i)\n",
    "                train_indices.remove(i)\n",
    "        return (train_indices, test_indices, dataset)"
   ]
  },
  {
   "cell_type": "code",
   "execution_count": 92,
   "metadata": {},
   "outputs": [
    {
     "name": "stdout",
     "output_type": "stream",
     "text": [
      "||||||||||||||||||| pan12 will be used as test set|||||||||||||||||||\n"
     ]
    }
   ],
   "source": [
    "data = pd.read_csv('../data/integrated_dataset.csv')\n",
    "x, y, new_df = LOG(data, 'pan12')"
   ]
  },
  {
   "cell_type": "code",
   "execution_count": 93,
   "metadata": {},
   "outputs": [
    {
     "data": {
      "text/plain": [
       "[3459, 3460, 3461, 3462, 3463, 3464, 3465, 3466, 3467, 3468, 3469, 3470]"
      ]
     },
     "execution_count": 93,
     "metadata": {},
     "output_type": "execute_result"
    }
   ],
   "source": [
    "y"
   ]
  },
  {
   "cell_type": "code",
   "execution_count": 99,
   "metadata": {},
   "outputs": [
    {
     "data": {
      "text/plain": [
       "array(['pubchem', 'carroll11', 'chen14', 'Saldana11', 'gelest_germanium',\n",
       "       'gelest_metal-organics', 'gelest_silanes', 'gelest_tin',\n",
       "       'hazardous materials'], dtype=object)"
      ]
     },
     "execution_count": 99,
     "metadata": {},
     "output_type": "execute_result"
    }
   ],
   "source": [
    "new_df.iloc[x]['source'].unique()"
   ]
  },
  {
   "cell_type": "code",
   "execution_count": 73,
   "metadata": {},
   "outputs": [
    {
     "data": {
      "text/html": [
       "<div>\n",
       "<style scoped>\n",
       "    .dataframe tbody tr th:only-of-type {\n",
       "        vertical-align: middle;\n",
       "    }\n",
       "\n",
       "    .dataframe tbody tr th {\n",
       "        vertical-align: top;\n",
       "    }\n",
       "\n",
       "    .dataframe thead th {\n",
       "        text-align: right;\n",
       "    }\n",
       "</style>\n",
       "<table border=\"1\" class=\"dataframe\">\n",
       "  <thead>\n",
       "    <tr style=\"text-align: right;\">\n",
       "      <th></th>\n",
       "      <th>compound</th>\n",
       "      <th>flashpoint</th>\n",
       "      <th>pure substance</th>\n",
       "      <th>smiles</th>\n",
       "      <th>source</th>\n",
       "    </tr>\n",
       "  </thead>\n",
       "  <tbody>\n",
       "    <tr>\n",
       "      <th>0</th>\n",
       "      <td>1-aminopropan-2-ol</td>\n",
       "      <td>350.15</td>\n",
       "      <td>1</td>\n",
       "      <td>CC(CN)O</td>\n",
       "      <td>pubchem</td>\n",
       "    </tr>\n",
       "    <tr>\n",
       "      <th>1</th>\n",
       "      <td>1-chloro-2,4-dinitrobenzene</td>\n",
       "      <td>467.15</td>\n",
       "      <td>1</td>\n",
       "      <td>C1=CC(=C(C=C1[N+](=O)[O-])[N+](=O)[O-])Cl</td>\n",
       "      <td>pubchem</td>\n",
       "    </tr>\n",
       "    <tr>\n",
       "      <th>2</th>\n",
       "      <td>1,2-dichloroethane</td>\n",
       "      <td>286.15</td>\n",
       "      <td>1</td>\n",
       "      <td>C(CCl)Cl</td>\n",
       "      <td>pubchem</td>\n",
       "    </tr>\n",
       "    <tr>\n",
       "      <th>3</th>\n",
       "      <td>1,2,4-trichlorobenzene</td>\n",
       "      <td>383.15</td>\n",
       "      <td>1</td>\n",
       "      <td>C1=CC(=C(C=C1Cl)Cl)Cl</td>\n",
       "      <td>pubchem</td>\n",
       "    </tr>\n",
       "    <tr>\n",
       "      <th>4</th>\n",
       "      <td>2-chloroacetaldehyde</td>\n",
       "      <td>361.15</td>\n",
       "      <td>1</td>\n",
       "      <td>C(C=O)Cl</td>\n",
       "      <td>pubchem</td>\n",
       "    </tr>\n",
       "  </tbody>\n",
       "</table>\n",
       "</div>"
      ],
      "text/plain": [
       "                      compound  flashpoint  pure substance  \\\n",
       "0           1-aminopropan-2-ol      350.15               1   \n",
       "1  1-chloro-2,4-dinitrobenzene      467.15               1   \n",
       "2           1,2-dichloroethane      286.15               1   \n",
       "3       1,2,4-trichlorobenzene      383.15               1   \n",
       "4         2-chloroacetaldehyde      361.15               1   \n",
       "\n",
       "                                      smiles   source  \n",
       "0                                    CC(CN)O  pubchem  \n",
       "1  C1=CC(=C(C=C1[N+](=O)[O-])[N+](=O)[O-])Cl  pubchem  \n",
       "2                                   C(CCl)Cl  pubchem  \n",
       "3                      C1=CC(=C(C=C1Cl)Cl)Cl  pubchem  \n",
       "4                                   C(C=O)Cl  pubchem  "
      ]
     },
     "execution_count": 73,
     "metadata": {},
     "output_type": "execute_result"
    }
   ],
   "source": [
    "data.head()"
   ]
  },
  {
   "cell_type": "code",
   "execution_count": 96,
   "metadata": {},
   "outputs": [
    {
     "data": {
      "text/plain": [
       "compound            1,3-xylene\n",
       "flashpoint                 298\n",
       "pure substance               1\n",
       "smiles            Cc1cccc(C)c1\n",
       "source               Saldana11\n",
       "Name: 3469, dtype: object"
      ]
     },
     "execution_count": 96,
     "metadata": {},
     "output_type": "execute_result"
    }
   ],
   "source": [
    "data.iloc[y[10]]"
   ]
  },
  {
   "cell_type": "code",
   "execution_count": null,
   "metadata": {},
   "outputs": [],
   "source": []
  }
 ],
 "metadata": {
  "kernelspec": {
   "display_name": "moleprop",
   "language": "python",
   "name": "moleprop"
  },
  "language_info": {
   "codemirror_mode": {
    "name": "ipython",
    "version": 3
   },
   "file_extension": ".py",
   "mimetype": "text/x-python",
   "name": "python",
   "nbconvert_exporter": "python",
   "pygments_lexer": "ipython3",
   "version": "3.6.8"
  }
 },
 "nbformat": 4,
 "nbformat_minor": 2
}
