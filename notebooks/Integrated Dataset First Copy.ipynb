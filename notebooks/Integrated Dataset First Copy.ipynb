{
 "cells": [
  {
   "cell_type": "code",
   "execution_count": 90,
   "metadata": {},
   "outputs": [],
   "source": [
    "import pandas as pd\n",
    "from rdkit import Chem\n",
    "from rdkit.Chem import Draw\n",
    "import numpy as np\n",
    "import requests\n",
    "import re\n",
    "#from helpers.integration_helpers import canoicalize_smiles"
   ]
  },
  {
   "cell_type": "code",
   "execution_count": 65,
   "metadata": {},
   "outputs": [],
   "source": [
    "def get_compound_with_element(data, element):\n",
    "    return data[data['smiles'].str.contains(element)]\n",
    "\n",
    "def get_smiles(compound):\n",
    "    smilesUrl = \"https://opsin.ch.cam.ac.uk/opsin/\"+compound+\".smi\"\n",
    "    requestSmiles = requests.get(smilesUrl)\n",
    "    if requestSmiles.status_code == 400 or requestSmiles.status_code == 404:\n",
    "        return None\n",
    "    else:\n",
    "        return Chem.MolToSmiles(Chem.MolFromSmiles(requestSmiles.text))  \n",
    "    \n",
    "def celsiusToKelvin(temp):\n",
    "    return temp + 273.15\n",
    "\n",
    "def get_compound_with_element(data, element):\n",
    "    return data[data['smiles'].str.contains(element)]"
   ]
  },
  {
   "cell_type": "code",
   "execution_count": 66,
   "metadata": {},
   "outputs": [
    {
     "name": "stdout",
     "output_type": "stream",
     "text": [
      "['pubchem' 'carroll11' 'chen14' 'Saldana11' 'gelest_germanium'\n",
      " 'gelest_metal-organics' 'pan12' 'gelest_silanes' 'gelest_tin'\n",
      " 'hazardous materials' 'le15' 'wang11' 'didier14' 'pan07' 'caroll15'\n",
      " 'didier12']\n"
     ]
    },
    {
     "data": {
      "text/plain": [
       "smiles            0\n",
       "compound          0\n",
       "flashpoint        0\n",
       "source            0\n",
       "pure substance    0\n",
       "dtype: int64"
      ]
     },
     "execution_count": 66,
     "metadata": {},
     "output_type": "execute_result"
    }
   ],
   "source": [
    "integrated_data = pd.read_csv('../data/integrated_dataset.csv')\n",
    "print(integrated_data['source'].unique())\n",
    "integrated_data.isnull().sum()"
   ]
  },
  {
   "cell_type": "markdown",
   "metadata": {},
   "source": [
    "## Carroll"
   ]
  },
  {
   "cell_type": "code",
   "execution_count": null,
   "metadata": {},
   "outputs": [],
   "source": [
    "carroll = pd.read_csv('../data/Carroll11.csv', encoding = \"ISO-8859-1\")"
   ]
  },
  {
   "cell_type": "code",
   "execution_count": null,
   "metadata": {},
   "outputs": [],
   "source": [
    "print(list(carroll))\n",
    "#carroll = data[['Compound', 'TFP(K)Ref.']]\n",
    "#carroll['source'] = 'carroll11'\n",
    "#carroll['pure substance'] = 1\n",
    "carroll.head()"
   ]
  },
  {
   "cell_type": "markdown",
   "metadata": {},
   "source": [
    "## Saldana"
   ]
  },
  {
   "cell_type": "code",
   "execution_count": null,
   "metadata": {},
   "outputs": [],
   "source": [
    "fuels = pd.read_csv('../data/fuels.csv', encoding = \"ISO-8859-1\")\n",
    "fuels.head()"
   ]
  },
  {
   "cell_type": "markdown",
   "metadata": {},
   "source": [
    "## Pan12"
   ]
  },
  {
   "cell_type": "code",
   "execution_count": null,
   "metadata": {},
   "outputs": [],
   "source": [
    "pan12 = pd.read_csv('../data/pan12.csv', encoding = \"ISO-8859-1\")\n",
    "pan12.head()"
   ]
  },
  {
   "cell_type": "markdown",
   "metadata": {},
   "source": [
    "## chen14"
   ]
  },
  {
   "cell_type": "code",
   "execution_count": null,
   "metadata": {},
   "outputs": [],
   "source": [
    "chen14 = pd.read_csv('../data/chen14.csv', encoding = \"ISO-8859-1\")"
   ]
  },
  {
   "cell_type": "code",
   "execution_count": null,
   "metadata": {},
   "outputs": [],
   "source": [
    "chen14.head()"
   ]
  },
  {
   "cell_type": "code",
   "execution_count": null,
   "metadata": {},
   "outputs": [],
   "source": [
    "# canonicalize carroll smiles\n",
    "for i in range(0, len(carroll)):\n",
    "    carroll.iloc[i]['smiles'] = Chem.MolToSmiles(Chem.MolFromSmiles(carroll.iloc[i]['smiles']))\n"
   ]
  },
  {
   "cell_type": "code",
   "execution_count": null,
   "metadata": {},
   "outputs": [],
   "source": [
    "#canonicalize smiles with rdkit\n",
    "result['canonical smiles'] = None\n",
    "for idx, row in result.iterrows():\n",
    "    result.loc[idx,'canonical smiles'] = Chem.MolToSmiles(Chem.MolFromSmiles(result.iloc[idx]['smiles']))"
   ]
  },
  {
   "cell_type": "code",
   "execution_count": null,
   "metadata": {},
   "outputs": [],
   "source": [
    "for idx, row in result.iterrows():\n",
    "    result.loc[idx,'canonical smiles'] = Chem.MolToSmiles(Chem.MolFromSmiles(result.loc[idx]['smiles']))"
   ]
  },
  {
   "cell_type": "markdown",
   "metadata": {},
   "source": [
    "## Add Gelest to dataset"
   ]
  },
  {
   "cell_type": "code",
   "execution_count": null,
   "metadata": {},
   "outputs": [],
   "source": [
    "silanes = pd.read_csv('../data/silanes_all.csv')\n",
    "metal_organic = pd.read_csv('../data/metal-organics_all.csv')\n",
    "tin = pd.read_csv('../data/tin_all.csv')\n",
    "germanium  = pd.read_csv('../data/germanium_all.csv')\n",
    "print(list(silanes))\n",
    "print(list(metal_organic))\n",
    "print(list(tin))\n",
    "print(list(germanium))"
   ]
  },
  {
   "cell_type": "code",
   "execution_count": null,
   "metadata": {},
   "outputs": [],
   "source": [
    "#result = result[['compound', 'smiles', 'flashpoint', 'pure substance', 'source']]\n",
    "silanes_pure = silanes[silanes['pure substance'] == 1]\n",
    "metal_organic_pure = metal_organic[metal_organic['pure substance'] == 1]\n",
    "tin_pure = tin[tin['pure substance'] == 1]\n",
    "germanium_pure = germanium[germanium['pure substance'] == 1]"
   ]
  },
  {
   "cell_type": "markdown",
   "metadata": {},
   "source": [
    "## pubchem integration"
   ]
  },
  {
   "cell_type": "code",
   "execution_count": null,
   "metadata": {},
   "outputs": [],
   "source": [
    "pubchem = pd.read_csv('../data/pubchem_data.csv')\n",
    "pubchem = pubchem[['smiles', 'compound', 'flashpoint', 'source', 'pure substance']]\n",
    "germanium_pure = germanium_pure[['smiles', 'compound', 'flashpoint', 'source', 'pure substance']]\n",
    "tin_pure = tin_pure[['smiles', 'compound', 'flashpoint', 'source', 'pure substance']]\n",
    "metal_organic_pure = metal_organic_pure[['smiles', 'compound', 'flashpoint', 'source', 'pure substance']]\n",
    "silanes_pure = silanes_pure[['smiles', 'compound', 'flashpoint', 'source', 'pure substance']]\n",
    "hazardous_mat = hazardous_mat[['smiles', 'compound', 'flashpoint', 'source', 'pure substance']]\n"
   ]
  },
  {
   "cell_type": "code",
   "execution_count": null,
   "metadata": {},
   "outputs": [],
   "source": [
    "print(list(pubchem))\n",
    "print(list(carroll))\n",
    "print(list(chen14))\n",
    "print(list(fuels))\n",
    "print(list(germanium_pure))\n",
    "print(list(metal_organic_pure))\n",
    "print(list(pan12))\n",
    "print(list(silanes_pure))\n",
    "print(list(tin_pure))\n",
    "print(list(hazardous_mat))"
   ]
  },
  {
   "cell_type": "code",
   "execution_count": null,
   "metadata": {},
   "outputs": [],
   "source": [
    "def canoicalize_smiles(data):\n",
    "    for idx, row in data.iterrows():\n",
    "        m = Chem.MolFromSmiles(data.iloc[idx]['smiles'])\n",
    "        if m != None:\n",
    "            data.iloc[idx]['smiles'] = Chem.MolToSmiles(m)\n",
    "        else:\n",
    "            data.iloc[idx]['smiles'] = None\n",
    "    return data"
   ]
  },
  {
   "cell_type": "code",
   "execution_count": null,
   "metadata": {},
   "outputs": [],
   "source": [
    "frames = [pubchem, carroll, chen14, fuels, germanium_pure, metal_organic_pure, pan12, silanes_pure, tin_pure, hazardous_mat]\n",
    "result = pd.concat(frames)"
   ]
  },
  {
   "cell_type": "code",
   "execution_count": null,
   "metadata": {},
   "outputs": [],
   "source": [
    "canonical_smiles_data = canoicalize_smiles(result)"
   ]
  },
  {
   "cell_type": "code",
   "execution_count": null,
   "metadata": {},
   "outputs": [],
   "source": [
    "print(canonical_smiles_data.shape)\n",
    "print(canonical_smiles_data.dropna().shape)\n",
    "canonical_smiles_data.dropna(inplace=True)"
   ]
  },
  {
   "cell_type": "code",
   "execution_count": null,
   "metadata": {},
   "outputs": [],
   "source": [
    "canonical_smiles_data.to_csv('../data/integrated_dataset.csv', index=False)"
   ]
  },
  {
   "cell_type": "code",
   "execution_count": null,
   "metadata": {},
   "outputs": [],
   "source": [
    "def remove_duplicates(data):\n",
    "    duplicates = data[data.duplicated(subset='smiles')]\n",
    "    result = data.drop_duplicates(subset='smiles', keep=False)#[~duplicates]\n",
    "    #for each unique smiles that has duplicates\n",
    "    for smiles in data[data.duplicated(subset='smiles')]['smiles'].unique():\n",
    "        dup_rows = data.loc[data['smiles'] == smiles]\n",
    "        if dup_rows['flashpoint'].unique().shape[0] == 1:\n",
    "            # remove all but one\n",
    "            result = result.append(dup_rows.iloc[0], sort=False)\n",
    "        else:\n",
    "            if dup_rows['flashpoint'].std() < 5:\n",
    "                # add 1 back\n",
    "                result = result.append(dup_rows.iloc[0], sort=False)\n",
    "    return result  \n",
    "            "
   ]
  },
  {
   "cell_type": "code",
   "execution_count": null,
   "metadata": {},
   "outputs": [],
   "source": [
    "pure_compounds = data.loc[data['pure substance'] == 1]\n",
    "pure_compounds.shape"
   ]
  },
  {
   "cell_type": "code",
   "execution_count": null,
   "metadata": {},
   "outputs": [],
   "source": [
    "data[data.duplicated(subset='smiles')].shape"
   ]
  },
  {
   "cell_type": "code",
   "execution_count": null,
   "metadata": {},
   "outputs": [],
   "source": [
    "data = data.loc[data['pure substance'] == 1]\n",
    "print(data.shape)\n",
    "no_dups = remove_duplicates(data)\n",
    "print(no_dups.shape)"
   ]
  },
  {
   "cell_type": "code",
   "execution_count": null,
   "metadata": {},
   "outputs": [],
   "source": [
    "no_dups[no_dups.duplicated(subset='smiles')]\n",
    "#no_dups.loc[no_dups['smiles'] == 'CC1=CCCC(=C)C2CC(C2CC1)(C)C']\n",
    "no_dups.to_csv('../data/integrated_dataset.csv', index=False)"
   ]
  },
  {
   "cell_type": "code",
   "execution_count": null,
   "metadata": {},
   "outputs": [],
   "source": [
    "result = data.drop_duplicates(subset='smiles', keep=False)\n",
    "result.shape"
   ]
  },
  {
   "cell_type": "code",
   "execution_count": null,
   "metadata": {},
   "outputs": [],
   "source": [
    "data[data.duplicated(subset='smiles')]['smiles'].unique()"
   ]
  },
  {
   "cell_type": "markdown",
   "metadata": {},
   "source": [
    "### Hazardous Materials"
   ]
  },
  {
   "cell_type": "code",
   "execution_count": null,
   "metadata": {},
   "outputs": [],
   "source": [
    "data = pd.read_csv('../data/hazardous_materials.csv')\n",
    "haz = data[['Common name', 'Data type', 'Measurement name', 'Measurement value', 'Measurement units']]"
   ]
  },
  {
   "cell_type": "code",
   "execution_count": null,
   "metadata": {},
   "outputs": [],
   "source": [
    "flashpoints = haz.loc[haz['Measurement name'] == 'Flash point']"
   ]
  },
  {
   "cell_type": "code",
   "execution_count": null,
   "metadata": {},
   "outputs": [],
   "source": [
    "print(list(flashpoints))"
   ]
  },
  {
   "cell_type": "code",
   "execution_count": null,
   "metadata": {},
   "outputs": [],
   "source": [
    "flashpoints['smiles'] = flashpoints['Common name'].apply(get_smiles)"
   ]
  },
  {
   "cell_type": "code",
   "execution_count": 12,
   "metadata": {},
   "outputs": [],
   "source": []
  },
  {
   "cell_type": "code",
   "execution_count": null,
   "metadata": {},
   "outputs": [],
   "source": [
    "flashpoints = flashpoints[~flashpoints['Measurement value'].str.contains('<')]\n",
    "flashpoints = flashpoints[~flashpoints['Measurement value'].str.contains('>')]\n",
    "flashpoints = flashpoints[~flashpoints['Measurement value'].str.contains('~')]\n",
    "pattern = '\\\\w+-\\\\w'\n",
    "flashpoints['Measurement value'] = flashpoints['Measurement value'].str.replace(pattern, 'none', regex=True)\n",
    "#flashpoints = flashpoints[~flashpoints['Measurement value'].str.contains('none')]\n",
    "flashpoints['Measurement value'] = pd.to_numeric(flashpoints['Measurement value'], errors='coerce')\n",
    "\n",
    "flashpoints.head()"
   ]
  },
  {
   "cell_type": "code",
   "execution_count": null,
   "metadata": {},
   "outputs": [],
   "source": [
    "flashpoints['flashpoint'] = flashpoints['Measurement value'].apply(celsiusToKelvin)\n",
    "flashpoints.drop(columns=['Measurement name','Data type', 'Measurement units', 'Measurement value'], inplace=True)\n",
    "#flashpoints.rename(columns={'Common name' : 'compound', 'Measurement value' : 'flashpoint'}, inplace=True)"
   ]
  },
  {
   "cell_type": "code",
   "execution_count": null,
   "metadata": {},
   "outputs": [],
   "source": [
    "flashpoints.dropna(inplace=True)\n",
    "flashpoints.rename(columns={'Common name' : 'compound'}, inplace=True)\n",
    "#flashpoints.drop(df.columns[i], axis=1)\n",
    "flashpoints['pure substance'] = 1\n",
    "flashpoints['source'] = 'hazardous materials'\n",
    "hazardous_mat = flashpoints[['compound', 'flashpoint', 'pure substance', 'smiles', 'source']]\n",
    "hazardous_mat.shape"
   ]
  },
  {
   "cell_type": "code",
   "execution_count": null,
   "metadata": {},
   "outputs": [],
   "source": [
    "hazardous_mat.head()"
   ]
  },
  {
   "cell_type": "code",
   "execution_count": null,
   "metadata": {},
   "outputs": [],
   "source": [
    "#data = pd.read_csv('../data/integrated_dataset.csv')\n",
    "#frames = [data, hazardous_mat]\n",
    "#result = pd.concat(frames)\n",
    "no_dups = remove_duplicates(result)\n",
    "print(result.shape)\n",
    "print(no_dups.shape)\n",
    "#no_dups.to_csv('../data/integrated_dataset.csv', index=False)"
   ]
  },
  {
   "cell_type": "markdown",
   "metadata": {},
   "source": [
    "## Le 2015"
   ]
  },
  {
   "cell_type": "code",
   "execution_count": 79,
   "metadata": {},
   "outputs": [],
   "source": [
    "og_le15 = pd.read_csv('../data/le15.csv')\n",
    "og_le15_2 = pd.read_csv('../data/le15_2.csv')\n",
    "#le15.rename(columns={\"MolID\" : \"compound\", \"FP\" : \"flashpoint\"}, inplace=True)\n",
    "#print(le15.head())\n",
    "#print(le15_2.head())"
   ]
  },
  {
   "cell_type": "code",
   "execution_count": 71,
   "metadata": {},
   "outputs": [],
   "source": [
    "le15['flashpoint'] = le15['flashpoint'].apply(celsiusToKelvin)\n",
    "le15_2['flashpoint'] = le15_2['flashpoint'].apply(celsiusToKelvin)"
   ]
  },
  {
   "cell_type": "code",
   "execution_count": 72,
   "metadata": {},
   "outputs": [],
   "source": [
    "le15['smiles'] = le15['compound'].apply(get_smiles)\n",
    "le15_2['smiles'] = le15_2['compound'].apply(get_smiles)"
   ]
  },
  {
   "cell_type": "code",
   "execution_count": 81,
   "metadata": {},
   "outputs": [
    {
     "data": {
      "text/html": [
       "<div>\n",
       "<style scoped>\n",
       "    .dataframe tbody tr th:only-of-type {\n",
       "        vertical-align: middle;\n",
       "    }\n",
       "\n",
       "    .dataframe tbody tr th {\n",
       "        vertical-align: top;\n",
       "    }\n",
       "\n",
       "    .dataframe thead th {\n",
       "        text-align: right;\n",
       "    }\n",
       "</style>\n",
       "<table border=\"1\" class=\"dataframe\">\n",
       "  <thead>\n",
       "    <tr style=\"text-align: right;\">\n",
       "      <th></th>\n",
       "      <th>compound</th>\n",
       "      <th>flashpoint</th>\n",
       "      <th>smiles</th>\n",
       "    </tr>\n",
       "  </thead>\n",
       "  <tbody>\n",
       "    <tr>\n",
       "      <th>0</th>\n",
       "      <td>(4-bromophenyl)urea</td>\n",
       "      <td>402.85</td>\n",
       "      <td>NC(=O)Nc1ccc(Br)cc1</td>\n",
       "    </tr>\n",
       "    <tr>\n",
       "      <th>1</th>\n",
       "      <td>[dimethyl(trimethylsilyloxy)silyl]oxy-dimethyl...</td>\n",
       "      <td>361.25</td>\n",
       "      <td>C[Si](C)(C)O[Si](C)(C)O[Si](C)(C)O[Si](C)(C)C</td>\n",
       "    </tr>\n",
       "    <tr>\n",
       "      <th>2</th>\n",
       "      <td>1,1,3,3-tetraethylurea</td>\n",
       "      <td>360.15</td>\n",
       "      <td>CCN(CC)C(=O)N(CC)CC</td>\n",
       "    </tr>\n",
       "    <tr>\n",
       "      <th>3</th>\n",
       "      <td>1,1,3-trimethylurea</td>\n",
       "      <td>367.55</td>\n",
       "      <td>CNC(=O)N(C)C</td>\n",
       "    </tr>\n",
       "    <tr>\n",
       "      <th>4</th>\n",
       "      <td>1,2-dihydroAcenaphthalene120oC</td>\n",
       "      <td>393.15</td>\n",
       "      <td>None</td>\n",
       "    </tr>\n",
       "  </tbody>\n",
       "</table>\n",
       "</div>"
      ],
      "text/plain": [
       "                                            compound  flashpoint  \\\n",
       "0                                (4-bromophenyl)urea      402.85   \n",
       "1  [dimethyl(trimethylsilyloxy)silyl]oxy-dimethyl...      361.25   \n",
       "2                             1,1,3,3-tetraethylurea      360.15   \n",
       "3                                1,1,3-trimethylurea      367.55   \n",
       "4                     1,2-dihydroAcenaphthalene120oC      393.15   \n",
       "\n",
       "                                          smiles  \n",
       "0                            NC(=O)Nc1ccc(Br)cc1  \n",
       "1  C[Si](C)(C)O[Si](C)(C)O[Si](C)(C)O[Si](C)(C)C  \n",
       "2                            CCN(CC)C(=O)N(CC)CC  \n",
       "3                                   CNC(=O)N(C)C  \n",
       "4                                           None  "
      ]
     },
     "execution_count": 81,
     "metadata": {},
     "output_type": "execute_result"
    }
   ],
   "source": [
    "le15['flashpoint'] = og_le15['flashpoint'].apply(celsiusToKelvin)\n",
    "le15_2['flashpoint'] = og_le15_2['flashpoint'].apply(celsiusToKelvin)\n",
    "le15_2.head()"
   ]
  },
  {
   "cell_type": "code",
   "execution_count": 82,
   "metadata": {},
   "outputs": [],
   "source": [
    "le15_smiles = le15[le15.smiles.isnull() == False]\n",
    "le15_2_smiles = le15_2[le15_2.smiles.isnull() == False]\n",
    "le15_no_smiles = le15[le15.smiles.isnull() == True]\n",
    "le15_2_no_smiles = le15_2[le15_2.smiles.isnull() == True]"
   ]
  },
  {
   "cell_type": "code",
   "execution_count": 204,
   "metadata": {},
   "outputs": [],
   "source": [
    "def clean_string(string):\n",
    "    #remove ending number\n",
    "    if ',' in string:\n",
    "        return string\n",
    "    pat = r'\\w+\\D'\n",
    "    prog = re.compile(pat)\n",
    "    match = prog.match(string)\n",
    "    if match != None:\n",
    "        string = match.group(0)\n",
    "    #remove [0-9]{1,2}oC\n",
    "    string = re.sub(r'[0-9]{1,2}oC', '', string)\n",
    "    #add , to [0-9]{2}\n",
    "    pat2 = r'^[0-9]{2}'\n",
    "    if re.search(pat2, string) != None:\n",
    "        string = string[0] + ',' + string[1:len(string)]\n",
    "    return string\n",
    "    #else:\n",
    "    #    return string"
   ]
  },
  {
   "cell_type": "code",
   "execution_count": 209,
   "metadata": {},
   "outputs": [
    {
     "name": "stdout",
     "output_type": "stream",
     "text": [
      "(2073, 4)\n"
     ]
    },
    {
     "name": "stderr",
     "output_type": "stream",
     "text": [
      "C:\\Users\\Nathaniel\\Miniconda3\\envs\\moleprop\\lib\\site-packages\\ipykernel_launcher.py:2: SettingWithCopyWarning: \n",
      "A value is trying to be set on a copy of a slice from a DataFrame.\n",
      "Try using .loc[row_indexer,col_indexer] = value instead\n",
      "\n",
      "See the caveats in the documentation: http://pandas.pydata.org/pandas-docs/stable/indexing.html#indexing-view-versus-copy\n",
      "  \n",
      "C:\\Users\\Nathaniel\\Miniconda3\\envs\\moleprop\\lib\\site-packages\\ipykernel_launcher.py:3: SettingWithCopyWarning: \n",
      "A value is trying to be set on a copy of a slice from a DataFrame.\n",
      "Try using .loc[row_indexer,col_indexer] = value instead\n",
      "\n",
      "See the caveats in the documentation: http://pandas.pydata.org/pandas-docs/stable/indexing.html#indexing-view-versus-copy\n",
      "  This is separate from the ipykernel package so we can avoid doing imports until\n",
      "C:\\Users\\Nathaniel\\Miniconda3\\envs\\moleprop\\lib\\site-packages\\ipykernel_launcher.py:4: SettingWithCopyWarning: \n",
      "A value is trying to be set on a copy of a slice from a DataFrame.\n",
      "Try using .loc[row_indexer,col_indexer] = value instead\n",
      "\n",
      "See the caveats in the documentation: http://pandas.pydata.org/pandas-docs/stable/indexing.html#indexing-view-versus-copy\n",
      "  after removing the cwd from sys.path.\n"
     ]
    }
   ],
   "source": [
    "print(le15_no_smiles.shape)\n",
    "le15_no_smiles['cleaned_compound'] = ''\n",
    "le15_no_smiles['cleaned_compound'] = le15_no_smiles['compound'].apply(clean_string)\n",
    "le15_no_smiles['smiles'] = le15_no_smiles['cleaned_compound'].apply(get_smiles)"
   ]
  },
  {
   "cell_type": "code",
   "execution_count": 214,
   "metadata": {},
   "outputs": [
    {
     "name": "stdout",
     "output_type": "stream",
     "text": [
      "(1483, 3)\n"
     ]
    },
    {
     "name": "stderr",
     "output_type": "stream",
     "text": [
      "C:\\Users\\Nathaniel\\Miniconda3\\envs\\moleprop\\lib\\site-packages\\ipykernel_launcher.py:2: SettingWithCopyWarning: \n",
      "A value is trying to be set on a copy of a slice from a DataFrame.\n",
      "Try using .loc[row_indexer,col_indexer] = value instead\n",
      "\n",
      "See the caveats in the documentation: http://pandas.pydata.org/pandas-docs/stable/indexing.html#indexing-view-versus-copy\n",
      "  \n",
      "C:\\Users\\Nathaniel\\Miniconda3\\envs\\moleprop\\lib\\site-packages\\ipykernel_launcher.py:3: SettingWithCopyWarning: \n",
      "A value is trying to be set on a copy of a slice from a DataFrame.\n",
      "Try using .loc[row_indexer,col_indexer] = value instead\n",
      "\n",
      "See the caveats in the documentation: http://pandas.pydata.org/pandas-docs/stable/indexing.html#indexing-view-versus-copy\n",
      "  This is separate from the ipykernel package so we can avoid doing imports until\n",
      "C:\\Users\\Nathaniel\\Miniconda3\\envs\\moleprop\\lib\\site-packages\\ipykernel_launcher.py:4: SettingWithCopyWarning: \n",
      "A value is trying to be set on a copy of a slice from a DataFrame.\n",
      "Try using .loc[row_indexer,col_indexer] = value instead\n",
      "\n",
      "See the caveats in the documentation: http://pandas.pydata.org/pandas-docs/stable/indexing.html#indexing-view-versus-copy\n",
      "  after removing the cwd from sys.path.\n"
     ]
    }
   ],
   "source": [
    "print(le15_2_no_smiles.shape)\n",
    "le15_2_no_smiles['cleaned_compound'] = ''\n",
    "le15_2_no_smiles['cleaned_compound'] = le15_2_no_smiles['compound'].apply(clean_string)\n",
    "le15_2_no_smiles['smiles'] = le15_2_no_smiles['cleaned_compound'].apply(get_smiles)"
   ]
  },
  {
   "cell_type": "code",
   "execution_count": 217,
   "metadata": {},
   "outputs": [
    {
     "name": "stdout",
     "output_type": "stream",
     "text": [
      "(1517, 4)\n"
     ]
    },
    {
     "name": "stderr",
     "output_type": "stream",
     "text": [
      "C:\\Users\\Nathaniel\\Miniconda3\\envs\\moleprop\\lib\\site-packages\\ipykernel_launcher.py:1: SettingWithCopyWarning: \n",
      "A value is trying to be set on a copy of a slice from a DataFrame\n",
      "\n",
      "See the caveats in the documentation: http://pandas.pydata.org/pandas-docs/stable/indexing.html#indexing-view-versus-copy\n",
      "  \"\"\"Entry point for launching an IPython kernel.\n",
      "C:\\Users\\Nathaniel\\Miniconda3\\envs\\moleprop\\lib\\site-packages\\ipykernel_launcher.py:2: SettingWithCopyWarning: \n",
      "A value is trying to be set on a copy of a slice from a DataFrame\n",
      "\n",
      "See the caveats in the documentation: http://pandas.pydata.org/pandas-docs/stable/indexing.html#indexing-view-versus-copy\n",
      "  \n"
     ]
    }
   ],
   "source": [
    "le15_2_no_smiles.dropna(inplace=True)\n",
    "le15_no_smiles.dropna(inplace=True)\n",
    "frames = [le15_2_no_smiles, le15_no_smiles]\n",
    "le_reclaimed = pd.concat(frames)\n",
    "print(le_reclaimed.shape)"
   ]
  },
  {
   "cell_type": "code",
   "execution_count": 221,
   "metadata": {},
   "outputs": [],
   "source": [
    "le_reclaimed.drop(columns=['compound'], inplace=True)\n",
    "le_reclaimed.rename(columns={'cleaned_compound' : 'compound'}, inplace=True)\n",
    "le_reclaimed['source'] = 'le15'\n",
    "le_reclaimed['pure substance'] = 1\n",
    "le_reclaimed = le_reclaimed[['smiles', 'compound', 'flashpoint', 'source', 'pure substance']]"
   ]
  },
  {
   "cell_type": "code",
   "execution_count": 233,
   "metadata": {},
   "outputs": [
    {
     "data": {
      "text/html": [
       "<div>\n",
       "<style scoped>\n",
       "    .dataframe tbody tr th:only-of-type {\n",
       "        vertical-align: middle;\n",
       "    }\n",
       "\n",
       "    .dataframe tbody tr th {\n",
       "        vertical-align: top;\n",
       "    }\n",
       "\n",
       "    .dataframe thead th {\n",
       "        text-align: right;\n",
       "    }\n",
       "</style>\n",
       "<table border=\"1\" class=\"dataframe\">\n",
       "  <thead>\n",
       "    <tr style=\"text-align: right;\">\n",
       "      <th></th>\n",
       "      <th>smiles</th>\n",
       "      <th>compound</th>\n",
       "      <th>flashpoint</th>\n",
       "      <th>source</th>\n",
       "      <th>pure substance</th>\n",
       "    </tr>\n",
       "  </thead>\n",
       "  <tbody>\n",
       "  </tbody>\n",
       "</table>\n",
       "</div>"
      ],
      "text/plain": [
       "Empty DataFrame\n",
       "Columns: [smiles, compound, flashpoint, source, pure substance]\n",
       "Index: []"
      ]
     },
     "execution_count": 233,
     "metadata": {},
     "output_type": "execute_result"
    }
   ],
   "source": [
    "le_reclaimed#.head()\n",
    "all_data[all_data['smiles'] == 'Cl[Si](Cl)(Cl)C(Br)CBr']"
   ]
  },
  {
   "cell_type": "code",
   "execution_count": 224,
   "metadata": {},
   "outputs": [
    {
     "name": "stdout",
     "output_type": "stream",
     "text": [
      "(10459,)\n"
     ]
    }
   ],
   "source": [
    "all_data = pd.read_csv('../data/integrated_dataset.csv')\n",
    "print(all_data['smiles'].unique().shape)"
   ]
  },
  {
   "cell_type": "code",
   "execution_count": 235,
   "metadata": {},
   "outputs": [
    {
     "data": {
      "text/plain": [
       "(10581,)"
      ]
     },
     "execution_count": 235,
     "metadata": {},
     "output_type": "execute_result"
    }
   ],
   "source": [
    "#frames = [all_data, le_reclaimed]\n",
    "#result = pd.concat(frames)\n",
    "result.smiles.unique().shape\n",
    "#result.to_csv('../data/integrated_dataset.csv', index=False)"
   ]
  },
  {
   "cell_type": "code",
   "execution_count": 78,
   "metadata": {},
   "outputs": [
    {
     "name": "stdout",
     "output_type": "stream",
     "text": [
      "['smiles', 'compound', 'flashpoint', 'source', 'pure substance']\n"
     ]
    }
   ],
   "source": [
    "le15_smiles['source'] = 'le15'\n",
    "le15_smiles['pure substance'] = 1\n",
    "le15_smiles = le15_smiles[['smiles', 'compound', 'flashpoint', 'source', 'pure substance']]\n",
    "le15_smiles['flashpoint'] = le15_smiles['flashpoint'].apply(celsiusToKelvin) \n",
    "print(list(le15_smiles))"
   ]
  },
  {
   "cell_type": "code",
   "execution_count": 79,
   "metadata": {},
   "outputs": [
    {
     "data": {
      "text/plain": [
       "(10017,)"
      ]
     },
     "execution_count": 79,
     "metadata": {},
     "output_type": "execute_result"
    }
   ],
   "source": [
    "frames = [all_data, le15_smiles]\n",
    "result = pd.concat(frames)\n",
    "result.smiles.unique().shape"
   ]
  },
  {
   "cell_type": "code",
   "execution_count": 93,
   "metadata": {},
   "outputs": [
    {
     "data": {
      "text/plain": [
       "array(['pubchem', 'carroll11', 'chen14', 'Saldana11', 'gelest_germanium',\n",
       "       'gelest_metal-organics', 'pan12', 'gelest_silanes', 'gelest_tin',\n",
       "       'hazardous materials', 'le15'], dtype=object)"
      ]
     },
     "execution_count": 93,
     "metadata": {},
     "output_type": "execute_result"
    }
   ],
   "source": [
    "result['source'].unique()"
   ]
  },
  {
   "cell_type": "code",
   "execution_count": 89,
   "metadata": {},
   "outputs": [],
   "source": [
    "test = result.drop_duplicates(subset='smiles', keep='first')\n",
    "test.shape\n",
    "test = test[['smiles', 'flashpoint']]\n",
    "test.to_csv('all_fp.csv', index=False)"
   ]
  },
  {
   "cell_type": "code",
   "execution_count": 3,
   "metadata": {},
   "outputs": [],
   "source": [
    "#result[result['source'] == 'le15'].head()\n",
    "result = pd.read_csv('../data/integrated_dataset.csv')"
   ]
  },
  {
   "cell_type": "markdown",
   "metadata": {},
   "source": [
    "### Wang11"
   ]
  },
  {
   "cell_type": "code",
   "execution_count": 6,
   "metadata": {},
   "outputs": [
    {
     "name": "stdout",
     "output_type": "stream",
     "text": [
      "(230, 2)\n"
     ]
    }
   ],
   "source": [
    "wang = pd.read_csv('../data/wang11.csv')\n",
    "wang.head()\n",
    "print(wang.shape)"
   ]
  },
  {
   "cell_type": "code",
   "execution_count": 7,
   "metadata": {},
   "outputs": [
    {
     "data": {
      "text/html": [
       "<div>\n",
       "<style scoped>\n",
       "    .dataframe tbody tr th:only-of-type {\n",
       "        vertical-align: middle;\n",
       "    }\n",
       "\n",
       "    .dataframe tbody tr th {\n",
       "        vertical-align: top;\n",
       "    }\n",
       "\n",
       "    .dataframe thead th {\n",
       "        text-align: right;\n",
       "    }\n",
       "</style>\n",
       "<table border=\"1\" class=\"dataframe\">\n",
       "  <thead>\n",
       "    <tr style=\"text-align: right;\">\n",
       "      <th></th>\n",
       "      <th>compound</th>\n",
       "      <th>flashpoint</th>\n",
       "      <th>smiles</th>\n",
       "    </tr>\n",
       "  </thead>\n",
       "  <tbody>\n",
       "    <tr>\n",
       "      <th>0</th>\n",
       "      <td>Methyltrichlorosilane</td>\n",
       "      <td>276.15</td>\n",
       "      <td>C[Si](Cl)(Cl)Cl</td>\n",
       "    </tr>\n",
       "    <tr>\n",
       "      <th>1</th>\n",
       "      <td>Vinyltrichlorosilane</td>\n",
       "      <td>294.15</td>\n",
       "      <td>C=C[Si](Cl)(Cl)Cl</td>\n",
       "    </tr>\n",
       "    <tr>\n",
       "      <th>2</th>\n",
       "      <td>Dichloromethylmethyldichlorosilane</td>\n",
       "      <td>301.15</td>\n",
       "      <td>C[Si](Cl)(Cl)C(Cl)Cl</td>\n",
       "    </tr>\n",
       "    <tr>\n",
       "      <th>3</th>\n",
       "      <td>Ethyltrichlorosilane</td>\n",
       "      <td>263.15</td>\n",
       "      <td>CC[Si](Cl)(Cl)Cl</td>\n",
       "    </tr>\n",
       "    <tr>\n",
       "      <th>4</th>\n",
       "      <td>Dimethylchlorosilane</td>\n",
       "      <td>245.15</td>\n",
       "      <td>C[SiH](C)Cl</td>\n",
       "    </tr>\n",
       "  </tbody>\n",
       "</table>\n",
       "</div>"
      ],
      "text/plain": [
       "                             compound  flashpoint                smiles\n",
       "0               Methyltrichlorosilane      276.15       C[Si](Cl)(Cl)Cl\n",
       "1                Vinyltrichlorosilane      294.15     C=C[Si](Cl)(Cl)Cl\n",
       "2  Dichloromethylmethyldichlorosilane      301.15  C[Si](Cl)(Cl)C(Cl)Cl\n",
       "3                Ethyltrichlorosilane      263.15      CC[Si](Cl)(Cl)Cl\n",
       "4                Dimethylchlorosilane      245.15           C[SiH](C)Cl"
      ]
     },
     "execution_count": 7,
     "metadata": {},
     "output_type": "execute_result"
    }
   ],
   "source": [
    "wang['smiles'] = wang['compound'].apply(get_smiles)\n",
    "wang.head()"
   ]
  },
  {
   "cell_type": "code",
   "execution_count": 8,
   "metadata": {},
   "outputs": [
    {
     "data": {
      "text/plain": [
       "(210, 3)"
      ]
     },
     "execution_count": 8,
     "metadata": {},
     "output_type": "execute_result"
    }
   ],
   "source": [
    "wang[wang['smiles'].isnull() == False].shape"
   ]
  },
  {
   "cell_type": "code",
   "execution_count": 9,
   "metadata": {},
   "outputs": [
    {
     "data": {
      "text/plain": [
       "(210, 3)"
      ]
     },
     "execution_count": 9,
     "metadata": {},
     "output_type": "execute_result"
    }
   ],
   "source": [
    "wang.dropna(inplace=True)\n",
    "wang.shape"
   ]
  },
  {
   "cell_type": "code",
   "execution_count": 11,
   "metadata": {},
   "outputs": [
    {
     "name": "stdout",
     "output_type": "stream",
     "text": [
      "['smiles', 'compound', 'flashpoint', 'source', 'pure substance']\n",
      "['compound', 'flashpoint', 'smiles', 'pure substance', 'source']\n"
     ]
    }
   ],
   "source": [
    "wang['pure substance'] = 1\n",
    "wang['source'] = 'wang11'\n",
    "print(list(integrated_data))\n",
    "print(list(wang))"
   ]
  },
  {
   "cell_type": "code",
   "execution_count": 12,
   "metadata": {},
   "outputs": [],
   "source": [
    "wang = wang[['smiles', 'compound', 'flashpoint', 'source', 'pure substance']]"
   ]
  },
  {
   "cell_type": "code",
   "execution_count": 14,
   "metadata": {},
   "outputs": [
    {
     "data": {
      "text/plain": [
       "(10158,)"
      ]
     },
     "execution_count": 14,
     "metadata": {},
     "output_type": "execute_result"
    }
   ],
   "source": [
    "frames = [integrated_data, wang]\n",
    "integrated_data = pd.concat(frames)\n",
    "integrated_data['smiles'].unique().shape"
   ]
  },
  {
   "cell_type": "markdown",
   "metadata": {},
   "source": [
    "### Didier14"
   ]
  },
  {
   "cell_type": "code",
   "execution_count": 16,
   "metadata": {},
   "outputs": [
    {
     "name": "stdout",
     "output_type": "stream",
     "text": [
      "(1457, 4)\n",
      "['CASRN', 'Name', 'calc.', 'exp.', 'smiles', 'source', 'pure substance']\n"
     ]
    }
   ],
   "source": [
    "didier14 = pd.read_csv('../data/didier14.csv')\n",
    "didier14.dropna(inplace=True)\n",
    "print(didier14.shape)\n",
    "didier14['smiles'] = didier14['Name'].apply(get_smiles)\n",
    "didier14['source'] = 'didier14'\n",
    "didier14['pure substance'] = 1\n",
    "print(list(didier14))"
   ]
  },
  {
   "cell_type": "code",
   "execution_count": 89,
   "metadata": {},
   "outputs": [
    {
     "name": "stdout",
     "output_type": "stream",
     "text": [
      "(1457, 7)\n",
      "(1328, 7)\n"
     ]
    }
   ],
   "source": [
    "didier14.dropna(inplace=True)\n",
    "print(didier14.shape)"
   ]
  },
  {
   "cell_type": "code",
   "execution_count": 17,
   "metadata": {},
   "outputs": [],
   "source": [
    "didier14.rename(index=str, columns={'Name' : 'compound', 'exp.' : 'flashpoint'}, inplace=True)\n",
    "didier14.drop(columns=['CASRN', 'calc.'])\n",
    "didier14 = didier14[['smiles', 'compound', 'flashpoint', 'source', 'pure substance']]"
   ]
  },
  {
   "cell_type": "code",
   "execution_count": 18,
   "metadata": {},
   "outputs": [
    {
     "data": {
      "text/plain": [
       "(10403,)"
      ]
     },
     "execution_count": 18,
     "metadata": {},
     "output_type": "execute_result"
    }
   ],
   "source": [
    "frames = [integrated_data, didier14]\n",
    "integrated_data = pd.concat(frames)\n",
    "integrated_data['smiles'].unique().shape"
   ]
  },
  {
   "cell_type": "code",
   "execution_count": 84,
   "metadata": {},
   "outputs": [],
   "source": [
    "smi = Chem.MolToSmiles(Chem.MolFromSmiles('ClC(C)CCC(C)C'))\n",
    "#result[result['smiles'] == smi]"
   ]
  },
  {
   "cell_type": "code",
   "execution_count": 85,
   "metadata": {},
   "outputs": [
    {
     "data": {
      "text/html": [
       "<div>\n",
       "<style scoped>\n",
       "    .dataframe tbody tr th:only-of-type {\n",
       "        vertical-align: middle;\n",
       "    }\n",
       "\n",
       "    .dataframe tbody tr th {\n",
       "        vertical-align: top;\n",
       "    }\n",
       "\n",
       "    .dataframe thead th {\n",
       "        text-align: right;\n",
       "    }\n",
       "</style>\n",
       "<table border=\"1\" class=\"dataframe\">\n",
       "  <thead>\n",
       "    <tr style=\"text-align: right;\">\n",
       "      <th></th>\n",
       "      <th>smiles</th>\n",
       "      <th>compound</th>\n",
       "      <th>flashpoint</th>\n",
       "      <th>source</th>\n",
       "      <th>pure substance</th>\n",
       "    </tr>\n",
       "  </thead>\n",
       "  <tbody>\n",
       "  </tbody>\n",
       "</table>\n",
       "</div>"
      ],
      "text/plain": [
       "Empty DataFrame\n",
       "Columns: [smiles, compound, flashpoint, source, pure substance]\n",
       "Index: []"
      ]
     },
     "execution_count": 85,
     "metadata": {},
     "output_type": "execute_result"
    }
   ],
   "source": [
    "combined[combined['smiles'] == smi]"
   ]
  },
  {
   "cell_type": "markdown",
   "metadata": {},
   "source": [
    "### Yong_Pan07"
   ]
  },
  {
   "cell_type": "code",
   "execution_count": 21,
   "metadata": {},
   "outputs": [
    {
     "name": "stdout",
     "output_type": "stream",
     "text": [
      "(92, 5)\n",
      "['No.', 'Compound', 'Experimental FP (K)', 'Predicted FP (K)', 'Deviation (K)']\n"
     ]
    }
   ],
   "source": [
    "pan07 = pd.read_csv('../data/yong_pan07.csv')\n",
    "print(pan07.shape)\n",
    "print(list(pan07))"
   ]
  },
  {
   "cell_type": "code",
   "execution_count": 23,
   "metadata": {},
   "outputs": [
    {
     "name": "stdout",
     "output_type": "stream",
     "text": [
      "(92, 8)\n",
      "['No.', 'Compound', 'Experimental FP (K)', 'Predicted FP (K)', 'Deviation (K)', 'smiles', 'source', 'pure substance']\n",
      "['smiles', 'compound', 'flashpoint', 'source', 'pure substance']\n"
     ]
    }
   ],
   "source": [
    "pan07['smiles'] = pan07['Compound'].apply(get_smiles)\n",
    "pan07.dropna(inplace=True)\n",
    "print(pan07.shape)\n",
    "pan07['source'] = 'pan07'\n",
    "pan07['pure substance'] = 1\n",
    "print(list(pan07))\n",
    "print(list(integrated_data))"
   ]
  },
  {
   "cell_type": "code",
   "execution_count": 24,
   "metadata": {},
   "outputs": [],
   "source": [
    "pan07.rename(index=str, columns={'Compound' : 'compound', 'Experimental FP (K)' : 'flashpoint'}, inplace=True)\n",
    "pan07.drop(columns=['No.', 'Predicted FP (K)', 'Deviation (K)'])\n",
    "pan07 = pan07[['smiles', 'compound', 'flashpoint', 'source', 'pure substance']]"
   ]
  },
  {
   "cell_type": "code",
   "execution_count": 25,
   "metadata": {},
   "outputs": [
    {
     "data": {
      "text/plain": [
       "(10403,)"
      ]
     },
     "execution_count": 25,
     "metadata": {},
     "output_type": "execute_result"
    }
   ],
   "source": [
    "frames = [integrated_data, pan07]\n",
    "integrated_data = pd.concat(frames)\n",
    "integrated_data['smiles'].unique().shape"
   ]
  },
  {
   "cell_type": "markdown",
   "metadata": {},
   "source": [
    "### carroll15"
   ]
  },
  {
   "cell_type": "code",
   "execution_count": 26,
   "metadata": {},
   "outputs": [
    {
     "name": "stdout",
     "output_type": "stream",
     "text": [
      "(82, 4)\n",
      "['Entry', 'Compound', 'Y BP Pred.', 'T FP (K) Lit.']\n"
     ]
    }
   ],
   "source": [
    "carroll15 = pd.read_csv('../data/carroll15.csv')\n",
    "print(carroll15.shape)\n",
    "print(list(carroll15))"
   ]
  },
  {
   "cell_type": "code",
   "execution_count": 27,
   "metadata": {},
   "outputs": [
    {
     "name": "stdout",
     "output_type": "stream",
     "text": [
      "(81, 5)\n",
      "['Entry', 'Compound', 'Y BP Pred.', 'T FP (K) Lit.', 'smiles', 'source', 'pure substance']\n",
      "['smiles', 'compound', 'flashpoint', 'source', 'pure substance']\n"
     ]
    }
   ],
   "source": [
    "carroll15['smiles'] = carroll15['Compound'].apply(get_smiles)\n",
    "carroll15.dropna(inplace=True)\n",
    "print(carroll15.shape)\n",
    "carroll15['source'] = 'caroll15'\n",
    "carroll15['pure substance'] = 1\n",
    "print(list(carroll15))\n",
    "print(list(integrated_data))"
   ]
  },
  {
   "cell_type": "code",
   "execution_count": 28,
   "metadata": {},
   "outputs": [],
   "source": [
    "carroll15.rename(index=str, columns={'Compound' : 'compound', 'T FP (K) Lit.' : 'flashpoint'}, inplace=True)\n",
    "carroll15.drop(columns=['Entry', 'Y BP Pred.'])\n",
    "carroll15 = carroll15[['smiles', 'compound', 'flashpoint', 'source', 'pure substance']]"
   ]
  },
  {
   "cell_type": "code",
   "execution_count": 29,
   "metadata": {},
   "outputs": [
    {
     "data": {
      "text/plain": [
       "(10461,)"
      ]
     },
     "execution_count": 29,
     "metadata": {},
     "output_type": "execute_result"
    }
   ],
   "source": [
    "frames = [integrated_data, carroll15]\n",
    "integrated_data = pd.concat(frames)\n",
    "integrated_data['smiles'].unique().shape"
   ]
  },
  {
   "cell_type": "markdown",
   "metadata": {},
   "source": [
    "### Didier12"
   ]
  },
  {
   "cell_type": "code",
   "execution_count": 36,
   "metadata": {},
   "outputs": [
    {
     "name": "stdout",
     "output_type": "stream",
     "text": [
      "(230, 2)\n",
      "['Molecule', 'Exp.(K)']\n"
     ]
    }
   ],
   "source": [
    "didier12 = pd.read_csv('../data/didier12.csv')\n",
    "didier12 = didier12[['Molecule', 'Exp.(K)']]\n",
    "print(didier12.shape)\n",
    "print(list(didier12))"
   ]
  },
  {
   "cell_type": "code",
   "execution_count": 37,
   "metadata": {},
   "outputs": [
    {
     "name": "stdout",
     "output_type": "stream",
     "text": [
      "Methyltrichlorosilane\n",
      "Vinyltrichlorosilane\n",
      "Dichloromethylmethyldichlorosilane\n",
      "Ethyltrichlorosilane\n",
      "Dimethylchlorosilane\n",
      "Ethylsilane\n",
      "1,1,1-Trifluoropropyltrichlorosilane\n",
      "Allyltrichlorosilane\n",
      "Methylvinyldichlorosilane\n",
      "3-Chloropropyltrichlorosilane\n",
      "n-Propyltrichlorosilane\n",
      "Chloromethyldimethylchlorosilane\n",
      "Trimethylbromosilane\n",
      "Trimethylchlorosilane\n",
      "Trimethylfluorosilane\n",
      "Trimethoxysilane\n",
      "Cyanoethylmethyldichlorosilane\n",
      "Allylmethyldichlorosilane\n",
      "3-Chloropropylmethyldichlorosilane\n",
      "t-Butyltrichlorosilane\n",
      "Isobutyltrichlorosilane\n",
      "n-Butyltrichlorosilane\n",
      "Trimethylsilylisothiocyanate\n",
      "n-Propylmethyldichlorosilane\n",
      "Bromomethyltrimethylsilane\n",
      "Ethyldimethylchlorosilane\n",
      "Methoxytrimethylsilane\n",
      "Dimethyldimethoxysilane\n",
      "Methyltrimethoxysilane\n",
      "Tetramethoxysilane\n",
      "Tetramethylsilane\n",
      "Diethylsilane\n",
      "(N,N-Dimethylamino)dimethylsilane\n",
      "1,3,5,7-Tetramethylcyclotetrasiloxane\n",
      "Tetraisocyanatosilane\n",
      "Cyclopentyltrichlorosilane\n",
      "Trimethylsilyltrifluoroacetate\n",
      "Cyclopentyldichlorosilane\n",
      "n-Amyltrichlorosilane\n",
      "3-Chloro-2-methylpropylmethyldichlorosilane\n",
      "Methylvinyldimethoxysilane\n",
      "Vinyltrimethoxysilane\n",
      "Trimethylvinylsilane\n",
      "Cyclotrimethylenedimethylsilane\n",
      "Diethylmethylchlorosilane\n",
      "Chloromethyldimethylethoxysilane\n",
      "Ethoxytrimethylsilane\n",
      "Ethyltrimethoxysilane\n",
      "(N,N-Dimethylamino)trimethylsilane\n",
      "Pentamethyldisiloxane\n",
      "Phenyldichlorosilane\n",
      "Phenylsilane\n",
      "1-Hexenyltrichlorosilane\n",
      "Cyclohexyltrichlorosilane\n",
      "Bis(chloromethyl)tetramethyldisiloxane\n",
      "N-Methyl-N-trimethylsilyltrifluroacetamide\n",
      "Propargyloxytrimethylsilane\n",
      "Divinyldimethylsilane\n",
      "n-Hexyltrichlorosilane\n",
      "Hexyltriflurosilane\n",
      "n-Amylmethyldichlorosilane\n",
      "Hexyldichlorosilane\n",
      "1,1-Dimethyl-1-sila-2-oxacyclohexane\n",
      "Acetoxymethyltrimethylsilane\n",
      "Allyltrimethylsilane\n",
      "Cyclotetramethylenedimethylsilane\n",
      "Triethylchlorosilane\n",
      "t-Butyldimethylchlorosilane\n",
      "3-Chloropropylmethyldimethoxysilane\n",
      "Trimethyl-n-propoxysilane\n",
      "t-Butyldimethylsilanol\n",
      "Dimethyldiethoxysilane\n",
      "Triethylsilane\n",
      "Hexylsilane\n",
      "t-Butyldimethylsilane\n",
      "Bis(dimethylamino)dimethylsilane\n",
      "Hexamethylcyclotrisiloxane\n",
      "Hexamethyldisilthiane\n",
      "Hexamethyldisilazane\n",
      "Tris(dimethylamino)silane\n",
      "Hexamethyltrisiloxane\n",
      "p-Tolytrichlorosilane\n",
      "Phenylmethyldichlorosilane\n",
      "Phenylmethylchlorosilane\n",
      "Methyltriacetoxysilane\n",
      "Trivinylmethylsilane\n",
      "Cyclohexylmethyldichlorosilane\n",
      "1-(Trimethylsiloxy)-1,3-butadiene\n",
      "2-Chloromethyl-3-trimethylsilyl-1-propene\n",
      "n-Heptyltrichlorosilane\n",
      "n-Hexylmethyldichlorosilane\n",
      "Vinylmethyldiethoxysilane\n",
      "Ethyl(2-trimethylsilyl)acetate\n",
      "Cyclopentamethylenedimethylsilane\n",
      "N-(Trimethylsilyl)morpholine\n",
      "Bis(trimethylsily)carbodiimide\n",
      "t-Butoxytrimethylsilane\n",
      "Vinylpentamethyldisiloxane\n",
      "(1-Methoxy-2-propoxy)trimethylsilane\n",
      "Methyltriethoxysilane\n",
      "(Diethylamino)trimethylsilane\n",
      "Bis(trimethylsilyl)methane\n",
      "Heptamethyldisilazane\n",
      "Heptamethylsiloxane\n",
      "Phenylethyldichlorosilane\n",
      "Tetravinylsilane\n",
      "Phenyldimethylsilane\n",
      "Cyclopentadienyltrimethylsilane\n",
      "(Cyclopentenyloxy)trimethylsilane\n",
      "(2,4-Pentadienyl)trimethylsilane\n",
      "n-Octyltrichlorosilane\n",
      "n-Heptylmethyldichlorosilane\n",
      "Tetramethyldivinyldisiloxane\n",
      "Triethylacetoxysilane\n",
      "Vinyltriethoxysilane\n",
      "1,3-Divinyltetramethyldisilazane\n",
      "Diethyldiethoxysilane\n",
      "Tetraethoxysilane\n",
      "Tetraethylsilane\n",
      "Aminoethylaminopropyltrimethoxysilane\n",
      "Tetramethyldiethoxysiloxane\n",
      "Octamethyltrisiloxane\n",
      "Octamethylcyclotetrasiloxane\n",
      "Octamethylcyclotetrasilazane\n",
      "Tetrakisdimethylsiloxysilane\n",
      "p-Tolydimethylchlorosilane\n",
      "p-Chlorophenyltrimethylsilane\n",
      "Phenyltrimethoxysilane\n",
      "Trimethylphenylsilane\n",
      "Cyclohexylmethyldimethoxysilane\n",
      "Hexyltrimethoxysilane\n",
      "Triisopropylsilane\n",
      "Tri-n-propylsilane\n",
      "Tris(trimethylsioxy) boron\n",
      "Propyltris(dimethylsiloxy)silane\n",
      "Benzyltrimethylsilane\n",
      "3-Methacryloxypropyltrimethoxysilane\n",
      "1-Heptynyltrimethylsilane\n",
      "1,4-Divinyltetramethyldisilylethane\n",
      "n-Octyldimethylchlorosilane\n",
      "Bis(diethylamino)dimethylsilane\n",
      "Decamethyltetrasiloxane\n",
      "Decamethylcyclopentasiloxane\n",
      "2-(3,4-epoxycyclohexyl)ethyltrimethoxysilane\n",
      "n-Decylmethyldichlorosilane\n",
      "Vinyltriethylsilane\n",
      "Diphenyldichlorosilane\n",
      "Phenyltriethoxysilane\n",
      "Diphenylsilane\n",
      "Tetramethyltetravinylcyclotetrasilane\n",
      "n-Dodecyltrichlorosilane\n",
      "Tetra-n-propoxysilane\n",
      "Hexaethyldisiloxane\n",
      "Dodecamethylpentasiloxane\n",
      "Dodecamethylcyclohexasiloxane\n",
      "Methyldiphenylchlorosilane\n",
      "n-Dodecylmethyldichlorosilane\n",
      "Diphenyldimethoxysilane\n",
      "Octyltriethoxysilane\n",
      "Tetradecamethylhexasiloxane\n",
      "Hexadecamethylheptasiloxane\n",
      "n-0ctadecyltrichlorosilane\n",
      "Octadecamethyloctasiloxane\n",
      "Vinyltris(methoxyethoxy)silane\n",
      "Trimethyl(vinyloxy)silane\n",
      "Trichloro(3-cyanopropyl) Silane\n",
      "Trichloro(2-phenylethyl)silane\n",
      "Chlorodimethyl(3,3,3-trifluoropropyl) silane\n",
      "Vinylmethylbis (trimethylsiloxy) silane\n",
      "Trichloro(Chloromethyl) silane\n",
      "Dimethyl(pentafluorophenyl) silane\n",
      "Trichloro(p-chlorophenyl)silane\n",
      "Trisilane\n",
      "Trichlorononylsilane\n",
      "Dichloroethylsilane\n",
      "Trichloro(dichlorophenyl)silane\n",
      "Tris(trimethylsilyl)silane\n",
      "Tris(trimethylsiloxy)silane\n",
      "Hexadecyltrichlorosilane\n",
      "Flusilazol\n",
      "Dichloromethyl(2-tricyclo[3.3.1.1(3,7)-]dec-1-ylethyl) silane\n",
      "Dichlorosilane\n",
      "Methyldichlorosilane\n",
      "Iodotrimethylsilane\n",
      "Dimethyldichlorosilane\n",
      "Bromomethyldimethylchlorosilane\n",
      "Trimethylsilane\n",
      "Dimethylvinylchlorosilane\n",
      "1,3-Dichlorotetramethyldisiloxane\n",
      "1,1,3,3-Tetramethyldisiloxane\n",
      "Tetramethyldisilazane\n",
      "Allyldimethylchlorosilane\n",
      "sec-Amyltrichlorosilane\n",
      "n-Butylmethyldichlorosilane\n",
      "Bis(dimethylamino)methylsilane\n",
      "Phenyltrichlorosilane\n",
      "Phenyltriflurosilane\n",
      "Dimethyldiacetoxysilane\n",
      "1-Trimethylsilylpropyne\n",
      "Vinyldimethylethoxysilane\n",
      "Allyloxytrimethylsilane\n",
      "Allyltrimethoxysilane\n",
      "3-Chloropropyltrimethoxysilane\n",
      "n-Propyltrimethoxysilane\n",
      "Hexamethyldisiloxane\n",
      "Hexamethyldisilane\n",
      "Vinyldiethylmethylsilane\n",
      "Isobutyltrimethoxysilane\n",
      "Phenyldimethylchlorosilane\n",
      "(N,N-Dimethylamino)triethylsilane\n",
      "Vinyltriacetoxysilane\n",
      "Ethyltriacetoxysilane\n",
      "3-(Trimethylsilyl)cyclopentene\n",
      "Vinyltriethylsilane\n",
      "n-Octylsilane\n",
      "Methylphenyldimethoxysilane\n",
      "n-(t-Butyldimethylsilyl)-n-methyl-trifluoroacetamide\n",
      "2-Cyanoethyltriethoxysilane\n",
      "3-Glycidoxypropyltrimethoxysilane\n",
      "Di-t-butylmethylchlorosilane\n",
      "Tri-n-propylchlorosilane\n",
      "(Diisopropylamino)trimethylsilane\n",
      "1-Chlorononamethyltetrasiloxane\n",
      "Tristrimethylsiloxymethylsilane\n",
      "Diphenylmethylsilane\n",
      "Trimethyl[(1-methylethenyl)oxy]silane\n",
      "Dichloromethyl-3,3,3-trifluoropropylsilane\n",
      "[2-(chloromethoxy)ethyl]trimethylsilane\n",
      "Triphenylsilane\n",
      "Trichlorosilane\n",
      "(210, 3)\n",
      "['Molecule', 'Exp.(K)', 'smiles', 'source', 'pure substance']\n",
      "['smiles', 'compound', 'flashpoint', 'source', 'pure substance']\n"
     ]
    }
   ],
   "source": [
    "didier12['smiles'] = didier12['Molecule'].apply(get_smiles)\n",
    "didier12.dropna(inplace=True)\n",
    "print(didier12.shape)\n",
    "didier12['source'] = 'didier12'\n",
    "didier12['pure substance'] = 1\n",
    "print(list(didier12))\n",
    "print(list(integrated_data))"
   ]
  },
  {
   "cell_type": "code",
   "execution_count": 39,
   "metadata": {},
   "outputs": [],
   "source": [
    "didier12.rename(index=str, columns={'Molecule' : 'compound', 'Exp.(K)' : 'flashpoint'}, inplace=True)\n",
    "didier12 = didier12[['smiles', 'compound', 'flashpoint', 'source', 'pure substance']]"
   ]
  },
  {
   "cell_type": "code",
   "execution_count": 40,
   "metadata": {},
   "outputs": [
    {
     "data": {
      "text/plain": [
       "(10461,)"
      ]
     },
     "execution_count": 40,
     "metadata": {},
     "output_type": "execute_result"
    }
   ],
   "source": [
    "frames = [integrated_data, didier12]\n",
    "integrated_data = pd.concat(frames)\n",
    "integrated_data['smiles'].unique().shape"
   ]
  },
  {
   "cell_type": "code",
   "execution_count": 41,
   "metadata": {},
   "outputs": [],
   "source": [
    "integrated_data.to_csv('../data/integrated_dataset.csv', index=False)"
   ]
  },
  {
   "cell_type": "code",
   "execution_count": 51,
   "metadata": {},
   "outputs": [],
   "source": [
    "def remove_invalid_smiles(data):\n",
    "    invalid = []\n",
    "    for index, row in data.iterrows():\n",
    "        #print(row['smiles'])\n",
    "        if Chem.MolFromSmiles(row['smiles']) == None:\n",
    "            invalid.append(row['smiles'])\n",
    "            #data.drop(row.index[0], inplace=True)\n",
    "    print('invalid smiles strings')\n",
    "    print('------------------------------')\n",
    "    print(invalid)\n",
    "    print('------------------------------')\n",
    "    for smi in invalid:\n",
    "        data.drop([data[data['smiles'] == smi].index[0]], inplace=True)"
   ]
  },
  {
   "cell_type": "code",
   "execution_count": 62,
   "metadata": {},
   "outputs": [
    {
     "name": "stdout",
     "output_type": "stream",
     "text": [
      "[]\n"
     ]
    }
   ],
   "source": [
    "check_valid_smiles(integrated_data)"
   ]
  },
  {
   "cell_type": "code",
   "execution_count": 55,
   "metadata": {},
   "outputs": [],
   "source": [
    "integrated_data.to_csv('../data/integrated_dataset.csv', index=False)"
   ]
  },
  {
   "cell_type": "code",
   "execution_count": 210,
   "metadata": {},
   "outputs": [
    {
     "data": {
      "text/plain": [
       "array(['CC(CN)O', 'C1=CC(=C(C=C1[N+](=O)[O-])[N+](=O)[O-])Cl', 'C(CCl)Cl',\n",
       "       ..., 'CCC(Cl)(CC)C(C)(C)C', 'CCCCCCC(C)(C)Cl', 'CCCCC(C)(Cl)CCC'],\n",
       "      dtype=object)"
      ]
     },
     "execution_count": 210,
     "metadata": {},
     "output_type": "execute_result"
    }
   ],
   "source": [
    "integrated_data['smiles'].unique()"
   ]
  },
  {
   "cell_type": "markdown",
   "metadata": {},
   "source": [
    "## Godinho11"
   ]
  },
  {
   "cell_type": "code",
   "execution_count": 261,
   "metadata": {},
   "outputs": [
    {
     "data": {
      "text/plain": [
       "['Compound', 'T FP (K)']"
      ]
     },
     "execution_count": 261,
     "metadata": {},
     "output_type": "execute_result"
    }
   ],
   "source": [
    "#godinho = pd.read_csv('../data/godinho11.csv')\n",
    "#integrated_dataset = pd.read_csv('../data/integrated_dataset.csv')\n",
    "integrated_dataset['smiles'].unique().shape\n",
    "list(godinho)"
   ]
  },
  {
   "cell_type": "code",
   "execution_count": 262,
   "metadata": {},
   "outputs": [],
   "source": [
    "godinho['smiles'] = godinho['Compound'].apply(get_smiles)"
   ]
  },
  {
   "cell_type": "code",
   "execution_count": 263,
   "metadata": {},
   "outputs": [
    {
     "data": {
      "text/plain": [
       "['smiles', 'compound', 'flashpoint', 'source', 'pure substance']"
      ]
     },
     "execution_count": 263,
     "metadata": {},
     "output_type": "execute_result"
    }
   ],
   "source": [
    "godinho['source'] = 'godinho11'\n",
    "godinho['pure substance'] = 1\n",
    "godinho.rename(index=str, columns={'Compound' : 'compound', 'T FP (K)' : 'flashpoint'}, inplace=True)\n",
    "godinho = godinho[['smiles', 'compound', 'flashpoint', 'source', 'pure substance']]\n",
    "list(godinho)"
   ]
  },
  {
   "cell_type": "code",
   "execution_count": 264,
   "metadata": {},
   "outputs": [
    {
     "data": {
      "text/html": [
       "<div>\n",
       "<style scoped>\n",
       "    .dataframe tbody tr th:only-of-type {\n",
       "        vertical-align: middle;\n",
       "    }\n",
       "\n",
       "    .dataframe tbody tr th {\n",
       "        vertical-align: top;\n",
       "    }\n",
       "\n",
       "    .dataframe thead th {\n",
       "        text-align: right;\n",
       "    }\n",
       "</style>\n",
       "<table border=\"1\" class=\"dataframe\">\n",
       "  <thead>\n",
       "    <tr style=\"text-align: right;\">\n",
       "      <th></th>\n",
       "      <th>smiles</th>\n",
       "      <th>compound</th>\n",
       "      <th>flashpoint</th>\n",
       "      <th>source</th>\n",
       "      <th>pure substance</th>\n",
       "    </tr>\n",
       "  </thead>\n",
       "  <tbody>\n",
       "    <tr>\n",
       "      <th>0</th>\n",
       "      <td>Cc1ccccc1</td>\n",
       "      <td>toluene</td>\n",
       "      <td>280.2</td>\n",
       "      <td>godinho11</td>\n",
       "      <td>1</td>\n",
       "    </tr>\n",
       "    <tr>\n",
       "      <th>1</th>\n",
       "      <td>CCc1ccccc1</td>\n",
       "      <td>ethylbenzene</td>\n",
       "      <td>299.1</td>\n",
       "      <td>godinho11</td>\n",
       "      <td>1</td>\n",
       "    </tr>\n",
       "    <tr>\n",
       "      <th>2</th>\n",
       "      <td>Cc1ccc(C)cc1</td>\n",
       "      <td>p -xylene</td>\n",
       "      <td>298.2</td>\n",
       "      <td>godinho11</td>\n",
       "      <td>1</td>\n",
       "    </tr>\n",
       "    <tr>\n",
       "      <th>3</th>\n",
       "      <td>Cc1cccc(C)c1</td>\n",
       "      <td>m -xylene</td>\n",
       "      <td>298.2</td>\n",
       "      <td>godinho11</td>\n",
       "      <td>1</td>\n",
       "    </tr>\n",
       "    <tr>\n",
       "      <th>4</th>\n",
       "      <td>Cc1ccccc1C</td>\n",
       "      <td>o -xylene</td>\n",
       "      <td>303.2</td>\n",
       "      <td>godinho11</td>\n",
       "      <td>1</td>\n",
       "    </tr>\n",
       "  </tbody>\n",
       "</table>\n",
       "</div>"
      ],
      "text/plain": [
       "         smiles      compound  flashpoint     source  pure substance\n",
       "0     Cc1ccccc1       toluene       280.2  godinho11               1\n",
       "1    CCc1ccccc1  ethylbenzene       299.1  godinho11               1\n",
       "2  Cc1ccc(C)cc1     p -xylene       298.2  godinho11               1\n",
       "3  Cc1cccc(C)c1     m -xylene       298.2  godinho11               1\n",
       "4    Cc1ccccc1C     o -xylene       303.2  godinho11               1"
      ]
     },
     "execution_count": 264,
     "metadata": {},
     "output_type": "execute_result"
    }
   ],
   "source": [
    "godinho.head()"
   ]
  },
  {
   "cell_type": "code",
   "execution_count": 265,
   "metadata": {},
   "outputs": [
    {
     "name": "stdout",
     "output_type": "stream",
     "text": [
      "(75, 5)\n",
      "(75, 5)\n"
     ]
    },
    {
     "name": "stderr",
     "output_type": "stream",
     "text": [
      "C:\\Users\\Nathaniel\\Miniconda3\\envs\\moleprop\\lib\\site-packages\\ipykernel_launcher.py:5: FutureWarning: Sorting because non-concatenation axis is not aligned. A future version\n",
      "of pandas will change to not sort by default.\n",
      "\n",
      "To accept the future behavior, pass 'sort=False'.\n",
      "\n",
      "To retain the current behavior and silence the warning, pass 'sort=True'.\n",
      "\n",
      "  \"\"\"\n"
     ]
    },
    {
     "data": {
      "text/plain": [
       "(10596,)"
      ]
     },
     "execution_count": 265,
     "metadata": {},
     "output_type": "execute_result"
    }
   ],
   "source": [
    "print(godinho.shape)\n",
    "godinho.dropna(inplace=True)\n",
    "print(godinho.shape)\n",
    "frames = [integrated_dataset, godinho]\n",
    "integrated_dataset = pd.concat(frames)\n",
    "integrated_dataset['smiles'].unique().shape"
   ]
  },
  {
   "cell_type": "code",
   "execution_count": 267,
   "metadata": {},
   "outputs": [
    {
     "data": {
      "text/plain": [
       "compound          0\n",
       "flashpoint        0\n",
       "pure substance    0\n",
       "smiles            0\n",
       "source            0\n",
       "dtype: int64"
      ]
     },
     "execution_count": 267,
     "metadata": {},
     "output_type": "execute_result"
    }
   ],
   "source": [
    "integrated_dataset.to_csv('../data/integrated_dataset.csv')\n",
    "#integrated_dataset[integrated_dataset['smiles'].str.contains('Si', regex=False)]\n",
    "integrated_dataset.isnull().sum()"
   ]
  },
  {
   "cell_type": "code",
   "execution_count": 250,
   "metadata": {},
   "outputs": [],
   "source": [
    "integrated_dataset.drop(columns=['Compound','T FP (K)'], inplace=True)"
   ]
  },
  {
   "cell_type": "code",
   "execution_count": 254,
   "metadata": {},
   "outputs": [
    {
     "data": {
      "text/html": [
       "<div>\n",
       "<style scoped>\n",
       "    .dataframe tbody tr th:only-of-type {\n",
       "        vertical-align: middle;\n",
       "    }\n",
       "\n",
       "    .dataframe tbody tr th {\n",
       "        vertical-align: top;\n",
       "    }\n",
       "\n",
       "    .dataframe thead th {\n",
       "        text-align: right;\n",
       "    }\n",
       "</style>\n",
       "<table border=\"1\" class=\"dataframe\">\n",
       "  <thead>\n",
       "    <tr style=\"text-align: right;\">\n",
       "      <th></th>\n",
       "      <th>compound</th>\n",
       "      <th>flashpoint</th>\n",
       "      <th>pure substance</th>\n",
       "      <th>smiles</th>\n",
       "      <th>source</th>\n",
       "    </tr>\n",
       "  </thead>\n",
       "  <tbody>\n",
       "  </tbody>\n",
       "</table>\n",
       "</div>"
      ],
      "text/plain": [
       "Empty DataFrame\n",
       "Columns: [compound, flashpoint, pure substance, smiles, source]\n",
       "Index: []"
      ]
     },
     "execution_count": 254,
     "metadata": {},
     "output_type": "execute_result"
    }
   ],
   "source": [
    "integrated_dataset[integrated_dataset['source'] == np.nan]"
   ]
  },
  {
   "cell_type": "code",
   "execution_count": 258,
   "metadata": {},
   "outputs": [],
   "source": [
    "integrated_dataset.dropna(inplace=True)#['smiles'].unique().shape"
   ]
  },
  {
   "cell_type": "code",
   "execution_count": 260,
   "metadata": {},
   "outputs": [
    {
     "data": {
      "text/plain": [
       "(10581,)"
      ]
     },
     "execution_count": 260,
     "metadata": {},
     "output_type": "execute_result"
    }
   ],
   "source": [
    "integrated_dataset['smiles'].unique().shape"
   ]
  },
  {
   "cell_type": "code",
   "execution_count": null,
   "metadata": {},
   "outputs": [],
   "source": []
  }
 ],
 "metadata": {
  "kernelspec": {
   "display_name": "moleprop",
   "language": "python",
   "name": "moleprop"
  },
  "language_info": {
   "codemirror_mode": {
    "name": "ipython",
    "version": 3
   },
   "file_extension": ".py",
   "mimetype": "text/x-python",
   "name": "python",
   "nbconvert_exporter": "python",
   "pygments_lexer": "ipython3",
   "version": "3.6.8"
  }
 },
 "nbformat": 4,
 "nbformat_minor": 2
}
