{
 "cells": [
  {
   "cell_type": "code",
   "execution_count": 1,
   "metadata": {},
   "outputs": [],
   "source": [
    "import pandas as pd\n",
    "from rdkit import Chem\n",
    "from rdkit.Chem import Draw\n",
    "import numpy as np\n",
    "import requests\n",
    "import re\n",
    "#from helpers.integration_helpers import canoicalize_smiles"
   ]
  },
  {
   "cell_type": "code",
   "execution_count": 2,
   "metadata": {},
   "outputs": [],
   "source": [
    "def get_compound_with_element(data, element):\n",
    "    return data[data['smiles'].str.contains(element)]\n",
    "\n",
    "def get_smiles(compound):\n",
    "    #print(compound)\n",
    "    smilesUrl = \"https://opsin.ch.cam.ac.uk/opsin/\"+compound+\".smi\"\n",
    "    requestSmiles = requests.get(smilesUrl)\n",
    "    if requestSmiles.status_code == 400 or requestSmiles.status_code == 404:\n",
    "        return None\n",
    "    else:\n",
    "        m = Chem.MolFromSmiles(requestSmiles.text)\n",
    "        if m != None:\n",
    "            return Chem.MolToSmiles(Chem.MolFromSmiles(requestSmiles.text)) \n",
    "        else:\n",
    "            return None\n",
    "    \n",
    "def celsiusToKelvin(temp):\n",
    "    return temp + 273.15\n",
    "\n",
    "def get_compound_with_element(data, element):\n",
    "    return data[data['smiles'].str.contains(element)]"
   ]
  },
  {
   "cell_type": "code",
   "execution_count": 3,
   "metadata": {},
   "outputs": [
    {
     "name": "stdout",
     "output_type": "stream",
     "text": [
      "['pubchem' 'carroll11' 'chen14' 'Saldana11' 'gelest_germanium'\n",
      " 'gelest_metal-organics' 'pan12' 'gelest_silanes' 'gelest_tin'\n",
      " 'hazardous materials' 'le15' 'didier14' 'pan07' 'caroll15' 'didier12'\n",
      " 'godinho11' 'katritzky07' 'carroll10' 'wang11' 'patel10']\n",
      "(10630,)\n"
     ]
    }
   ],
   "source": [
    "integrated_data = pd.read_csv('../data/integrated_dataset.csv')\n",
    "print(integrated_data['source'].unique())\n",
    "print(integrated_data['smiles'].unique().shape)\n",
    "#integrated_data[integrated_data['smiles'].str.contains('Si', regex=False)]['smiles'].unique().shape\n",
    "#integrated_data.head()\n",
    "#integrated_data.drop(columns=['Unnamed: 0'], inplace=True)\n",
    "#list(integrated_data)\n",
    "#integrated_data.to_csv('../data/integrated_dataset.csv', index=False)"
   ]
  },
  {
   "cell_type": "markdown",
   "metadata": {},
   "source": [
    "## Carroll"
   ]
  },
  {
   "cell_type": "code",
   "execution_count": null,
   "metadata": {},
   "outputs": [],
   "source": [
    "carroll = pd.read_csv('../data/Carroll11.csv', encoding = \"ISO-8859-1\")"
   ]
  },
  {
   "cell_type": "code",
   "execution_count": null,
   "metadata": {},
   "outputs": [],
   "source": [
    "print(list(carroll))\n",
    "#carroll = data[['Compound', 'TFP(K)Ref.']]\n",
    "#carroll['source'] = 'carroll11'\n",
    "#carroll['pure substance'] = 1\n",
    "carroll.head()"
   ]
  },
  {
   "cell_type": "markdown",
   "metadata": {},
   "source": [
    "## Saldana"
   ]
  },
  {
   "cell_type": "code",
   "execution_count": null,
   "metadata": {},
   "outputs": [],
   "source": [
    "fuels = pd.read_csv('../data/fuels.csv', encoding = \"ISO-8859-1\")\n",
    "fuels.head()"
   ]
  },
  {
   "cell_type": "markdown",
   "metadata": {},
   "source": [
    "## Pan12"
   ]
  },
  {
   "cell_type": "code",
   "execution_count": null,
   "metadata": {},
   "outputs": [],
   "source": [
    "pan12 = pd.read_csv('../data/pan12.csv', encoding = \"ISO-8859-1\")\n",
    "pan12.head()"
   ]
  },
  {
   "cell_type": "markdown",
   "metadata": {},
   "source": [
    "## chen14"
   ]
  },
  {
   "cell_type": "code",
   "execution_count": null,
   "metadata": {},
   "outputs": [],
   "source": [
    "chen14 = pd.read_csv('../data/chen14.csv', encoding = \"ISO-8859-1\")"
   ]
  },
  {
   "cell_type": "code",
   "execution_count": null,
   "metadata": {},
   "outputs": [],
   "source": [
    "chen14.head()"
   ]
  },
  {
   "cell_type": "code",
   "execution_count": null,
   "metadata": {},
   "outputs": [],
   "source": [
    "# canonicalize carroll smiles\n",
    "for i in range(0, len(carroll)):\n",
    "    carroll.iloc[i]['smiles'] = Chem.MolToSmiles(Chem.MolFromSmiles(carroll.iloc[i]['smiles']))\n"
   ]
  },
  {
   "cell_type": "code",
   "execution_count": null,
   "metadata": {},
   "outputs": [],
   "source": [
    "#canonicalize smiles with rdkit\n",
    "result['canonical smiles'] = None\n",
    "for idx, row in result.iterrows():\n",
    "    result.loc[idx,'canonical smiles'] = Chem.MolToSmiles(Chem.MolFromSmiles(result.iloc[idx]['smiles']))"
   ]
  },
  {
   "cell_type": "code",
   "execution_count": null,
   "metadata": {},
   "outputs": [],
   "source": [
    "for idx, row in result.iterrows():\n",
    "    result.loc[idx,'canonical smiles'] = Chem.MolToSmiles(Chem.MolFromSmiles(result.loc[idx]['smiles']))"
   ]
  },
  {
   "cell_type": "markdown",
   "metadata": {},
   "source": [
    "## Add Gelest to dataset"
   ]
  },
  {
   "cell_type": "code",
   "execution_count": null,
   "metadata": {},
   "outputs": [],
   "source": [
    "silanes = pd.read_csv('../data/silanes_all.csv')\n",
    "metal_organic = pd.read_csv('../data/metal-organics_all.csv')\n",
    "tin = pd.read_csv('../data/tin_all.csv')\n",
    "germanium  = pd.read_csv('../data/germanium_all.csv')\n",
    "print(list(silanes))\n",
    "print(list(metal_organic))\n",
    "print(list(tin))\n",
    "print(list(germanium))"
   ]
  },
  {
   "cell_type": "code",
   "execution_count": null,
   "metadata": {},
   "outputs": [],
   "source": [
    "#result = result[['compound', 'smiles', 'flashpoint', 'pure substance', 'source']]\n",
    "silanes_pure = silanes[silanes['pure substance'] == 1]\n",
    "metal_organic_pure = metal_organic[metal_organic['pure substance'] == 1]\n",
    "tin_pure = tin[tin['pure substance'] == 1]\n",
    "germanium_pure = germanium[germanium['pure substance'] == 1]"
   ]
  },
  {
   "cell_type": "markdown",
   "metadata": {},
   "source": [
    "## pubchem integration"
   ]
  },
  {
   "cell_type": "code",
   "execution_count": null,
   "metadata": {},
   "outputs": [],
   "source": [
    "pubchem = pd.read_csv('../data/pubchem_data.csv')\n",
    "pubchem = pubchem[['smiles', 'compound', 'flashpoint', 'source', 'pure substance']]\n",
    "germanium_pure = germanium_pure[['smiles', 'compound', 'flashpoint', 'source', 'pure substance']]\n",
    "tin_pure = tin_pure[['smiles', 'compound', 'flashpoint', 'source', 'pure substance']]\n",
    "metal_organic_pure = metal_organic_pure[['smiles', 'compound', 'flashpoint', 'source', 'pure substance']]\n",
    "silanes_pure = silanes_pure[['smiles', 'compound', 'flashpoint', 'source', 'pure substance']]\n",
    "hazardous_mat = hazardous_mat[['smiles', 'compound', 'flashpoint', 'source', 'pure substance']]\n"
   ]
  },
  {
   "cell_type": "code",
   "execution_count": null,
   "metadata": {},
   "outputs": [],
   "source": [
    "print(list(pubchem))\n",
    "print(list(carroll))\n",
    "print(list(chen14))\n",
    "print(list(fuels))\n",
    "print(list(germanium_pure))\n",
    "print(list(metal_organic_pure))\n",
    "print(list(pan12))\n",
    "print(list(silanes_pure))\n",
    "print(list(tin_pure))\n",
    "print(list(hazardous_mat))"
   ]
  },
  {
   "cell_type": "code",
   "execution_count": null,
   "metadata": {},
   "outputs": [],
   "source": [
    "def canoicalize_smiles(data):\n",
    "    for idx, row in data.iterrows():\n",
    "        m = Chem.MolFromSmiles(data.iloc[idx]['smiles'])\n",
    "        if m != None:\n",
    "            data.iloc[idx]['smiles'] = Chem.MolToSmiles(m)\n",
    "        else:\n",
    "            data.iloc[idx]['smiles'] = None\n",
    "    return data"
   ]
  },
  {
   "cell_type": "code",
   "execution_count": null,
   "metadata": {},
   "outputs": [],
   "source": [
    "frames = [pubchem, carroll, chen14, fuels, germanium_pure, metal_organic_pure, pan12, silanes_pure, tin_pure, hazardous_mat]\n",
    "result = pd.concat(frames)"
   ]
  },
  {
   "cell_type": "code",
   "execution_count": null,
   "metadata": {},
   "outputs": [],
   "source": [
    "canonical_smiles_data = canoicalize_smiles(result)"
   ]
  },
  {
   "cell_type": "code",
   "execution_count": null,
   "metadata": {},
   "outputs": [],
   "source": [
    "print(canonical_smiles_data.shape)\n",
    "print(canonical_smiles_data.dropna().shape)\n",
    "canonical_smiles_data.dropna(inplace=True)"
   ]
  },
  {
   "cell_type": "code",
   "execution_count": null,
   "metadata": {},
   "outputs": [],
   "source": [
    "canonical_smiles_data.to_csv('../data/integrated_dataset.csv', index=False)"
   ]
  },
  {
   "cell_type": "code",
   "execution_count": null,
   "metadata": {},
   "outputs": [],
   "source": [
    "def remove_duplicates(data):\n",
    "    duplicates = data[data.duplicated(subset='smiles')]\n",
    "    result = data.drop_duplicates(subset='smiles', keep=False)#[~duplicates]\n",
    "    #for each unique smiles that has duplicates\n",
    "    for smiles in data[data.duplicated(subset='smiles')]['smiles'].unique():\n",
    "        dup_rows = data.loc[data['smiles'] == smiles]\n",
    "        if dup_rows['flashpoint'].unique().shape[0] == 1:\n",
    "            # remove all but one\n",
    "            result = result.append(dup_rows.iloc[0], sort=False)\n",
    "        else:\n",
    "            if dup_rows['flashpoint'].std() < 5:\n",
    "                # add 1 back\n",
    "                result = result.append(dup_rows.iloc[0], sort=False)\n",
    "    return result  \n",
    "            "
   ]
  },
  {
   "cell_type": "code",
   "execution_count": null,
   "metadata": {},
   "outputs": [],
   "source": [
    "pure_compounds = data.loc[data['pure substance'] == 1]\n",
    "pure_compounds.shape"
   ]
  },
  {
   "cell_type": "code",
   "execution_count": null,
   "metadata": {},
   "outputs": [],
   "source": [
    "data[data.duplicated(subset='smiles')].shape"
   ]
  },
  {
   "cell_type": "code",
   "execution_count": null,
   "metadata": {},
   "outputs": [],
   "source": [
    "data = data.loc[data['pure substance'] == 1]\n",
    "print(data.shape)\n",
    "no_dups = remove_duplicates(data)\n",
    "print(no_dups.shape)"
   ]
  },
  {
   "cell_type": "code",
   "execution_count": null,
   "metadata": {},
   "outputs": [],
   "source": [
    "no_dups[no_dups.duplicated(subset='smiles')]\n",
    "#no_dups.loc[no_dups['smiles'] == 'CC1=CCCC(=C)C2CC(C2CC1)(C)C']\n",
    "no_dups.to_csv('../data/integrated_dataset.csv', index=False)"
   ]
  },
  {
   "cell_type": "code",
   "execution_count": null,
   "metadata": {},
   "outputs": [],
   "source": [
    "result = data.drop_duplicates(subset='smiles', keep=False)\n",
    "result.shape"
   ]
  },
  {
   "cell_type": "code",
   "execution_count": null,
   "metadata": {},
   "outputs": [],
   "source": [
    "data[data.duplicated(subset='smiles')]['smiles'].unique()"
   ]
  },
  {
   "cell_type": "markdown",
   "metadata": {},
   "source": [
    "### Hazardous Materials"
   ]
  },
  {
   "cell_type": "code",
   "execution_count": null,
   "metadata": {},
   "outputs": [],
   "source": [
    "data = pd.read_csv('../data/hazardous_materials.csv')\n",
    "haz = data[['Common name', 'Data type', 'Measurement name', 'Measurement value', 'Measurement units']]"
   ]
  },
  {
   "cell_type": "code",
   "execution_count": null,
   "metadata": {},
   "outputs": [],
   "source": [
    "flashpoints = haz.loc[haz['Measurement name'] == 'Flash point']"
   ]
  },
  {
   "cell_type": "code",
   "execution_count": null,
   "metadata": {},
   "outputs": [],
   "source": [
    "print(list(flashpoints))"
   ]
  },
  {
   "cell_type": "code",
   "execution_count": null,
   "metadata": {},
   "outputs": [],
   "source": [
    "flashpoints['smiles'] = flashpoints['Common name'].apply(get_smiles)"
   ]
  },
  {
   "cell_type": "code",
   "execution_count": null,
   "metadata": {},
   "outputs": [],
   "source": []
  },
  {
   "cell_type": "code",
   "execution_count": null,
   "metadata": {},
   "outputs": [],
   "source": [
    "flashpoints = flashpoints[~flashpoints['Measurement value'].str.contains('<')]\n",
    "flashpoints = flashpoints[~flashpoints['Measurement value'].str.contains('>')]\n",
    "flashpoints = flashpoints[~flashpoints['Measurement value'].str.contains('~')]\n",
    "pattern = '\\\\w+-\\\\w'\n",
    "flashpoints['Measurement value'] = flashpoints['Measurement value'].str.replace(pattern, 'none', regex=True)\n",
    "#flashpoints = flashpoints[~flashpoints['Measurement value'].str.contains('none')]\n",
    "flashpoints['Measurement value'] = pd.to_numeric(flashpoints['Measurement value'], errors='coerce')\n",
    "\n",
    "flashpoints.head()"
   ]
  },
  {
   "cell_type": "code",
   "execution_count": null,
   "metadata": {},
   "outputs": [],
   "source": [
    "flashpoints['flashpoint'] = flashpoints['Measurement value'].apply(celsiusToKelvin)\n",
    "flashpoints.drop(columns=['Measurement name','Data type', 'Measurement units', 'Measurement value'], inplace=True)\n",
    "#flashpoints.rename(columns={'Common name' : 'compound', 'Measurement value' : 'flashpoint'}, inplace=True)"
   ]
  },
  {
   "cell_type": "code",
   "execution_count": null,
   "metadata": {},
   "outputs": [],
   "source": [
    "flashpoints.dropna(inplace=True)\n",
    "flashpoints.rename(columns={'Common name' : 'compound'}, inplace=True)\n",
    "#flashpoints.drop(df.columns[i], axis=1)\n",
    "flashpoints['pure substance'] = 1\n",
    "flashpoints['source'] = 'hazardous materials'\n",
    "hazardous_mat = flashpoints[['compound', 'flashpoint', 'pure substance', 'smiles', 'source']]\n",
    "hazardous_mat.shape"
   ]
  },
  {
   "cell_type": "code",
   "execution_count": null,
   "metadata": {},
   "outputs": [],
   "source": [
    "hazardous_mat.head()"
   ]
  },
  {
   "cell_type": "code",
   "execution_count": null,
   "metadata": {},
   "outputs": [],
   "source": [
    "#data = pd.read_csv('../data/integrated_dataset.csv')\n",
    "#frames = [data, hazardous_mat]\n",
    "#result = pd.concat(frames)\n",
    "no_dups = remove_duplicates(result)\n",
    "print(result.shape)\n",
    "print(no_dups.shape)\n",
    "#no_dups.to_csv('../data/integrated_dataset.csv', index=False)"
   ]
  },
  {
   "cell_type": "markdown",
   "metadata": {},
   "source": [
    "## Le 2015"
   ]
  },
  {
   "cell_type": "code",
   "execution_count": null,
   "metadata": {},
   "outputs": [],
   "source": [
    "og_le15 = pd.read_csv('../data/le15.csv')\n",
    "og_le15_2 = pd.read_csv('../data/le15_2.csv')\n",
    "#le15.rename(columns={\"MolID\" : \"compound\", \"FP\" : \"flashpoint\"}, inplace=True)\n",
    "#print(le15.head())\n",
    "#print(le15_2.head())"
   ]
  },
  {
   "cell_type": "code",
   "execution_count": null,
   "metadata": {},
   "outputs": [],
   "source": [
    "le15['flashpoint'] = le15['flashpoint'].apply(celsiusToKelvin)\n",
    "le15_2['flashpoint'] = le15_2['flashpoint'].apply(celsiusToKelvin)"
   ]
  },
  {
   "cell_type": "code",
   "execution_count": null,
   "metadata": {},
   "outputs": [],
   "source": [
    "le15['smiles'] = le15['compound'].apply(get_smiles)\n",
    "le15_2['smiles'] = le15_2['compound'].apply(get_smiles)"
   ]
  },
  {
   "cell_type": "code",
   "execution_count": null,
   "metadata": {},
   "outputs": [],
   "source": [
    "le15['flashpoint'] = og_le15['flashpoint'].apply(celsiusToKelvin)\n",
    "le15_2['flashpoint'] = og_le15_2['flashpoint'].apply(celsiusToKelvin)\n",
    "le15_2.head()"
   ]
  },
  {
   "cell_type": "code",
   "execution_count": null,
   "metadata": {},
   "outputs": [],
   "source": [
    "le15_smiles = le15[le15.smiles.isnull() == False]\n",
    "le15_2_smiles = le15_2[le15_2.smiles.isnull() == False]\n",
    "le15_no_smiles = le15[le15.smiles.isnull() == True]\n",
    "le15_2_no_smiles = le15_2[le15_2.smiles.isnull() == True]"
   ]
  },
  {
   "cell_type": "code",
   "execution_count": null,
   "metadata": {},
   "outputs": [],
   "source": [
    "def clean_string(string):\n",
    "    #remove ending number\n",
    "    if ',' in string:\n",
    "        return string\n",
    "    pat = r'\\w+\\D'\n",
    "    prog = re.compile(pat)\n",
    "    match = prog.match(string)\n",
    "    if match != None:\n",
    "        string = match.group(0)\n",
    "    #remove [0-9]{1,2}oC\n",
    "    string = re.sub(r'[0-9]{1,2}oC', '', string)\n",
    "    #add , to [0-9]{2}\n",
    "    pat2 = r'^[0-9]{2}'\n",
    "    if re.search(pat2, string) != None:\n",
    "        string = string[0] + ',' + string[1:len(string)]\n",
    "    return string\n",
    "    #else:\n",
    "    #    return string"
   ]
  },
  {
   "cell_type": "code",
   "execution_count": null,
   "metadata": {},
   "outputs": [],
   "source": [
    "print(le15_no_smiles.shape)\n",
    "le15_no_smiles['cleaned_compound'] = ''\n",
    "le15_no_smiles['cleaned_compound'] = le15_no_smiles['compound'].apply(clean_string)\n",
    "le15_no_smiles['smiles'] = le15_no_smiles['cleaned_compound'].apply(get_smiles)"
   ]
  },
  {
   "cell_type": "code",
   "execution_count": null,
   "metadata": {},
   "outputs": [],
   "source": [
    "print(le15_2_no_smiles.shape)\n",
    "le15_2_no_smiles['cleaned_compound'] = ''\n",
    "le15_2_no_smiles['cleaned_compound'] = le15_2_no_smiles['compound'].apply(clean_string)\n",
    "le15_2_no_smiles['smiles'] = le15_2_no_smiles['cleaned_compound'].apply(get_smiles)"
   ]
  },
  {
   "cell_type": "code",
   "execution_count": null,
   "metadata": {},
   "outputs": [],
   "source": [
    "le15_2_no_smiles.dropna(inplace=True)\n",
    "le15_no_smiles.dropna(inplace=True)\n",
    "frames = [le15_2_no_smiles, le15_no_smiles]\n",
    "le_reclaimed = pd.concat(frames)\n",
    "print(le_reclaimed.shape)"
   ]
  },
  {
   "cell_type": "code",
   "execution_count": null,
   "metadata": {},
   "outputs": [],
   "source": [
    "le_reclaimed.drop(columns=['compound'], inplace=True)\n",
    "le_reclaimed.rename(columns={'cleaned_compound' : 'compound'}, inplace=True)\n",
    "le_reclaimed['source'] = 'le15'\n",
    "le_reclaimed['pure substance'] = 1\n",
    "le_reclaimed = le_reclaimed[['smiles', 'compound', 'flashpoint', 'source', 'pure substance']]"
   ]
  },
  {
   "cell_type": "code",
   "execution_count": null,
   "metadata": {},
   "outputs": [],
   "source": [
    "le_reclaimed#.head()\n",
    "all_data[all_data['smiles'] == 'Cl[Si](Cl)(Cl)C(Br)CBr']"
   ]
  },
  {
   "cell_type": "code",
   "execution_count": null,
   "metadata": {},
   "outputs": [],
   "source": [
    "all_data = pd.read_csv('../data/integrated_dataset.csv')\n",
    "print(all_data['smiles'].unique().shape)"
   ]
  },
  {
   "cell_type": "code",
   "execution_count": null,
   "metadata": {},
   "outputs": [],
   "source": [
    "#frames = [all_data, le_reclaimed]\n",
    "#result = pd.concat(frames)\n",
    "result.smiles.unique().shape\n",
    "#result.to_csv('../data/integrated_dataset.csv', index=False)"
   ]
  },
  {
   "cell_type": "code",
   "execution_count": null,
   "metadata": {},
   "outputs": [],
   "source": [
    "le15_smiles['source'] = 'le15'\n",
    "le15_smiles['pure substance'] = 1\n",
    "le15_smiles = le15_smiles[['smiles', 'compound', 'flashpoint', 'source', 'pure substance']]\n",
    "le15_smiles['flashpoint'] = le15_smiles['flashpoint'].apply(celsiusToKelvin) \n",
    "print(list(le15_smiles))"
   ]
  },
  {
   "cell_type": "code",
   "execution_count": null,
   "metadata": {},
   "outputs": [],
   "source": [
    "frames = [all_data, le15_smiles]\n",
    "result = pd.concat(frames)\n",
    "result.smiles.unique().shape"
   ]
  },
  {
   "cell_type": "code",
   "execution_count": null,
   "metadata": {},
   "outputs": [],
   "source": [
    "result['source'].unique()"
   ]
  },
  {
   "cell_type": "code",
   "execution_count": null,
   "metadata": {},
   "outputs": [],
   "source": [
    "test = result.drop_duplicates(subset='smiles', keep='first')\n",
    "test.shape\n",
    "test = test[['smiles', 'flashpoint']]\n",
    "test.to_csv('all_fp.csv', index=False)"
   ]
  },
  {
   "cell_type": "code",
   "execution_count": null,
   "metadata": {},
   "outputs": [],
   "source": [
    "#result[result['source'] == 'le15'].head()\n",
    "result = pd.read_csv('../data/integrated_dataset.csv')"
   ]
  },
  {
   "cell_type": "markdown",
   "metadata": {},
   "source": [
    "### Wang11"
   ]
  },
  {
   "cell_type": "code",
   "execution_count": null,
   "metadata": {},
   "outputs": [],
   "source": [
    "integrated_data[integrated_data['compound'] == 'Methyltrichlorosilane']"
   ]
  },
  {
   "cell_type": "code",
   "execution_count": null,
   "metadata": {},
   "outputs": [],
   "source": [
    "wang = pd.read_csv('../data/wang11.csv')\n",
    "wang.head()\n",
    "print(wang.shape)"
   ]
  },
  {
   "cell_type": "code",
   "execution_count": null,
   "metadata": {},
   "outputs": [],
   "source": [
    "wang['smiles'] = wang['compound'].apply(get_smiles)\n",
    "wang.head()"
   ]
  },
  {
   "cell_type": "code",
   "execution_count": null,
   "metadata": {},
   "outputs": [],
   "source": [
    "wang[wang['smiles'].isnull() == False].shape"
   ]
  },
  {
   "cell_type": "code",
   "execution_count": null,
   "metadata": {},
   "outputs": [],
   "source": [
    "wang.dropna(inplace=True)\n",
    "wang.shape"
   ]
  },
  {
   "cell_type": "code",
   "execution_count": null,
   "metadata": {},
   "outputs": [],
   "source": [
    "wang['pure substance'] = 1\n",
    "wang['source'] = 'wang11'\n",
    "print(list(integrated_data))\n",
    "print(list(wang))"
   ]
  },
  {
   "cell_type": "code",
   "execution_count": null,
   "metadata": {},
   "outputs": [],
   "source": [
    "wang = wang[['smiles', 'compound', 'flashpoint', 'source', 'pure substance']]"
   ]
  },
  {
   "cell_type": "code",
   "execution_count": null,
   "metadata": {},
   "outputs": [],
   "source": [
    "integrated_data = integrated_data[integrated_data.source != 'wang11']\n",
    "frames = [integrated_data, wang]\n",
    "integrated_data = pd.concat(frames)\n",
    "integrated_data['smiles'].unique().shape"
   ]
  },
  {
   "cell_type": "code",
   "execution_count": null,
   "metadata": {},
   "outputs": [],
   "source": [
    "integrated_data.to_csv('../data/integrated_dataset.csv')"
   ]
  },
  {
   "cell_type": "markdown",
   "metadata": {},
   "source": [
    "### Didier14"
   ]
  },
  {
   "cell_type": "code",
   "execution_count": null,
   "metadata": {},
   "outputs": [],
   "source": [
    "didier14 = pd.read_csv('../data/didier14.csv')\n",
    "didier14.dropna(inplace=True)\n",
    "print(didier14.shape)\n",
    "didier14['smiles'] = didier14['Name'].apply(get_smiles)\n",
    "didier14['source'] = 'didier14'\n",
    "didier14['pure substance'] = 1\n",
    "print(list(didier14))"
   ]
  },
  {
   "cell_type": "code",
   "execution_count": null,
   "metadata": {},
   "outputs": [],
   "source": [
    "didier14.dropna(inplace=True)\n",
    "print(didier14.shape)"
   ]
  },
  {
   "cell_type": "code",
   "execution_count": null,
   "metadata": {},
   "outputs": [],
   "source": [
    "didier14.rename(index=str, columns={'Name' : 'compound', 'exp.' : 'flashpoint'}, inplace=True)\n",
    "didier14.drop(columns=['CASRN', 'calc.'])\n",
    "didier14 = didier14[['smiles', 'compound', 'flashpoint', 'source', 'pure substance']]"
   ]
  },
  {
   "cell_type": "code",
   "execution_count": null,
   "metadata": {},
   "outputs": [],
   "source": [
    "frames = [integrated_data, didier14]\n",
    "integrated_data = pd.concat(frames)\n",
    "integrated_data['smiles'].unique().shape"
   ]
  },
  {
   "cell_type": "code",
   "execution_count": null,
   "metadata": {},
   "outputs": [],
   "source": [
    "smi = Chem.MolToSmiles(Chem.MolFromSmiles('ClC(C)CCC(C)C'))\n",
    "#result[result['smiles'] == smi]"
   ]
  },
  {
   "cell_type": "code",
   "execution_count": null,
   "metadata": {},
   "outputs": [],
   "source": [
    "combined[combined['smiles'] == smi]"
   ]
  },
  {
   "cell_type": "markdown",
   "metadata": {},
   "source": [
    "### Yong_Pan07"
   ]
  },
  {
   "cell_type": "code",
   "execution_count": null,
   "metadata": {},
   "outputs": [],
   "source": [
    "pan07 = pd.read_csv('../data/yong_pan07.csv')\n",
    "print(pan07.shape)\n",
    "print(list(pan07))"
   ]
  },
  {
   "cell_type": "code",
   "execution_count": null,
   "metadata": {},
   "outputs": [],
   "source": [
    "pan07['smiles'] = pan07['Compound'].apply(get_smiles)\n",
    "pan07.dropna(inplace=True)\n",
    "print(pan07.shape)\n",
    "pan07['source'] = 'pan07'\n",
    "pan07['pure substance'] = 1\n",
    "print(list(pan07))\n",
    "print(list(integrated_data))"
   ]
  },
  {
   "cell_type": "code",
   "execution_count": null,
   "metadata": {},
   "outputs": [],
   "source": [
    "pan07.rename(index=str, columns={'Compound' : 'compound', 'Experimental FP (K)' : 'flashpoint'}, inplace=True)\n",
    "pan07.drop(columns=['No.', 'Predicted FP (K)', 'Deviation (K)'])\n",
    "pan07 = pan07[['smiles', 'compound', 'flashpoint', 'source', 'pure substance']]"
   ]
  },
  {
   "cell_type": "code",
   "execution_count": null,
   "metadata": {},
   "outputs": [],
   "source": [
    "frames = [integrated_data, pan07]\n",
    "integrated_data = pd.concat(frames)\n",
    "integrated_data['smiles'].unique().shape"
   ]
  },
  {
   "cell_type": "markdown",
   "metadata": {},
   "source": [
    "### carroll15"
   ]
  },
  {
   "cell_type": "code",
   "execution_count": null,
   "metadata": {},
   "outputs": [],
   "source": [
    "carroll15 = pd.read_csv('../data/carroll15.csv')\n",
    "print(carroll15.shape)\n",
    "print(list(carroll15))"
   ]
  },
  {
   "cell_type": "code",
   "execution_count": null,
   "metadata": {},
   "outputs": [],
   "source": [
    "carroll15['smiles'] = carroll15['Compound'].apply(get_smiles)\n",
    "carroll15.dropna(inplace=True)\n",
    "print(carroll15.shape)\n",
    "carroll15['source'] = 'caroll15'\n",
    "carroll15['pure substance'] = 1\n",
    "print(list(carroll15))\n",
    "print(list(integrated_data))"
   ]
  },
  {
   "cell_type": "code",
   "execution_count": null,
   "metadata": {},
   "outputs": [],
   "source": [
    "carroll15.rename(index=str, columns={'Compound' : 'compound', 'T FP (K) Lit.' : 'flashpoint'}, inplace=True)\n",
    "carroll15.drop(columns=['Entry', 'Y BP Pred.'])\n",
    "carroll15 = carroll15[['smiles', 'compound', 'flashpoint', 'source', 'pure substance']]"
   ]
  },
  {
   "cell_type": "code",
   "execution_count": null,
   "metadata": {},
   "outputs": [],
   "source": [
    "frames = [integrated_data, carroll15]\n",
    "integrated_data = pd.concat(frames)\n",
    "integrated_data['smiles'].unique().shape"
   ]
  },
  {
   "cell_type": "markdown",
   "metadata": {},
   "source": [
    "### Didier12"
   ]
  },
  {
   "cell_type": "code",
   "execution_count": null,
   "metadata": {},
   "outputs": [],
   "source": [
    "didier12 = pd.read_csv('../data/didier12.csv')\n",
    "didier12 = didier12[['Molecule', 'Exp.(K)']]\n",
    "print(didier12.shape)\n",
    "print(list(didier12))"
   ]
  },
  {
   "cell_type": "code",
   "execution_count": null,
   "metadata": {},
   "outputs": [],
   "source": [
    "didier12['smiles'] = didier12['Molecule'].apply(get_smiles)\n",
    "didier12.dropna(inplace=True)\n",
    "print(didier12.shape)\n",
    "didier12['source'] = 'didier12'\n",
    "didier12['pure substance'] = 1\n",
    "print(list(didier12))\n",
    "print(list(integrated_data))"
   ]
  },
  {
   "cell_type": "code",
   "execution_count": null,
   "metadata": {},
   "outputs": [],
   "source": [
    "didier12.rename(index=str, columns={'Molecule' : 'compound', 'Exp.(K)' : 'flashpoint'}, inplace=True)\n",
    "didier12 = didier12[['smiles', 'compound', 'flashpoint', 'source', 'pure substance']]"
   ]
  },
  {
   "cell_type": "code",
   "execution_count": null,
   "metadata": {},
   "outputs": [],
   "source": [
    "frames = [integrated_data, didier12]\n",
    "integrated_data = pd.concat(frames)\n",
    "integrated_data['smiles'].unique().shape"
   ]
  },
  {
   "cell_type": "code",
   "execution_count": null,
   "metadata": {},
   "outputs": [],
   "source": [
    "integrated_data.to_csv('../data/integrated_dataset.csv', index=False)"
   ]
  },
  {
   "cell_type": "code",
   "execution_count": null,
   "metadata": {},
   "outputs": [],
   "source": [
    "def remove_invalid_smiles(data):\n",
    "    invalid = []\n",
    "    for index, row in data.iterrows():\n",
    "        #print(row['smiles'])\n",
    "        if Chem.MolFromSmiles(row['smiles']) == None:\n",
    "            invalid.append(row['smiles'])\n",
    "            #data.drop(row.index[0], inplace=True)\n",
    "    print('invalid smiles strings')\n",
    "    print('------------------------------')\n",
    "    print(invalid)\n",
    "    print('------------------------------')\n",
    "    for smi in invalid:\n",
    "        data.drop([data[data['smiles'] == smi].index[0]], inplace=True)"
   ]
  },
  {
   "cell_type": "code",
   "execution_count": null,
   "metadata": {},
   "outputs": [],
   "source": [
    "check_valid_smiles(integrated_data)"
   ]
  },
  {
   "cell_type": "code",
   "execution_count": null,
   "metadata": {},
   "outputs": [],
   "source": [
    "integrated_data.to_csv('../data/integrated_dataset.csv', index=False)"
   ]
  },
  {
   "cell_type": "code",
   "execution_count": null,
   "metadata": {},
   "outputs": [],
   "source": [
    "integrated_data['smiles'].unique()"
   ]
  },
  {
   "cell_type": "markdown",
   "metadata": {},
   "source": [
    "## Godinho11"
   ]
  },
  {
   "cell_type": "code",
   "execution_count": null,
   "metadata": {},
   "outputs": [],
   "source": [
    "#godinho = pd.read_csv('../data/godinho11.csv')\n",
    "#integrated_dataset = pd.read_csv('../data/integrated_dataset.csv')\n",
    "integrated_dataset['smiles'].unique().shape\n",
    "list(godinho)"
   ]
  },
  {
   "cell_type": "code",
   "execution_count": null,
   "metadata": {},
   "outputs": [],
   "source": [
    "godinho['smiles'] = godinho['Compound'].apply(get_smiles)"
   ]
  },
  {
   "cell_type": "code",
   "execution_count": null,
   "metadata": {},
   "outputs": [],
   "source": [
    "godinho['source'] = 'godinho11'\n",
    "godinho['pure substance'] = 1\n",
    "godinho.rename(index=str, columns={'Compound' : 'compound', 'T FP (K)' : 'flashpoint'}, inplace=True)\n",
    "godinho = godinho[['smiles', 'compound', 'flashpoint', 'source', 'pure substance']]\n",
    "list(godinho)"
   ]
  },
  {
   "cell_type": "code",
   "execution_count": null,
   "metadata": {},
   "outputs": [],
   "source": [
    "godinho.head()"
   ]
  },
  {
   "cell_type": "code",
   "execution_count": null,
   "metadata": {},
   "outputs": [],
   "source": [
    "print(godinho.shape)\n",
    "godinho.dropna(inplace=True)\n",
    "print(godinho.shape)\n",
    "frames = [integrated_dataset, godinho]\n",
    "integrated_dataset = pd.concat(frames)\n",
    "integrated_dataset['smiles'].unique().shape"
   ]
  },
  {
   "cell_type": "code",
   "execution_count": null,
   "metadata": {},
   "outputs": [],
   "source": [
    "integrated_dataset.to_csv('../data/integrated_dataset.csv')\n",
    "#integrated_dataset[integrated_dataset['smiles'].str.contains('Si', regex=False)]\n",
    "integrated_dataset.isnull().sum()"
   ]
  },
  {
   "cell_type": "code",
   "execution_count": null,
   "metadata": {},
   "outputs": [],
   "source": [
    "integrated_dataset.drop(columns=['Compound','T FP (K)'], inplace=True)"
   ]
  },
  {
   "cell_type": "code",
   "execution_count": null,
   "metadata": {},
   "outputs": [],
   "source": [
    "integrated_dataset[integrated_dataset['source'] == np.nan]"
   ]
  },
  {
   "cell_type": "code",
   "execution_count": null,
   "metadata": {},
   "outputs": [],
   "source": [
    "integrated_dataset.dropna(inplace=True)#['smiles'].unique().shape"
   ]
  },
  {
   "cell_type": "code",
   "execution_count": null,
   "metadata": {},
   "outputs": [],
   "source": [
    "integrated_dataset['smiles'].unique().shape"
   ]
  },
  {
   "cell_type": "markdown",
   "metadata": {},
   "source": [
    "### Patel10"
   ]
  },
  {
   "cell_type": "code",
   "execution_count": 6,
   "metadata": {},
   "outputs": [
    {
     "name": "stdout",
     "output_type": "stream",
     "text": [
      "(235, 6)\n"
     ]
    },
    {
     "data": {
      "text/html": [
       "<div>\n",
       "<style scoped>\n",
       "    .dataframe tbody tr th:only-of-type {\n",
       "        vertical-align: middle;\n",
       "    }\n",
       "\n",
       "    .dataframe tbody tr th {\n",
       "        vertical-align: top;\n",
       "    }\n",
       "\n",
       "    .dataframe thead th {\n",
       "        text-align: right;\n",
       "    }\n",
       "</style>\n",
       "<table border=\"1\" class=\"dataframe\">\n",
       "  <thead>\n",
       "    <tr style=\"text-align: right;\">\n",
       "      <th></th>\n",
       "      <th>compound</th>\n",
       "      <th>flashpoint</th>\n",
       "      <th>smiles</th>\n",
       "    </tr>\n",
       "  </thead>\n",
       "  <tbody>\n",
       "    <tr>\n",
       "      <th>0</th>\n",
       "      <td>methanol</td>\n",
       "      <td>283.706</td>\n",
       "      <td>CO</td>\n",
       "    </tr>\n",
       "    <tr>\n",
       "      <th>1</th>\n",
       "      <td>ethanol</td>\n",
       "      <td>286.483</td>\n",
       "      <td>CCO</td>\n",
       "    </tr>\n",
       "    <tr>\n",
       "      <th>2</th>\n",
       "      <td>propan-1-ol</td>\n",
       "      <td>298.150</td>\n",
       "      <td>CCCO</td>\n",
       "    </tr>\n",
       "    <tr>\n",
       "      <th>3</th>\n",
       "      <td>butan-2-ol</td>\n",
       "      <td>295.372</td>\n",
       "      <td>CCC(C)O</td>\n",
       "    </tr>\n",
       "    <tr>\n",
       "      <th>4</th>\n",
       "      <td>2-methylpropan-1-ol</td>\n",
       "      <td>303.150</td>\n",
       "      <td>CC(C)CO</td>\n",
       "    </tr>\n",
       "  </tbody>\n",
       "</table>\n",
       "</div>"
      ],
      "text/plain": [
       "              compound  flashpoint   smiles\n",
       "0             methanol     283.706       CO\n",
       "1              ethanol     286.483      CCO\n",
       "2          propan-1-ol     298.150     CCCO\n",
       "3           butan-2-ol     295.372  CCC(C)O\n",
       "4  2-methylpropan-1-ol     303.150  CC(C)CO"
      ]
     },
     "execution_count": 6,
     "metadata": {},
     "output_type": "execute_result"
    }
   ],
   "source": [
    "patel10 = pd.read_csv('../data/patel10_smiles.csv')\n",
    "print(patel10.shape)\n",
    "#patel10['smiles'] = patel10['compound'].apply(get_smiles)\n",
    "patel10.drop(columns=['Unnamed: 0', 'Unnamed: 0.1', 'Unnamed: 0.1.1'],inplace=True)\n",
    "#print(patel10.shape)\n",
    "patel10.head()"
   ]
  },
  {
   "cell_type": "code",
   "execution_count": 22,
   "metadata": {},
   "outputs": [
    {
     "data": {
      "text/html": [
       "<div>\n",
       "<style scoped>\n",
       "    .dataframe tbody tr th:only-of-type {\n",
       "        vertical-align: middle;\n",
       "    }\n",
       "\n",
       "    .dataframe tbody tr th {\n",
       "        vertical-align: top;\n",
       "    }\n",
       "\n",
       "    .dataframe thead th {\n",
       "        text-align: right;\n",
       "    }\n",
       "</style>\n",
       "<table border=\"1\" class=\"dataframe\">\n",
       "  <thead>\n",
       "    <tr style=\"text-align: right;\">\n",
       "      <th></th>\n",
       "      <th>compound</th>\n",
       "      <th>Tf(exptl) (K)</th>\n",
       "      <th>smiles</th>\n",
       "    </tr>\n",
       "  </thead>\n",
       "  <tbody>\n",
       "    <tr>\n",
       "      <th>0</th>\n",
       "      <td>methanol</td>\n",
       "      <td>283.706</td>\n",
       "      <td>CO</td>\n",
       "    </tr>\n",
       "    <tr>\n",
       "      <th>1</th>\n",
       "      <td>ethanol</td>\n",
       "      <td>286.483</td>\n",
       "      <td>CCO</td>\n",
       "    </tr>\n",
       "    <tr>\n",
       "      <th>2</th>\n",
       "      <td>propan-1-ol</td>\n",
       "      <td>298.150</td>\n",
       "      <td>CCCO</td>\n",
       "    </tr>\n",
       "    <tr>\n",
       "      <th>3</th>\n",
       "      <td>butan-2-ol</td>\n",
       "      <td>295.372</td>\n",
       "      <td>CCC(C)O</td>\n",
       "    </tr>\n",
       "    <tr>\n",
       "      <th>4</th>\n",
       "      <td>2-methylpropan-1-ol</td>\n",
       "      <td>303.150</td>\n",
       "      <td>CC(C)CO</td>\n",
       "    </tr>\n",
       "  </tbody>\n",
       "</table>\n",
       "</div>"
      ],
      "text/plain": [
       "              compound  Tf(exptl) (K)   smiles\n",
       "0             methanol        283.706       CO\n",
       "1              ethanol        286.483      CCO\n",
       "2          propan-1-ol        298.150     CCCO\n",
       "3           butan-2-ol        295.372  CCC(C)O\n",
       "4  2-methylpropan-1-ol        303.150  CC(C)CO"
      ]
     },
     "execution_count": 22,
     "metadata": {},
     "output_type": "execute_result"
    }
   ],
   "source": [
    "patel10.dropna().head()#isnull().any().sum()\n"
   ]
  },
  {
   "cell_type": "code",
   "execution_count": 7,
   "metadata": {},
   "outputs": [],
   "source": [
    "#patel10.rename(columns={'Tf(exptl) (K)' : 'flashpoint'},inplace=True)\n",
    "patel10['source'] = 'patel10'\n",
    "patel10['pure substance'] = 1\n",
    "patel10 = patel10[['smiles', 'compound', 'flashpoint', 'source', 'pure substance']]"
   ]
  },
  {
   "cell_type": "code",
   "execution_count": 9,
   "metadata": {},
   "outputs": [
    {
     "data": {
      "text/html": [
       "<div>\n",
       "<style scoped>\n",
       "    .dataframe tbody tr th:only-of-type {\n",
       "        vertical-align: middle;\n",
       "    }\n",
       "\n",
       "    .dataframe tbody tr th {\n",
       "        vertical-align: top;\n",
       "    }\n",
       "\n",
       "    .dataframe thead th {\n",
       "        text-align: right;\n",
       "    }\n",
       "</style>\n",
       "<table border=\"1\" class=\"dataframe\">\n",
       "  <thead>\n",
       "    <tr style=\"text-align: right;\">\n",
       "      <th></th>\n",
       "      <th>smiles</th>\n",
       "      <th>compound</th>\n",
       "      <th>flashpoint</th>\n",
       "      <th>source</th>\n",
       "      <th>pure substance</th>\n",
       "    </tr>\n",
       "  </thead>\n",
       "  <tbody>\n",
       "    <tr>\n",
       "      <th>0</th>\n",
       "      <td>CO</td>\n",
       "      <td>methanol</td>\n",
       "      <td>283.706</td>\n",
       "      <td>patel10</td>\n",
       "      <td>1</td>\n",
       "    </tr>\n",
       "    <tr>\n",
       "      <th>1</th>\n",
       "      <td>CCO</td>\n",
       "      <td>ethanol</td>\n",
       "      <td>286.483</td>\n",
       "      <td>patel10</td>\n",
       "      <td>1</td>\n",
       "    </tr>\n",
       "    <tr>\n",
       "      <th>2</th>\n",
       "      <td>CCCO</td>\n",
       "      <td>propan-1-ol</td>\n",
       "      <td>298.150</td>\n",
       "      <td>patel10</td>\n",
       "      <td>1</td>\n",
       "    </tr>\n",
       "    <tr>\n",
       "      <th>3</th>\n",
       "      <td>CCC(C)O</td>\n",
       "      <td>butan-2-ol</td>\n",
       "      <td>295.372</td>\n",
       "      <td>patel10</td>\n",
       "      <td>1</td>\n",
       "    </tr>\n",
       "    <tr>\n",
       "      <th>4</th>\n",
       "      <td>CC(C)CO</td>\n",
       "      <td>2-methylpropan-1-ol</td>\n",
       "      <td>303.150</td>\n",
       "      <td>patel10</td>\n",
       "      <td>1</td>\n",
       "    </tr>\n",
       "  </tbody>\n",
       "</table>\n",
       "</div>"
      ],
      "text/plain": [
       "    smiles             compound  flashpoint   source  pure substance\n",
       "0       CO             methanol     283.706  patel10               1\n",
       "1      CCO              ethanol     286.483  patel10               1\n",
       "2     CCCO          propan-1-ol     298.150  patel10               1\n",
       "3  CCC(C)O           butan-2-ol     295.372  patel10               1\n",
       "4  CC(C)CO  2-methylpropan-1-ol     303.150  patel10               1"
      ]
     },
     "execution_count": 9,
     "metadata": {},
     "output_type": "execute_result"
    }
   ],
   "source": [
    "#integrated_data = integrated_data[integrated_data['source'] != 'patel10']\n",
    "patel10.head()"
   ]
  },
  {
   "cell_type": "code",
   "execution_count": 10,
   "metadata": {},
   "outputs": [
    {
     "name": "stdout",
     "output_type": "stream",
     "text": [
      "(10630,)\n"
     ]
    },
    {
     "name": "stderr",
     "output_type": "stream",
     "text": [
      "C:\\Users\\Nathaniel\\Miniconda3\\envs\\moleprop\\lib\\site-packages\\ipykernel_launcher.py:2: FutureWarning: Sorting because non-concatenation axis is not aligned. A future version\n",
      "of pandas will change to not sort by default.\n",
      "\n",
      "To accept the future behavior, pass 'sort=False'.\n",
      "\n",
      "To retain the current behavior and silence the warning, pass 'sort=True'.\n",
      "\n",
      "  \n"
     ]
    }
   ],
   "source": [
    "frames = [integrated_data, patel10]\n",
    "integrated_data = pd.concat(frames)\n",
    "print(integrated_data['smiles'].unique().shape)\n",
    "integrated_data.to_csv('../data/integrated_dataset.csv', index=False)"
   ]
  },
  {
   "cell_type": "markdown",
   "metadata": {},
   "source": [
    "### Katritzky07"
   ]
  },
  {
   "cell_type": "code",
   "execution_count": null,
   "metadata": {},
   "outputs": [],
   "source": [
    "katritzky07 = pd.read_csv('../data/Katritzky07.csv')\n",
    "print(katritzky07.shape)\n",
    "katritzky07['smiles'] = katritzky07['compound'].apply(get_smiles)\n",
    "katritzky07.dropna(inplace=True)\n",
    "print(katritzky07.shape)\n",
    "katritzky07.head()"
   ]
  },
  {
   "cell_type": "code",
   "execution_count": null,
   "metadata": {},
   "outputs": [],
   "source": [
    "katritzky07.rename(columns={'TFP (exp)' : 'flashpoint'},inplace=True)\n",
    "katritzky07['source'] = 'katritzky07'\n",
    "katritzky07['pure substance'] = 1\n",
    "katritzky07 = katritzky07[['smiles', 'compound', 'flashpoint', 'source', 'pure substance']]"
   ]
  },
  {
   "cell_type": "code",
   "execution_count": null,
   "metadata": {},
   "outputs": [],
   "source": [
    "frames = [integrated_data, katritzky07]\n",
    "integrated_data = pd.concat(frames)\n",
    "print(integrated_data['smiles'].unique().shape)"
   ]
  },
  {
   "cell_type": "markdown",
   "metadata": {},
   "source": [
    "### carroll10"
   ]
  },
  {
   "cell_type": "code",
   "execution_count": null,
   "metadata": {},
   "outputs": [],
   "source": [
    "carroll10 = pd.read_csv('../data/carroll10.csv')\n",
    "print(carroll10.shape)\n",
    "carroll10['smiles'] = carroll10['Compound'].apply(get_smiles)\n",
    "carroll10.dropna(inplace=True)\n",
    "print(carroll10.shape)\n",
    "carroll10.head()"
   ]
  },
  {
   "cell_type": "code",
   "execution_count": null,
   "metadata": {},
   "outputs": [],
   "source": [
    "carroll10.rename(columns={'Compound' : 'compound', 'TFP (K)' : 'flashpoint'},inplace=True)\n",
    "carroll10['source'] = 'carroll10'\n",
    "carroll10['pure substance'] = 1\n",
    "carroll10 = carroll10[['smiles', 'compound', 'flashpoint', 'source', 'pure substance']]\n",
    "carroll10.head()"
   ]
  },
  {
   "cell_type": "code",
   "execution_count": null,
   "metadata": {},
   "outputs": [],
   "source": [
    "frames = [integrated_data, carroll10]\n",
    "integrated_data = pd.concat(frames)\n",
    "print(integrated_data['smiles'].unique().shape)"
   ]
  },
  {
   "cell_type": "code",
   "execution_count": null,
   "metadata": {},
   "outputs": [],
   "source": [
    "integrated_data.to_csv('../data/integrated_dataset.csv', index=False)"
   ]
  },
  {
   "cell_type": "markdown",
   "metadata": {},
   "source": [
    "### Check for duplicates in source"
   ]
  },
  {
   "cell_type": "code",
   "execution_count": null,
   "metadata": {},
   "outputs": [],
   "source": [
    "re.compile('\\\\d+-\\\\d', re.ASCII)\n",
    "value = '2–4'\n",
    "print(re.search('\\\\d+-\\\\d', value, re.ASCII))\n",
    "#hch\n",
    "#frames = [hch, integrated_data]\n",
    "#result = pd.concat(frames)"
   ]
  },
  {
   "cell_type": "code",
   "execution_count": null,
   "metadata": {},
   "outputs": [],
   "source": [
    "result['smiles'].unique().shape"
   ]
  },
  {
   "cell_type": "code",
   "execution_count": null,
   "metadata": {},
   "outputs": [],
   "source": [
    "integrated_data.isnull().sum()"
   ]
  },
  {
   "cell_type": "code",
   "execution_count": 15,
   "metadata": {},
   "outputs": [
    {
     "data": {
      "text/html": [
       "<div>\n",
       "<style scoped>\n",
       "    .dataframe tbody tr th:only-of-type {\n",
       "        vertical-align: middle;\n",
       "    }\n",
       "\n",
       "    .dataframe tbody tr th {\n",
       "        vertical-align: top;\n",
       "    }\n",
       "\n",
       "    .dataframe thead th {\n",
       "        text-align: right;\n",
       "    }\n",
       "</style>\n",
       "<table border=\"1\" class=\"dataframe\">\n",
       "  <thead>\n",
       "    <tr style=\"text-align: right;\">\n",
       "      <th></th>\n",
       "      <th>compound</th>\n",
       "      <th>flashpoint</th>\n",
       "      <th>pure substance</th>\n",
       "      <th>smiles</th>\n",
       "      <th>source</th>\n",
       "    </tr>\n",
       "  </thead>\n",
       "  <tbody>\n",
       "    <tr>\n",
       "      <th>4515</th>\n",
       "      <td>(E)-2-methylbut-2-enal</td>\n",
       "      <td>291.45</td>\n",
       "      <td>1.0</td>\n",
       "      <td>C/C=C(\\C)C=O</td>\n",
       "      <td>le15</td>\n",
       "    </tr>\n",
       "    <tr>\n",
       "      <th>5403</th>\n",
       "      <td>1,2,4-trimethylcyclopentane</td>\n",
       "      <td>282.35</td>\n",
       "      <td>1.0</td>\n",
       "      <td>CC1CC(C)C(C)C1</td>\n",
       "      <td>le15</td>\n",
       "    </tr>\n",
       "    <tr>\n",
       "      <th>5410</th>\n",
       "      <td>1,2,4-trimethylcyclopentane</td>\n",
       "      <td>282.35</td>\n",
       "      <td>1.0</td>\n",
       "      <td>CC1CC(C)C(C)C1</td>\n",
       "      <td>le15</td>\n",
       "    </tr>\n",
       "    <tr>\n",
       "      <th>6031</th>\n",
       "      <td>1-ethyl-2-methylcyclohexane</td>\n",
       "      <td>305.05</td>\n",
       "      <td>1.0</td>\n",
       "      <td>CCC1CCCCC1C</td>\n",
       "      <td>le15</td>\n",
       "    </tr>\n",
       "    <tr>\n",
       "      <th>6747</th>\n",
       "      <td>1,3,3a,4,5,6,7,7a-octahydroinden-2-one</td>\n",
       "      <td>352.75</td>\n",
       "      <td>1.0</td>\n",
       "      <td>O=C1CC2CCCCC2C1</td>\n",
       "      <td>le15</td>\n",
       "    </tr>\n",
       "    <tr>\n",
       "      <th>6881</th>\n",
       "      <td>8-methyl-8-azabicyclo[3.2.1]octan-3-ol</td>\n",
       "      <td>385.65</td>\n",
       "      <td>1.0</td>\n",
       "      <td>CN1C2CCC1CC(O)C2</td>\n",
       "      <td>le15</td>\n",
       "    </tr>\n",
       "    <tr>\n",
       "      <th>7282</th>\n",
       "      <td>pentan-2-ylbenzene</td>\n",
       "      <td>333.75</td>\n",
       "      <td>1.0</td>\n",
       "      <td>CCCC(C)c1ccccc1</td>\n",
       "      <td>le15</td>\n",
       "    </tr>\n",
       "    <tr>\n",
       "      <th>13753</th>\n",
       "      <td>Cyclohexanone</td>\n",
       "      <td>317.15</td>\n",
       "      <td>1.0</td>\n",
       "      <td>O=C1CCCCC1</td>\n",
       "      <td>le15</td>\n",
       "    </tr>\n",
       "    <tr>\n",
       "      <th>13965</th>\n",
       "      <td>Pentanenitrile</td>\n",
       "      <td>313.75</td>\n",
       "      <td>1.0</td>\n",
       "      <td>CCCCC#N</td>\n",
       "      <td>le15</td>\n",
       "    </tr>\n",
       "    <tr>\n",
       "      <th>14078</th>\n",
       "      <td>1,2propadiene</td>\n",
       "      <td>172.00</td>\n",
       "      <td>1.0</td>\n",
       "      <td>C=C=C</td>\n",
       "      <td>le15</td>\n",
       "    </tr>\n",
       "    <tr>\n",
       "      <th>14079</th>\n",
       "      <td>Aziridine</td>\n",
       "      <td>262.05</td>\n",
       "      <td>1.0</td>\n",
       "      <td>C1CN1</td>\n",
       "      <td>le15</td>\n",
       "    </tr>\n",
       "    <tr>\n",
       "      <th>14080</th>\n",
       "      <td>Acetaldehyde</td>\n",
       "      <td>246.15</td>\n",
       "      <td>1.0</td>\n",
       "      <td>CC=O</td>\n",
       "      <td>le15</td>\n",
       "    </tr>\n",
       "    <tr>\n",
       "      <th>14081</th>\n",
       "      <td>Dimethylether</td>\n",
       "      <td>232.15</td>\n",
       "      <td>1.0</td>\n",
       "      <td>COC</td>\n",
       "      <td>le15</td>\n",
       "    </tr>\n",
       "    <tr>\n",
       "      <th>14082</th>\n",
       "      <td>ethanol</td>\n",
       "      <td>286.15</td>\n",
       "      <td>1.0</td>\n",
       "      <td>CCO</td>\n",
       "      <td>le15</td>\n",
       "    </tr>\n",
       "    <tr>\n",
       "      <th>14083</th>\n",
       "      <td>2propenenitrile</td>\n",
       "      <td>273.15</td>\n",
       "      <td>1.0</td>\n",
       "      <td>C=CC#N</td>\n",
       "      <td>le15</td>\n",
       "    </tr>\n",
       "    <tr>\n",
       "      <th>14084</th>\n",
       "      <td>1,3butadiene</td>\n",
       "      <td>197.00</td>\n",
       "      <td>1.0</td>\n",
       "      <td>C=CC=C</td>\n",
       "      <td>le15</td>\n",
       "    </tr>\n",
       "    <tr>\n",
       "      <th>14085</th>\n",
       "      <td>1butyne-</td>\n",
       "      <td>210.15</td>\n",
       "      <td>1.0</td>\n",
       "      <td>C#CCC</td>\n",
       "      <td>le15</td>\n",
       "    </tr>\n",
       "    <tr>\n",
       "      <th>14086</th>\n",
       "      <td>2butyne-</td>\n",
       "      <td>224.15</td>\n",
       "      <td>1.0</td>\n",
       "      <td>CC#CC</td>\n",
       "      <td>le15</td>\n",
       "    </tr>\n",
       "    <tr>\n",
       "      <th>14087</th>\n",
       "      <td>2propenal</td>\n",
       "      <td>254.25</td>\n",
       "      <td>1.0</td>\n",
       "      <td>C=CC=O</td>\n",
       "      <td>le15</td>\n",
       "    </tr>\n",
       "    <tr>\n",
       "      <th>14088</th>\n",
       "      <td>MethylIsocyanate</td>\n",
       "      <td>255.15</td>\n",
       "      <td>1.0</td>\n",
       "      <td>CN=C=O</td>\n",
       "      <td>le15</td>\n",
       "    </tr>\n",
       "    <tr>\n",
       "      <th>14089</th>\n",
       "      <td>2methylaziridine-</td>\n",
       "      <td>263.15</td>\n",
       "      <td>1.0</td>\n",
       "      <td>CC1CN1</td>\n",
       "      <td>le15</td>\n",
       "    </tr>\n",
       "    <tr>\n",
       "      <th>14090</th>\n",
       "      <td>Allylamine</td>\n",
       "      <td>244.15</td>\n",
       "      <td>1.0</td>\n",
       "      <td>C=CCN</td>\n",
       "      <td>le15</td>\n",
       "    </tr>\n",
       "    <tr>\n",
       "      <th>14091</th>\n",
       "      <td>Acetone</td>\n",
       "      <td>253.15</td>\n",
       "      <td>1.0</td>\n",
       "      <td>CC(C)=O</td>\n",
       "      <td>le15</td>\n",
       "    </tr>\n",
       "    <tr>\n",
       "      <th>14092</th>\n",
       "      <td>Allylalcohol</td>\n",
       "      <td>294.15</td>\n",
       "      <td>1.0</td>\n",
       "      <td>C=CCO</td>\n",
       "      <td>le15</td>\n",
       "    </tr>\n",
       "    <tr>\n",
       "      <th>14093</th>\n",
       "      <td>Propionaldehyde</td>\n",
       "      <td>243.15</td>\n",
       "      <td>1.0</td>\n",
       "      <td>CCC=O</td>\n",
       "      <td>le15</td>\n",
       "    </tr>\n",
       "    <tr>\n",
       "      <th>14094</th>\n",
       "      <td>Isopropylamine</td>\n",
       "      <td>256.15</td>\n",
       "      <td>1.0</td>\n",
       "      <td>CC(C)N</td>\n",
       "      <td>le15</td>\n",
       "    </tr>\n",
       "    <tr>\n",
       "      <th>14095</th>\n",
       "      <td>Aceticacid</td>\n",
       "      <td>312.15</td>\n",
       "      <td>1.0</td>\n",
       "      <td>CC(=O)O</td>\n",
       "      <td>le15</td>\n",
       "    </tr>\n",
       "    <tr>\n",
       "      <th>14096</th>\n",
       "      <td>hydroxyacetaldehyde</td>\n",
       "      <td>360.15</td>\n",
       "      <td>1.0</td>\n",
       "      <td>O=CCO</td>\n",
       "      <td>le15</td>\n",
       "    </tr>\n",
       "    <tr>\n",
       "      <th>14097</th>\n",
       "      <td>Methylformate</td>\n",
       "      <td>254.15</td>\n",
       "      <td>1.0</td>\n",
       "      <td>COC=O</td>\n",
       "      <td>le15</td>\n",
       "    </tr>\n",
       "    <tr>\n",
       "      <th>14098</th>\n",
       "      <td>2propanol</td>\n",
       "      <td>285.15</td>\n",
       "      <td>1.0</td>\n",
       "      <td>CC(C)O</td>\n",
       "      <td>le15</td>\n",
       "    </tr>\n",
       "    <tr>\n",
       "      <th>...</th>\n",
       "      <td>...</td>\n",
       "      <td>...</td>\n",
       "      <td>...</td>\n",
       "      <td>...</td>\n",
       "      <td>...</td>\n",
       "    </tr>\n",
       "    <tr>\n",
       "      <th>14803</th>\n",
       "      <td>VinylTriacetoxySilane</td>\n",
       "      <td>361.15</td>\n",
       "      <td>1.0</td>\n",
       "      <td>C=C[Si](OC(C)=O)(OC(C)=O)OC(C)=O</td>\n",
       "      <td>le15</td>\n",
       "    </tr>\n",
       "    <tr>\n",
       "      <th>14804</th>\n",
       "      <td>1,3dibromoBenzene</td>\n",
       "      <td>366.15</td>\n",
       "      <td>1.0</td>\n",
       "      <td>Brc1cccc(Br)c1</td>\n",
       "      <td>le15</td>\n",
       "    </tr>\n",
       "    <tr>\n",
       "      <th>14805</th>\n",
       "      <td>OctamethylTrisiloxane</td>\n",
       "      <td>303.15</td>\n",
       "      <td>1.0</td>\n",
       "      <td>C[Si](C)(C)O[Si](C)(C)O[Si](C)(C)C</td>\n",
       "      <td>le15</td>\n",
       "    </tr>\n",
       "    <tr>\n",
       "      <th>14806</th>\n",
       "      <td>PhenethylTrichloroSilane</td>\n",
       "      <td>364.15</td>\n",
       "      <td>1.0</td>\n",
       "      <td>Cl[Si](Cl)(Cl)CCc1ccccc1</td>\n",
       "      <td>le15</td>\n",
       "    </tr>\n",
       "    <tr>\n",
       "      <th>14807</th>\n",
       "      <td>PhenylTriethoxySilane</td>\n",
       "      <td>369.15</td>\n",
       "      <td>1.0</td>\n",
       "      <td>CCO[Si](OCC)(OCC)c1ccccc1</td>\n",
       "      <td>le15</td>\n",
       "    </tr>\n",
       "    <tr>\n",
       "      <th>14808</th>\n",
       "      <td>Heptadecane</td>\n",
       "      <td>421.15</td>\n",
       "      <td>1.0</td>\n",
       "      <td>CCCCCCCCCCCCCCCCC</td>\n",
       "      <td>le15</td>\n",
       "    </tr>\n",
       "    <tr>\n",
       "      <th>14809</th>\n",
       "      <td>3chloropropylTriethoxySilane</td>\n",
       "      <td>335.15</td>\n",
       "      <td>1.0</td>\n",
       "      <td>CCO[Si](CCCCl)(OCC)OCC</td>\n",
       "      <td>le15</td>\n",
       "    </tr>\n",
       "    <tr>\n",
       "      <th>14810</th>\n",
       "      <td>2bromoethyltrichlorosilane</td>\n",
       "      <td>313.15</td>\n",
       "      <td>1.0</td>\n",
       "      <td>Cl[Si](Cl)(Cl)CCBr</td>\n",
       "      <td>le15</td>\n",
       "    </tr>\n",
       "    <tr>\n",
       "      <th>14811</th>\n",
       "      <td>3bromopropylTrimethoxySilane</td>\n",
       "      <td>355.15</td>\n",
       "      <td>1.0</td>\n",
       "      <td>CO[Si](CCCBr)(OC)OC</td>\n",
       "      <td>le15</td>\n",
       "    </tr>\n",
       "    <tr>\n",
       "      <th>14812</th>\n",
       "      <td>Diallylphthalate</td>\n",
       "      <td>438.75</td>\n",
       "      <td>1.0</td>\n",
       "      <td>C=CCOC(=O)c1ccccc1C(=O)OCC=C</td>\n",
       "      <td>le15</td>\n",
       "    </tr>\n",
       "    <tr>\n",
       "      <th>14813</th>\n",
       "      <td>HexaethylDisiloxane</td>\n",
       "      <td>349.15</td>\n",
       "      <td>1.0</td>\n",
       "      <td>CC[Si](CC)(CC)O[Si](CC)(CC)CC</td>\n",
       "      <td>le15</td>\n",
       "    </tr>\n",
       "    <tr>\n",
       "      <th>14814</th>\n",
       "      <td>Bromopentafluorobenzene</td>\n",
       "      <td>360.15</td>\n",
       "      <td>1.0</td>\n",
       "      <td>Fc1c(F)c(F)c(Br)c(F)c1F</td>\n",
       "      <td>le15</td>\n",
       "    </tr>\n",
       "    <tr>\n",
       "      <th>14815</th>\n",
       "      <td>3methacryloxyPropylTrimethoxySilane</td>\n",
       "      <td>365.15</td>\n",
       "      <td>1.0</td>\n",
       "      <td>C=C(C)C(=O)OCCC[Si](OC)(OC)OC</td>\n",
       "      <td>le15</td>\n",
       "    </tr>\n",
       "    <tr>\n",
       "      <th>14816</th>\n",
       "      <td>Octadecane</td>\n",
       "      <td>438.15</td>\n",
       "      <td>1.0</td>\n",
       "      <td>CCCCCCCCCCCCCCCCCC</td>\n",
       "      <td>le15</td>\n",
       "    </tr>\n",
       "    <tr>\n",
       "      <th>14817</th>\n",
       "      <td>3bromopropyltrichlorosilane</td>\n",
       "      <td>361.15</td>\n",
       "      <td>1.0</td>\n",
       "      <td>Cl[Si](Cl)(Cl)CCCBr</td>\n",
       "      <td>le15</td>\n",
       "    </tr>\n",
       "    <tr>\n",
       "      <th>14818</th>\n",
       "      <td>TrisTrimethylSiloxyMethylSilane</td>\n",
       "      <td>336.15</td>\n",
       "      <td>1.0</td>\n",
       "      <td>C[Si](C)(C)OC([SiH3])(O[Si](C)(C)C)O[Si](C)(C)C</td>\n",
       "      <td>le15</td>\n",
       "    </tr>\n",
       "    <tr>\n",
       "      <th>14819</th>\n",
       "      <td>Nonadecane</td>\n",
       "      <td>439.15</td>\n",
       "      <td>1.0</td>\n",
       "      <td>CCCCCCCCCCCCCCCCCCC</td>\n",
       "      <td>le15</td>\n",
       "    </tr>\n",
       "    <tr>\n",
       "      <th>14821</th>\n",
       "      <td>StearicAcid</td>\n",
       "      <td>469.00</td>\n",
       "      <td>1.0</td>\n",
       "      <td>CCCCCCCCCCCCCCCCCC(=O)O</td>\n",
       "      <td>le15</td>\n",
       "    </tr>\n",
       "    <tr>\n",
       "      <th>14822</th>\n",
       "      <td>OctamethylCyclotetrasilazane</td>\n",
       "      <td>339.15</td>\n",
       "      <td>1.0</td>\n",
       "      <td>C[Si]1(C)N[Si](C)(C)N[Si](C)(C)N[Si](C)(C)N1</td>\n",
       "      <td>le15</td>\n",
       "    </tr>\n",
       "    <tr>\n",
       "      <th>14823</th>\n",
       "      <td>OctamethylCyclotetrasiloxane</td>\n",
       "      <td>330.15</td>\n",
       "      <td>1.0</td>\n",
       "      <td>C[Si]1(C)O[Si](C)(C)O[Si](C)(C)O[Si](C)(C)O1</td>\n",
       "      <td>le15</td>\n",
       "    </tr>\n",
       "    <tr>\n",
       "      <th>14824</th>\n",
       "      <td>PropylTrisdimethylsiloxySilane</td>\n",
       "      <td>323.15</td>\n",
       "      <td>1.0</td>\n",
       "      <td>CCC[Si](O[SiH](C)C)(O[SiH](C)C)O[SiH](C)C</td>\n",
       "      <td>le15</td>\n",
       "    </tr>\n",
       "    <tr>\n",
       "      <th>14825</th>\n",
       "      <td>DecamethylTetraSiloxane</td>\n",
       "      <td>335.15</td>\n",
       "      <td>1.0</td>\n",
       "      <td>C[Si](C)(C)O[Si](C)(C)O[Si](C)(C)O[Si](C)(C)C</td>\n",
       "      <td>le15</td>\n",
       "    </tr>\n",
       "    <tr>\n",
       "      <th>14826</th>\n",
       "      <td>Dibutylsebacate</td>\n",
       "      <td>440.00</td>\n",
       "      <td>1.0</td>\n",
       "      <td>CCCCOC(=O)CCCCCCCCC(=O)OCCCC</td>\n",
       "      <td>le15</td>\n",
       "    </tr>\n",
       "    <tr>\n",
       "      <th>14827</th>\n",
       "      <td>1,2dibromoethyltrichlorosilane</td>\n",
       "      <td>338.15</td>\n",
       "      <td>1.0</td>\n",
       "      <td>Cl[Si](Cl)(Cl)C(Br)CBr</td>\n",
       "      <td>le15</td>\n",
       "    </tr>\n",
       "    <tr>\n",
       "      <th>14828</th>\n",
       "      <td>TetrakisDimethylsiloxySilane</td>\n",
       "      <td>340.15</td>\n",
       "      <td>1.0</td>\n",
       "      <td>C[SiH](C)O[Si](O[SiH](C)C)(O[SiH](C)C)O[SiH](C)C</td>\n",
       "      <td>le15</td>\n",
       "    </tr>\n",
       "    <tr>\n",
       "      <th>14829</th>\n",
       "      <td>1chlorononamethylTetrasiloxane</td>\n",
       "      <td>347.15</td>\n",
       "      <td>1.0</td>\n",
       "      <td>C[Si](C)(C)O[Si](C)(C)O[Si](C)(C)O[Si](C)(C)Cl</td>\n",
       "      <td>le15</td>\n",
       "    </tr>\n",
       "    <tr>\n",
       "      <th>14830</th>\n",
       "      <td>Cyclohexyl</td>\n",
       "      <td>488.05</td>\n",
       "      <td>1.0</td>\n",
       "      <td>[CH]1CCCCC1</td>\n",
       "      <td>le15</td>\n",
       "    </tr>\n",
       "    <tr>\n",
       "      <th>14831</th>\n",
       "      <td>DecamethylCyclopentasiloxane</td>\n",
       "      <td>350.15</td>\n",
       "      <td>1.0</td>\n",
       "      <td>C[Si]1(C)O[Si](C)(C)O[Si](C)(C)O[Si](C)(C)O[Si...</td>\n",
       "      <td>le15</td>\n",
       "    </tr>\n",
       "    <tr>\n",
       "      <th>14832</th>\n",
       "      <td>DodecamethylPentasiloxane</td>\n",
       "      <td>352.15</td>\n",
       "      <td>1.0</td>\n",
       "      <td>C[Si](C)(C)O[Si](C)(C)O[Si](C)(C)O[Si](C)(C)O[...</td>\n",
       "      <td>le15</td>\n",
       "    </tr>\n",
       "    <tr>\n",
       "      <th>14834</th>\n",
       "      <td>DodecamethylCyclohexasiloxane</td>\n",
       "      <td>366.15</td>\n",
       "      <td>1.0</td>\n",
       "      <td>C[Si]1(C)O[Si](C)(C)O[Si](C)(C)O[Si](C)(C)O[Si...</td>\n",
       "      <td>le15</td>\n",
       "    </tr>\n",
       "  </tbody>\n",
       "</table>\n",
       "<p>759 rows × 5 columns</p>\n",
       "</div>"
      ],
      "text/plain": [
       "                                     compound  flashpoint  pure substance  \\\n",
       "4515                   (E)-2-methylbut-2-enal      291.45             1.0   \n",
       "5403              1,2,4-trimethylcyclopentane      282.35             1.0   \n",
       "5410              1,2,4-trimethylcyclopentane      282.35             1.0   \n",
       "6031              1-ethyl-2-methylcyclohexane      305.05             1.0   \n",
       "6747   1,3,3a,4,5,6,7,7a-octahydroinden-2-one      352.75             1.0   \n",
       "6881   8-methyl-8-azabicyclo[3.2.1]octan-3-ol      385.65             1.0   \n",
       "7282                       pentan-2-ylbenzene      333.75             1.0   \n",
       "13753                           Cyclohexanone      317.15             1.0   \n",
       "13965                          Pentanenitrile      313.75             1.0   \n",
       "14078                           1,2propadiene      172.00             1.0   \n",
       "14079                               Aziridine      262.05             1.0   \n",
       "14080                            Acetaldehyde      246.15             1.0   \n",
       "14081                           Dimethylether      232.15             1.0   \n",
       "14082                                 ethanol      286.15             1.0   \n",
       "14083                         2propenenitrile      273.15             1.0   \n",
       "14084                            1,3butadiene      197.00             1.0   \n",
       "14085                                1butyne-      210.15             1.0   \n",
       "14086                                2butyne-      224.15             1.0   \n",
       "14087                               2propenal      254.25             1.0   \n",
       "14088                        MethylIsocyanate      255.15             1.0   \n",
       "14089                       2methylaziridine-      263.15             1.0   \n",
       "14090                              Allylamine      244.15             1.0   \n",
       "14091                                 Acetone      253.15             1.0   \n",
       "14092                            Allylalcohol      294.15             1.0   \n",
       "14093                         Propionaldehyde      243.15             1.0   \n",
       "14094                          Isopropylamine      256.15             1.0   \n",
       "14095                              Aceticacid      312.15             1.0   \n",
       "14096                     hydroxyacetaldehyde      360.15             1.0   \n",
       "14097                           Methylformate      254.15             1.0   \n",
       "14098                               2propanol      285.15             1.0   \n",
       "...                                       ...         ...             ...   \n",
       "14803                   VinylTriacetoxySilane      361.15             1.0   \n",
       "14804                       1,3dibromoBenzene      366.15             1.0   \n",
       "14805                   OctamethylTrisiloxane      303.15             1.0   \n",
       "14806                PhenethylTrichloroSilane      364.15             1.0   \n",
       "14807                   PhenylTriethoxySilane      369.15             1.0   \n",
       "14808                             Heptadecane      421.15             1.0   \n",
       "14809            3chloropropylTriethoxySilane      335.15             1.0   \n",
       "14810              2bromoethyltrichlorosilane      313.15             1.0   \n",
       "14811            3bromopropylTrimethoxySilane      355.15             1.0   \n",
       "14812                        Diallylphthalate      438.75             1.0   \n",
       "14813                     HexaethylDisiloxane      349.15             1.0   \n",
       "14814                 Bromopentafluorobenzene      360.15             1.0   \n",
       "14815     3methacryloxyPropylTrimethoxySilane      365.15             1.0   \n",
       "14816                              Octadecane      438.15             1.0   \n",
       "14817             3bromopropyltrichlorosilane      361.15             1.0   \n",
       "14818         TrisTrimethylSiloxyMethylSilane      336.15             1.0   \n",
       "14819                              Nonadecane      439.15             1.0   \n",
       "14821                             StearicAcid      469.00             1.0   \n",
       "14822            OctamethylCyclotetrasilazane      339.15             1.0   \n",
       "14823            OctamethylCyclotetrasiloxane      330.15             1.0   \n",
       "14824          PropylTrisdimethylsiloxySilane      323.15             1.0   \n",
       "14825                 DecamethylTetraSiloxane      335.15             1.0   \n",
       "14826                         Dibutylsebacate      440.00             1.0   \n",
       "14827          1,2dibromoethyltrichlorosilane      338.15             1.0   \n",
       "14828            TetrakisDimethylsiloxySilane      340.15             1.0   \n",
       "14829          1chlorononamethylTetrasiloxane      347.15             1.0   \n",
       "14830                             Cyclohexyl       488.05             1.0   \n",
       "14831            DecamethylCyclopentasiloxane      350.15             1.0   \n",
       "14832               DodecamethylPentasiloxane      352.15             1.0   \n",
       "14834           DodecamethylCyclohexasiloxane      366.15             1.0   \n",
       "\n",
       "                                                  smiles source  \n",
       "4515                                        C/C=C(\\C)C=O   le15  \n",
       "5403                                      CC1CC(C)C(C)C1   le15  \n",
       "5410                                      CC1CC(C)C(C)C1   le15  \n",
       "6031                                         CCC1CCCCC1C   le15  \n",
       "6747                                     O=C1CC2CCCCC2C1   le15  \n",
       "6881                                    CN1C2CCC1CC(O)C2   le15  \n",
       "7282                                     CCCC(C)c1ccccc1   le15  \n",
       "13753                                         O=C1CCCCC1   le15  \n",
       "13965                                            CCCCC#N   le15  \n",
       "14078                                              C=C=C   le15  \n",
       "14079                                              C1CN1   le15  \n",
       "14080                                               CC=O   le15  \n",
       "14081                                                COC   le15  \n",
       "14082                                                CCO   le15  \n",
       "14083                                             C=CC#N   le15  \n",
       "14084                                             C=CC=C   le15  \n",
       "14085                                              C#CCC   le15  \n",
       "14086                                              CC#CC   le15  \n",
       "14087                                             C=CC=O   le15  \n",
       "14088                                             CN=C=O   le15  \n",
       "14089                                             CC1CN1   le15  \n",
       "14090                                              C=CCN   le15  \n",
       "14091                                            CC(C)=O   le15  \n",
       "14092                                              C=CCO   le15  \n",
       "14093                                              CCC=O   le15  \n",
       "14094                                             CC(C)N   le15  \n",
       "14095                                            CC(=O)O   le15  \n",
       "14096                                              O=CCO   le15  \n",
       "14097                                              COC=O   le15  \n",
       "14098                                             CC(C)O   le15  \n",
       "...                                                  ...    ...  \n",
       "14803                   C=C[Si](OC(C)=O)(OC(C)=O)OC(C)=O   le15  \n",
       "14804                                     Brc1cccc(Br)c1   le15  \n",
       "14805                 C[Si](C)(C)O[Si](C)(C)O[Si](C)(C)C   le15  \n",
       "14806                           Cl[Si](Cl)(Cl)CCc1ccccc1   le15  \n",
       "14807                          CCO[Si](OCC)(OCC)c1ccccc1   le15  \n",
       "14808                                  CCCCCCCCCCCCCCCCC   le15  \n",
       "14809                             CCO[Si](CCCCl)(OCC)OCC   le15  \n",
       "14810                                 Cl[Si](Cl)(Cl)CCBr   le15  \n",
       "14811                                CO[Si](CCCBr)(OC)OC   le15  \n",
       "14812                       C=CCOC(=O)c1ccccc1C(=O)OCC=C   le15  \n",
       "14813                      CC[Si](CC)(CC)O[Si](CC)(CC)CC   le15  \n",
       "14814                            Fc1c(F)c(F)c(Br)c(F)c1F   le15  \n",
       "14815                      C=C(C)C(=O)OCCC[Si](OC)(OC)OC   le15  \n",
       "14816                                 CCCCCCCCCCCCCCCCCC   le15  \n",
       "14817                                Cl[Si](Cl)(Cl)CCCBr   le15  \n",
       "14818    C[Si](C)(C)OC([SiH3])(O[Si](C)(C)C)O[Si](C)(C)C   le15  \n",
       "14819                                CCCCCCCCCCCCCCCCCCC   le15  \n",
       "14821                            CCCCCCCCCCCCCCCCCC(=O)O   le15  \n",
       "14822       C[Si]1(C)N[Si](C)(C)N[Si](C)(C)N[Si](C)(C)N1   le15  \n",
       "14823       C[Si]1(C)O[Si](C)(C)O[Si](C)(C)O[Si](C)(C)O1   le15  \n",
       "14824          CCC[Si](O[SiH](C)C)(O[SiH](C)C)O[SiH](C)C   le15  \n",
       "14825      C[Si](C)(C)O[Si](C)(C)O[Si](C)(C)O[Si](C)(C)C   le15  \n",
       "14826                       CCCCOC(=O)CCCCCCCCC(=O)OCCCC   le15  \n",
       "14827                             Cl[Si](Cl)(Cl)C(Br)CBr   le15  \n",
       "14828   C[SiH](C)O[Si](O[SiH](C)C)(O[SiH](C)C)O[SiH](C)C   le15  \n",
       "14829     C[Si](C)(C)O[Si](C)(C)O[Si](C)(C)O[Si](C)(C)Cl   le15  \n",
       "14830                                        [CH]1CCCCC1   le15  \n",
       "14831  C[Si]1(C)O[Si](C)(C)O[Si](C)(C)O[Si](C)(C)O[Si...   le15  \n",
       "14832  C[Si](C)(C)O[Si](C)(C)O[Si](C)(C)O[Si](C)(C)O[...   le15  \n",
       "14834  C[Si]1(C)O[Si](C)(C)O[Si](C)(C)O[Si](C)(C)O[Si...   le15  \n",
       "\n",
       "[759 rows x 5 columns]"
      ]
     },
     "execution_count": 15,
     "metadata": {},
     "output_type": "execute_result"
    }
   ],
   "source": [
    "integrated_data[integrated_data['source'] == 'le15'][integrated_data[integrated_data['source'] == 'le15'].duplicated()]"
   ]
  },
  {
   "cell_type": "code",
   "execution_count": 17,
   "metadata": {},
   "outputs": [
    {
     "data": {
      "text/plain": [
       "(7597,)"
      ]
     },
     "execution_count": 17,
     "metadata": {},
     "output_type": "execute_result"
    }
   ],
   "source": [
    "integrated_data[integrated_data['source'] == 'le15']['smiles'].unique().shape"
   ]
  },
  {
   "cell_type": "code",
   "execution_count": 27,
   "metadata": {},
   "outputs": [],
   "source": [
    "def remove_duplicates_by_source(dataframe):\n",
    "    sources = dataframe.source.unique()\n",
    "    for source in sources:\n",
    "        sourceframe = dataframe[dataframe['source'] == source]\n",
    "        dataframe = dataframe[dataframe['source'] != source]\n",
    "        sourceframe.drop_duplicates(subset ='smiles',keep='first', inplace=True)\n",
    "        frames = [dataframe, sourceframe]\n",
    "        dataframe = pd.concat(frames)\n",
    "    return dataframe\n",
    "\n",
    "def check_null_values(dataframe):\n",
    "    return dataframe.isnull().sum()"
   ]
  },
  {
   "cell_type": "code",
   "execution_count": 28,
   "metadata": {},
   "outputs": [
    {
     "name": "stderr",
     "output_type": "stream",
     "text": [
      "C:\\Users\\Nathaniel\\Miniconda3\\envs\\moleprop\\lib\\site-packages\\ipykernel_launcher.py:7: SettingWithCopyWarning: \n",
      "A value is trying to be set on a copy of a slice from a DataFrame\n",
      "\n",
      "See the caveats in the documentation: http://pandas.pydata.org/pandas-docs/stable/indexing.html#indexing-view-versus-copy\n",
      "  import sys\n"
     ]
    },
    {
     "name": "stdout",
     "output_type": "stream",
     "text": [
      "(16386, 5)\n",
      "(14692, 5)\n"
     ]
    }
   ],
   "source": [
    "copy = integrated_data\n",
    "change = remove_duplicates_by_source(copy)\n",
    "print(integrated_data.shape)\n",
    "print(change.shape)"
   ]
  },
  {
   "cell_type": "code",
   "execution_count": 35,
   "metadata": {},
   "outputs": [
    {
     "data": {
      "text/html": [
       "<div>\n",
       "<style scoped>\n",
       "    .dataframe tbody tr th:only-of-type {\n",
       "        vertical-align: middle;\n",
       "    }\n",
       "\n",
       "    .dataframe tbody tr th {\n",
       "        vertical-align: top;\n",
       "    }\n",
       "\n",
       "    .dataframe thead th {\n",
       "        text-align: right;\n",
       "    }\n",
       "</style>\n",
       "<table border=\"1\" class=\"dataframe\">\n",
       "  <thead>\n",
       "    <tr style=\"text-align: right;\">\n",
       "      <th></th>\n",
       "      <th>compound</th>\n",
       "      <th>flashpoint</th>\n",
       "      <th>pure substance</th>\n",
       "      <th>smiles</th>\n",
       "      <th>source</th>\n",
       "    </tr>\n",
       "  </thead>\n",
       "  <tbody>\n",
       "    <tr>\n",
       "      <th>1521</th>\n",
       "      <td>butan-1-ol;titanium</td>\n",
       "      <td>350.15</td>\n",
       "      <td>1.0</td>\n",
       "      <td>CCCCO.CCCCO.CCCCO.CCCCO.[Ti]</td>\n",
       "      <td>pubchem</td>\n",
       "    </tr>\n",
       "  </tbody>\n",
       "</table>\n",
       "</div>"
      ],
      "text/plain": [
       "                 compound  flashpoint  pure substance  \\\n",
       "1521  butan-1-ol;titanium      350.15             1.0   \n",
       "\n",
       "                            smiles   source  \n",
       "1521  CCCCO.CCCCO.CCCCO.CCCCO.[Ti]  pubchem  "
      ]
     },
     "execution_count": 35,
     "metadata": {},
     "output_type": "execute_result"
    }
   ],
   "source": [
    "change[change['smiles'] == 'CCCCO.CCCCO.CCCCO.CCCCO.[Ti]']\n",
    "#copy[copy.source == 'pubchem'][copy[copy.source == 'pubchem'].duplicated()]"
   ]
  },
  {
   "cell_type": "code",
   "execution_count": 15,
   "metadata": {},
   "outputs": [
    {
     "data": {
      "text/plain": [
       "(1612, 5)"
      ]
     },
     "execution_count": 15,
     "metadata": {},
     "output_type": "execute_result"
    }
   ],
   "source": [
    "pubchem[pubchem['smiles'].duplicated()]\n",
    "pubchem[pubchem['smiles'] == 'CC1(C2CCC1(C(C2)O)C)C']\n",
    "pubchem.drop_duplicates(subset ='smiles',keep='first').shape"
   ]
  },
  {
   "cell_type": "code",
   "execution_count": 16,
   "metadata": {},
   "outputs": [
    {
     "data": {
      "text/plain": [
       "(1755, 5)"
      ]
     },
     "execution_count": 16,
     "metadata": {},
     "output_type": "execute_result"
    }
   ],
   "source": [
    "copy[copy['smiles'] == 'CCCCO.CCCCO.CCCCO.CCCCO.[Ti]']\n"
   ]
  },
  {
   "cell_type": "code",
   "execution_count": 37,
   "metadata": {},
   "outputs": [],
   "source": []
  },
  {
   "cell_type": "code",
   "execution_count": 39,
   "metadata": {},
   "outputs": [
    {
     "data": {
      "text/html": [
       "<div>\n",
       "<style scoped>\n",
       "    .dataframe tbody tr th:only-of-type {\n",
       "        vertical-align: middle;\n",
       "    }\n",
       "\n",
       "    .dataframe tbody tr th {\n",
       "        vertical-align: top;\n",
       "    }\n",
       "\n",
       "    .dataframe thead th {\n",
       "        text-align: right;\n",
       "    }\n",
       "</style>\n",
       "<table border=\"1\" class=\"dataframe\">\n",
       "  <thead>\n",
       "    <tr style=\"text-align: right;\">\n",
       "      <th></th>\n",
       "      <th>compound</th>\n",
       "      <th>flashpoint</th>\n",
       "      <th>pure substance</th>\n",
       "      <th>smiles</th>\n",
       "      <th>source</th>\n",
       "    </tr>\n",
       "  </thead>\n",
       "  <tbody>\n",
       "    <tr>\n",
       "      <th>16238</th>\n",
       "      <td>heptanes</td>\n",
       "      <td>272.15</td>\n",
       "      <td>1.0</td>\n",
       "      <td>NaN</td>\n",
       "      <td>patel10</td>\n",
       "    </tr>\n",
       "  </tbody>\n",
       "</table>\n",
       "</div>"
      ],
      "text/plain": [
       "       compound  flashpoint  pure substance smiles   source\n",
       "16238  heptanes      272.15             1.0    NaN  patel10"
      ]
     },
     "execution_count": 39,
     "metadata": {},
     "output_type": "execute_result"
    }
   ],
   "source": [
    "change[change['compound'] == 'heptanes']"
   ]
  },
  {
   "cell_type": "code",
   "execution_count": 44,
   "metadata": {},
   "outputs": [
    {
     "data": {
      "text/plain": [
       "compound          0\n",
       "flashpoint        0\n",
       "pure substance    0\n",
       "smiles            0\n",
       "source            0\n",
       "dtype: int64"
      ]
     },
     "execution_count": 44,
     "metadata": {},
     "output_type": "execute_result"
    }
   ],
   "source": [
    "change.dropna(inplace=True)\n",
    "change.isnull().sum()"
   ]
  },
  {
   "cell_type": "code",
   "execution_count": 45,
   "metadata": {},
   "outputs": [],
   "source": [
    "change.to_csv('../data/integrated_dataset.csv', index=False)"
   ]
  },
  {
   "cell_type": "code",
   "execution_count": null,
   "metadata": {},
   "outputs": [],
   "source": []
  }
 ],
 "metadata": {
  "kernelspec": {
   "display_name": "moleprop",
   "language": "python",
   "name": "moleprop"
  },
  "language_info": {
   "codemirror_mode": {
    "name": "ipython",
    "version": 3
   },
   "file_extension": ".py",
   "mimetype": "text/x-python",
   "name": "python",
   "nbconvert_exporter": "python",
   "pygments_lexer": "ipython3",
   "version": "3.6.8"
  }
 },
 "nbformat": 4,
 "nbformat_minor": 2
}
