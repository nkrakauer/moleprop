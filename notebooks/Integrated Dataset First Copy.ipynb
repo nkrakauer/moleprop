{
 "cells": [
  {
   "cell_type": "code",
   "execution_count": 100,
   "metadata": {},
   "outputs": [],
   "source": [
    "import pandas as pd\n",
    "from rdkit import Chem\n",
    "import requests\n",
    "#from helpers.integration_helpers import canoicalize_smiles"
   ]
  },
  {
   "cell_type": "markdown",
   "metadata": {},
   "source": [
    "## Carroll"
   ]
  },
  {
   "cell_type": "code",
   "execution_count": 113,
   "metadata": {},
   "outputs": [],
   "source": [
    "carroll = pd.read_csv('../data/Carroll11.csv', encoding = \"ISO-8859-1\")"
   ]
  },
  {
   "cell_type": "code",
   "execution_count": 114,
   "metadata": {},
   "outputs": [
    {
     "name": "stdout",
     "output_type": "stream",
     "text": [
      "['smiles', 'compound', 'flashpoint', 'source', 'pure substance']\n"
     ]
    },
    {
     "data": {
      "text/html": [
       "<div>\n",
       "<style scoped>\n",
       "    .dataframe tbody tr th:only-of-type {\n",
       "        vertical-align: middle;\n",
       "    }\n",
       "\n",
       "    .dataframe tbody tr th {\n",
       "        vertical-align: top;\n",
       "    }\n",
       "\n",
       "    .dataframe thead th {\n",
       "        text-align: right;\n",
       "    }\n",
       "</style>\n",
       "<table border=\"1\" class=\"dataframe\">\n",
       "  <thead>\n",
       "    <tr style=\"text-align: right;\">\n",
       "      <th></th>\n",
       "      <th>smiles</th>\n",
       "      <th>compound</th>\n",
       "      <th>flashpoint</th>\n",
       "      <th>source</th>\n",
       "      <th>pure substance</th>\n",
       "    </tr>\n",
       "  </thead>\n",
       "  <tbody>\n",
       "    <tr>\n",
       "      <th>0</th>\n",
       "      <td>CCCCC</td>\n",
       "      <td>pentane</td>\n",
       "      <td>233.0</td>\n",
       "      <td>carroll11</td>\n",
       "      <td>1</td>\n",
       "    </tr>\n",
       "    <tr>\n",
       "      <th>1</th>\n",
       "      <td>CCCCCC</td>\n",
       "      <td>hexane</td>\n",
       "      <td>247.0</td>\n",
       "      <td>carroll11</td>\n",
       "      <td>1</td>\n",
       "    </tr>\n",
       "    <tr>\n",
       "      <th>2</th>\n",
       "      <td>CCCCCCC</td>\n",
       "      <td>heptane</td>\n",
       "      <td>269.0</td>\n",
       "      <td>carroll11</td>\n",
       "      <td>1</td>\n",
       "    </tr>\n",
       "    <tr>\n",
       "      <th>3</th>\n",
       "      <td>CCCCCCCC</td>\n",
       "      <td>octane</td>\n",
       "      <td>286.0</td>\n",
       "      <td>carroll11</td>\n",
       "      <td>1</td>\n",
       "    </tr>\n",
       "    <tr>\n",
       "      <th>4</th>\n",
       "      <td>CCCCCCCCC</td>\n",
       "      <td>nonane</td>\n",
       "      <td>304.0</td>\n",
       "      <td>carroll11</td>\n",
       "      <td>1</td>\n",
       "    </tr>\n",
       "  </tbody>\n",
       "</table>\n",
       "</div>"
      ],
      "text/plain": [
       "      smiles compound  flashpoint     source  pure substance\n",
       "0      CCCCC  pentane       233.0  carroll11               1\n",
       "1     CCCCCC   hexane       247.0  carroll11               1\n",
       "2    CCCCCCC  heptane       269.0  carroll11               1\n",
       "3   CCCCCCCC   octane       286.0  carroll11               1\n",
       "4  CCCCCCCCC   nonane       304.0  carroll11               1"
      ]
     },
     "execution_count": 114,
     "metadata": {},
     "output_type": "execute_result"
    }
   ],
   "source": [
    "print(list(carroll))\n",
    "#carroll = data[['Compound', 'TFP(K)Ref.']]\n",
    "#carroll['source'] = 'carroll11'\n",
    "#carroll['pure substance'] = 1\n",
    "carroll.head()"
   ]
  },
  {
   "cell_type": "markdown",
   "metadata": {},
   "source": [
    "## Saldana"
   ]
  },
  {
   "cell_type": "code",
   "execution_count": 115,
   "metadata": {},
   "outputs": [
    {
     "data": {
      "text/html": [
       "<div>\n",
       "<style scoped>\n",
       "    .dataframe tbody tr th:only-of-type {\n",
       "        vertical-align: middle;\n",
       "    }\n",
       "\n",
       "    .dataframe tbody tr th {\n",
       "        vertical-align: top;\n",
       "    }\n",
       "\n",
       "    .dataframe thead th {\n",
       "        text-align: right;\n",
       "    }\n",
       "</style>\n",
       "<table border=\"1\" class=\"dataframe\">\n",
       "  <thead>\n",
       "    <tr style=\"text-align: right;\">\n",
       "      <th></th>\n",
       "      <th>smiles</th>\n",
       "      <th>compound</th>\n",
       "      <th>flashpoint</th>\n",
       "      <th>source</th>\n",
       "      <th>pure substance</th>\n",
       "    </tr>\n",
       "  </thead>\n",
       "  <tbody>\n",
       "    <tr>\n",
       "      <th>0</th>\n",
       "      <td>OC/C=C/CO</td>\n",
       "      <td>(2E)-but-2-ene-1,4-diol</td>\n",
       "      <td>401.0</td>\n",
       "      <td>Saldana11</td>\n",
       "      <td>1</td>\n",
       "    </tr>\n",
       "    <tr>\n",
       "      <th>1</th>\n",
       "      <td>OC[C@H](O)[C@@H](O)[C@H](O)[C@H](O)CO</td>\n",
       "      <td>(2R,3R,4R,5S)-hexane-1,2,3,4,5,6-hexol</td>\n",
       "      <td>422.0</td>\n",
       "      <td>Saldana11</td>\n",
       "      <td>1</td>\n",
       "    </tr>\n",
       "    <tr>\n",
       "      <th>2</th>\n",
       "      <td>OCC[C@H](O)CO</td>\n",
       "      <td>(2S)-butane-1,2,4-triol</td>\n",
       "      <td>385.0</td>\n",
       "      <td>Saldana11</td>\n",
       "      <td>1</td>\n",
       "    </tr>\n",
       "    <tr>\n",
       "      <th>3</th>\n",
       "      <td>OC/C=C\\CO</td>\n",
       "      <td>(2Z)-but-2-ene-1,4-diol</td>\n",
       "      <td>401.0</td>\n",
       "      <td>Saldana11</td>\n",
       "      <td>1</td>\n",
       "    </tr>\n",
       "    <tr>\n",
       "      <th>4</th>\n",
       "      <td>OCCCCCCCC/C=C\\C/C=C\\C/C=C\\CC</td>\n",
       "      <td>(9Z,12Z,15Z)-octadeca-9,12,15-trien-1-ol</td>\n",
       "      <td>NaN</td>\n",
       "      <td>Saldana11</td>\n",
       "      <td>1</td>\n",
       "    </tr>\n",
       "  </tbody>\n",
       "</table>\n",
       "</div>"
      ],
      "text/plain": [
       "                                  smiles  \\\n",
       "0                              OC/C=C/CO   \n",
       "1  OC[C@H](O)[C@@H](O)[C@H](O)[C@H](O)CO   \n",
       "2                          OCC[C@H](O)CO   \n",
       "3                              OC/C=C\\CO   \n",
       "4           OCCCCCCCC/C=C\\C/C=C\\C/C=C\\CC   \n",
       "\n",
       "                                   compound  flashpoint     source  \\\n",
       "0                   (2E)-but-2-ene-1,4-diol       401.0  Saldana11   \n",
       "1    (2R,3R,4R,5S)-hexane-1,2,3,4,5,6-hexol       422.0  Saldana11   \n",
       "2                   (2S)-butane-1,2,4-triol       385.0  Saldana11   \n",
       "3                   (2Z)-but-2-ene-1,4-diol       401.0  Saldana11   \n",
       "4  (9Z,12Z,15Z)-octadeca-9,12,15-trien-1-ol         NaN  Saldana11   \n",
       "\n",
       "   pure substance  \n",
       "0               1  \n",
       "1               1  \n",
       "2               1  \n",
       "3               1  \n",
       "4               1  "
      ]
     },
     "execution_count": 115,
     "metadata": {},
     "output_type": "execute_result"
    }
   ],
   "source": [
    "fuels = pd.read_csv('../data/fuels.csv', encoding = \"ISO-8859-1\")\n",
    "fuels.head()"
   ]
  },
  {
   "cell_type": "markdown",
   "metadata": {},
   "source": [
    "## Pan12"
   ]
  },
  {
   "cell_type": "code",
   "execution_count": 116,
   "metadata": {},
   "outputs": [
    {
     "data": {
      "text/html": [
       "<div>\n",
       "<style scoped>\n",
       "    .dataframe tbody tr th:only-of-type {\n",
       "        vertical-align: middle;\n",
       "    }\n",
       "\n",
       "    .dataframe tbody tr th {\n",
       "        vertical-align: top;\n",
       "    }\n",
       "\n",
       "    .dataframe thead th {\n",
       "        text-align: right;\n",
       "    }\n",
       "</style>\n",
       "<table border=\"1\" class=\"dataframe\">\n",
       "  <thead>\n",
       "    <tr style=\"text-align: right;\">\n",
       "      <th></th>\n",
       "      <th>smiles</th>\n",
       "      <th>compound</th>\n",
       "      <th>flashpoint</th>\n",
       "      <th>source</th>\n",
       "      <th>pure substance</th>\n",
       "    </tr>\n",
       "  </thead>\n",
       "  <tbody>\n",
       "    <tr>\n",
       "      <th>0</th>\n",
       "      <td>Cl[SiH](Cl)Cl</td>\n",
       "      <td>Trichlorosilane</td>\n",
       "      <td>245.0</td>\n",
       "      <td>pan12</td>\n",
       "      <td>1</td>\n",
       "    </tr>\n",
       "    <tr>\n",
       "      <th>1</th>\n",
       "      <td>Cl[SiH2]Cl</td>\n",
       "      <td>Dichlorosilane</td>\n",
       "      <td>236.0</td>\n",
       "      <td>pan12</td>\n",
       "      <td>1</td>\n",
       "    </tr>\n",
       "    <tr>\n",
       "      <th>2</th>\n",
       "      <td>C[Si](Cl)(Cl)Cl</td>\n",
       "      <td>Methyltrichlorosilane</td>\n",
       "      <td>276.0</td>\n",
       "      <td>pan12</td>\n",
       "      <td>1</td>\n",
       "    </tr>\n",
       "    <tr>\n",
       "      <th>3</th>\n",
       "      <td>C[SiH](Cl)Cl</td>\n",
       "      <td>Methyldichlorosilane</td>\n",
       "      <td>241.0</td>\n",
       "      <td>pan12</td>\n",
       "      <td>1</td>\n",
       "    </tr>\n",
       "    <tr>\n",
       "      <th>4</th>\n",
       "      <td>ClC(Cl)[Si](Cl)(Cl)C</td>\n",
       "      <td>Dichloromethylmethyldichlorosilane</td>\n",
       "      <td>301.0</td>\n",
       "      <td>pan12</td>\n",
       "      <td>1</td>\n",
       "    </tr>\n",
       "  </tbody>\n",
       "</table>\n",
       "</div>"
      ],
      "text/plain": [
       "                 smiles                            compound  flashpoint  \\\n",
       "0         Cl[SiH](Cl)Cl                     Trichlorosilane       245.0   \n",
       "1            Cl[SiH2]Cl                      Dichlorosilane       236.0   \n",
       "2       C[Si](Cl)(Cl)Cl               Methyltrichlorosilane       276.0   \n",
       "3          C[SiH](Cl)Cl                Methyldichlorosilane       241.0   \n",
       "4  ClC(Cl)[Si](Cl)(Cl)C  Dichloromethylmethyldichlorosilane       301.0   \n",
       "\n",
       "  source  pure substance  \n",
       "0  pan12               1  \n",
       "1  pan12               1  \n",
       "2  pan12               1  \n",
       "3  pan12               1  \n",
       "4  pan12               1  "
      ]
     },
     "execution_count": 116,
     "metadata": {},
     "output_type": "execute_result"
    }
   ],
   "source": [
    "pan12 = pd.read_csv('../data/pan12.csv', encoding = \"ISO-8859-1\")\n",
    "pan12.head()"
   ]
  },
  {
   "cell_type": "markdown",
   "metadata": {},
   "source": [
    "## chen14"
   ]
  },
  {
   "cell_type": "code",
   "execution_count": 117,
   "metadata": {},
   "outputs": [],
   "source": [
    "chen14 = pd.read_csv('../data/chen14.csv', encoding = \"ISO-8859-1\")"
   ]
  },
  {
   "cell_type": "code",
   "execution_count": 118,
   "metadata": {},
   "outputs": [
    {
     "data": {
      "text/html": [
       "<div>\n",
       "<style scoped>\n",
       "    .dataframe tbody tr th:only-of-type {\n",
       "        vertical-align: middle;\n",
       "    }\n",
       "\n",
       "    .dataframe tbody tr th {\n",
       "        vertical-align: top;\n",
       "    }\n",
       "\n",
       "    .dataframe thead th {\n",
       "        text-align: right;\n",
       "    }\n",
       "</style>\n",
       "<table border=\"1\" class=\"dataframe\">\n",
       "  <thead>\n",
       "    <tr style=\"text-align: right;\">\n",
       "      <th></th>\n",
       "      <th>smiles</th>\n",
       "      <th>compound</th>\n",
       "      <th>flashpoint</th>\n",
       "      <th>source</th>\n",
       "      <th>pure substance</th>\n",
       "    </tr>\n",
       "  </thead>\n",
       "  <tbody>\n",
       "    <tr>\n",
       "      <th>0</th>\n",
       "      <td>Cl[SiH](Cl)Cl</td>\n",
       "      <td>Trichlorosilane</td>\n",
       "      <td>245.15</td>\n",
       "      <td>chen14</td>\n",
       "      <td>1</td>\n",
       "    </tr>\n",
       "    <tr>\n",
       "      <th>1</th>\n",
       "      <td>C[Si](Cl)(Cl)Cl</td>\n",
       "      <td>Methyltrichlorosilane</td>\n",
       "      <td>276.15</td>\n",
       "      <td>chen14</td>\n",
       "      <td>1</td>\n",
       "    </tr>\n",
       "    <tr>\n",
       "      <th>2</th>\n",
       "      <td>C(=C)[Si](Cl)(Cl)Cl</td>\n",
       "      <td>Vinyltrichlorosilane</td>\n",
       "      <td>294.15</td>\n",
       "      <td>chen14</td>\n",
       "      <td>1</td>\n",
       "    </tr>\n",
       "    <tr>\n",
       "      <th>3</th>\n",
       "      <td>ClC(Cl)[Si](Cl)(Cl)C</td>\n",
       "      <td>Dichloromethylmethyldichlorosilane</td>\n",
       "      <td>301.15</td>\n",
       "      <td>chen14</td>\n",
       "      <td>1</td>\n",
       "    </tr>\n",
       "    <tr>\n",
       "      <th>4</th>\n",
       "      <td>C(C)[Si](Cl)(Cl)Cl</td>\n",
       "      <td>Ethyltrichlorosilane</td>\n",
       "      <td>263.15</td>\n",
       "      <td>chen14</td>\n",
       "      <td>1</td>\n",
       "    </tr>\n",
       "  </tbody>\n",
       "</table>\n",
       "</div>"
      ],
      "text/plain": [
       "                 smiles                            compound  flashpoint  \\\n",
       "0         Cl[SiH](Cl)Cl                     Trichlorosilane      245.15   \n",
       "1       C[Si](Cl)(Cl)Cl               Methyltrichlorosilane      276.15   \n",
       "2   C(=C)[Si](Cl)(Cl)Cl                Vinyltrichlorosilane      294.15   \n",
       "3  ClC(Cl)[Si](Cl)(Cl)C  Dichloromethylmethyldichlorosilane      301.15   \n",
       "4    C(C)[Si](Cl)(Cl)Cl                Ethyltrichlorosilane      263.15   \n",
       "\n",
       "   source  pure substance  \n",
       "0  chen14               1  \n",
       "1  chen14               1  \n",
       "2  chen14               1  \n",
       "3  chen14               1  \n",
       "4  chen14               1  "
      ]
     },
     "execution_count": 118,
     "metadata": {},
     "output_type": "execute_result"
    }
   ],
   "source": [
    "chen14.head()"
   ]
  },
  {
   "cell_type": "code",
   "execution_count": null,
   "metadata": {},
   "outputs": [],
   "source": [
    "# canonicalize carroll smiles\n",
    "for i in range(0, len(carroll)):\n",
    "    carroll.iloc[i]['smiles'] = Chem.MolToSmiles(Chem.MolFromSmiles(carroll.iloc[i]['smiles']))\n"
   ]
  },
  {
   "cell_type": "code",
   "execution_count": null,
   "metadata": {},
   "outputs": [],
   "source": [
    "#canonicalize smiles with rdkit\n",
    "result['canonical smiles'] = None\n",
    "for idx, row in result.iterrows():\n",
    "    result.loc[idx,'canonical smiles'] = Chem.MolToSmiles(Chem.MolFromSmiles(result.iloc[idx]['smiles']))"
   ]
  },
  {
   "cell_type": "code",
   "execution_count": null,
   "metadata": {},
   "outputs": [],
   "source": [
    "for idx, row in result.iterrows():\n",
    "    result.loc[idx,'canonical smiles'] = Chem.MolToSmiles(Chem.MolFromSmiles(result.loc[idx]['smiles']))"
   ]
  },
  {
   "cell_type": "markdown",
   "metadata": {},
   "source": [
    "## Add Gelest to dataset"
   ]
  },
  {
   "cell_type": "code",
   "execution_count": 119,
   "metadata": {},
   "outputs": [
    {
     "name": "stdout",
     "output_type": "stream",
     "text": [
      "['compound', 'smiles', 'flashpoint', 'pure substance', 'source']\n",
      "['compound', 'smiles', 'flashpoint', 'pure substance', 'source']\n",
      "['compound', 'smiles', 'flashpoint', 'pure substance', 'source']\n",
      "['compound', 'smiles', 'flashpoint', 'pure substance', 'source']\n"
     ]
    }
   ],
   "source": [
    "silanes = pd.read_csv('../data/silanes_all.csv')\n",
    "metal_organic = pd.read_csv('../data/metal-organics_all.csv')\n",
    "tin = pd.read_csv('../data/tin_all.csv')\n",
    "germanium  = pd.read_csv('../data/germanium_all.csv')\n",
    "print(list(silanes))\n",
    "print(list(metal_organic))\n",
    "print(list(tin))\n",
    "print(list(germanium))"
   ]
  },
  {
   "cell_type": "code",
   "execution_count": 125,
   "metadata": {},
   "outputs": [],
   "source": [
    "#result = result[['compound', 'smiles', 'flashpoint', 'pure substance', 'source']]\n",
    "silanes_pure = silanes[silanes['pure substance'] == 1]\n",
    "metal_organic_pure = metal_organic[metal_organic['pure substance'] == 1]\n",
    "tin_pure = tin[tin['pure substance'] == 1]\n",
    "germanium_pure = germanium[germanium['pure substance'] == 1]"
   ]
  },
  {
   "cell_type": "markdown",
   "metadata": {},
   "source": [
    "## pubchem integration"
   ]
  },
  {
   "cell_type": "code",
   "execution_count": 147,
   "metadata": {},
   "outputs": [],
   "source": [
    "pubchem = pd.read_csv('../data/pubchem_data.csv')\n",
    "pubchem = pubchem[['smiles', 'compound', 'flashpoint', 'source', 'pure substance']]\n",
    "germanium_pure = germanium_pure[['smiles', 'compound', 'flashpoint', 'source', 'pure substance']]\n",
    "tin_pure = tin_pure[['smiles', 'compound', 'flashpoint', 'source', 'pure substance']]\n",
    "metal_organic_pure = metal_organic_pure[['smiles', 'compound', 'flashpoint', 'source', 'pure substance']]\n",
    "silanes_pure = silanes_pure[['smiles', 'compound', 'flashpoint', 'source', 'pure substance']]\n",
    "hazardous_mat = hazardous_mat[['smiles', 'compound', 'flashpoint', 'source', 'pure substance']]\n"
   ]
  },
  {
   "cell_type": "code",
   "execution_count": 148,
   "metadata": {},
   "outputs": [
    {
     "name": "stdout",
     "output_type": "stream",
     "text": [
      "['smiles', 'compound', 'flashpoint', 'source', 'pure substance']\n",
      "['smiles', 'compound', 'flashpoint', 'source', 'pure substance']\n",
      "['smiles', 'compound', 'flashpoint', 'source', 'pure substance']\n",
      "['smiles', 'compound', 'flashpoint', 'source', 'pure substance']\n",
      "['smiles', 'compound', 'flashpoint', 'source', 'pure substance']\n",
      "['smiles', 'compound', 'flashpoint', 'source', 'pure substance']\n",
      "['smiles', 'compound', 'flashpoint', 'source', 'pure substance']\n",
      "['smiles', 'compound', 'flashpoint', 'source', 'pure substance']\n",
      "['smiles', 'compound', 'flashpoint', 'source', 'pure substance']\n",
      "['smiles', 'compound', 'flashpoint', 'source', 'pure substance']\n"
     ]
    }
   ],
   "source": [
    "print(list(pubchem))\n",
    "print(list(carroll))\n",
    "print(list(chen14))\n",
    "print(list(fuels))\n",
    "print(list(germanium_pure))\n",
    "print(list(metal_organic_pure))\n",
    "print(list(pan12))\n",
    "print(list(silanes_pure))\n",
    "print(list(tin_pure))\n",
    "print(list(hazardous_mat))"
   ]
  },
  {
   "cell_type": "code",
   "execution_count": 151,
   "metadata": {},
   "outputs": [],
   "source": [
    "def canoicalize_smiles(data):\n",
    "    for idx, row in data.iterrows():\n",
    "        m = Chem.MolFromSmiles(data.iloc[idx]['smiles'])\n",
    "        if m != None:\n",
    "            data.iloc[idx]['smiles'] = Chem.MolToSmiles(m)\n",
    "        else:\n",
    "            data.iloc[idx]['smiles'] = None\n",
    "    return data"
   ]
  },
  {
   "cell_type": "code",
   "execution_count": 149,
   "metadata": {},
   "outputs": [],
   "source": [
    "frames = [pubchem, carroll, chen14, fuels, germanium_pure, metal_organic_pure, pan12, silanes_pure, tin_pure, hazardous_mat]\n",
    "result = pd.concat(frames)"
   ]
  },
  {
   "cell_type": "code",
   "execution_count": 152,
   "metadata": {},
   "outputs": [
    {
     "name": "stderr",
     "output_type": "stream",
     "text": [
      "C:\\Users\\Nathaniel\\Miniconda3\\envs\\moleprop\\lib\\site-packages\\ipykernel_launcher.py:5: SettingWithCopyWarning: \n",
      "A value is trying to be set on a copy of a slice from a DataFrame\n",
      "\n",
      "See the caveats in the documentation: http://pandas.pydata.org/pandas-docs/stable/indexing.html#indexing-view-versus-copy\n",
      "  \"\"\"\n",
      "C:\\Users\\Nathaniel\\Miniconda3\\envs\\moleprop\\lib\\site-packages\\ipykernel_launcher.py:7: SettingWithCopyWarning: \n",
      "A value is trying to be set on a copy of a slice from a DataFrame\n",
      "\n",
      "See the caveats in the documentation: http://pandas.pydata.org/pandas-docs/stable/indexing.html#indexing-view-versus-copy\n",
      "  import sys\n"
     ]
    }
   ],
   "source": [
    "canonical_smiles_data = canoicalize_smiles(result)"
   ]
  },
  {
   "cell_type": "code",
   "execution_count": 160,
   "metadata": {},
   "outputs": [
    {
     "name": "stdout",
     "output_type": "stream",
     "text": [
      "(4810, 5)\n",
      "(4282, 5)\n"
     ]
    }
   ],
   "source": [
    "print(canonical_smiles_data.shape)\n",
    "print(canonical_smiles_data.dropna().shape)\n",
    "canonical_smiles_data.dropna(inplace=True)"
   ]
  },
  {
   "cell_type": "code",
   "execution_count": 161,
   "metadata": {},
   "outputs": [],
   "source": [
    "canonical_smiles_data.to_csv('../data/integrated_dataset.csv', index=False)"
   ]
  },
  {
   "cell_type": "code",
   "execution_count": 59,
   "metadata": {},
   "outputs": [],
   "source": [
    "def remove_duplicates(data):\n",
    "    duplicates = data[data.duplicated(subset='smiles')]\n",
    "    result = data.drop_duplicates(subset='smiles', keep=False)#[~duplicates]\n",
    "    #for each unique smiles that has duplicates\n",
    "    for smiles in data[data.duplicated(subset='smiles')]['smiles'].unique():\n",
    "        dup_rows = data.loc[data['smiles'] == smiles]\n",
    "        if dup_rows['flashpoint'].unique().shape[0] == 1:\n",
    "            # remove all but one\n",
    "            result = result.append(dup_rows.iloc[0], sort=False)\n",
    "        else:\n",
    "            if dup_rows['flashpoint'].std() < 5:\n",
    "                # add 1 back\n",
    "                result = result.append(dup_rows.iloc[0], sort=False)\n",
    "    return result  \n",
    "            "
   ]
  },
  {
   "cell_type": "code",
   "execution_count": null,
   "metadata": {},
   "outputs": [],
   "source": [
    "pure_compounds = data.loc[data['pure substance'] == 1]\n",
    "pure_compounds.shape"
   ]
  },
  {
   "cell_type": "code",
   "execution_count": null,
   "metadata": {},
   "outputs": [],
   "source": [
    "data[data.duplicated(subset='smiles')].shape"
   ]
  },
  {
   "cell_type": "code",
   "execution_count": null,
   "metadata": {},
   "outputs": [],
   "source": [
    "data = data.loc[data['pure substance'] == 1]\n",
    "print(data.shape)\n",
    "no_dups = remove_duplicates(data)\n",
    "print(no_dups.shape)"
   ]
  },
  {
   "cell_type": "code",
   "execution_count": null,
   "metadata": {},
   "outputs": [],
   "source": [
    "no_dups[no_dups.duplicated(subset='smiles')]\n",
    "#no_dups.loc[no_dups['smiles'] == 'CC1=CCCC(=C)C2CC(C2CC1)(C)C']\n",
    "no_dups.to_csv('../data/integrated_dataset.csv', index=False)"
   ]
  },
  {
   "cell_type": "code",
   "execution_count": null,
   "metadata": {},
   "outputs": [],
   "source": [
    "result = data.drop_duplicates(subset='smiles', keep=False)\n",
    "result.shape"
   ]
  },
  {
   "cell_type": "code",
   "execution_count": null,
   "metadata": {},
   "outputs": [],
   "source": [
    "data[data.duplicated(subset='smiles')]['smiles'].unique()"
   ]
  },
  {
   "cell_type": "markdown",
   "metadata": {},
   "source": [
    "### Hazardous Materials"
   ]
  },
  {
   "cell_type": "code",
   "execution_count": 135,
   "metadata": {},
   "outputs": [],
   "source": [
    "data = pd.read_csv('../data/hazardous_materials.csv')\n",
    "haz = data[['Common name', 'Data type', 'Measurement name', 'Measurement value', 'Measurement units']]"
   ]
  },
  {
   "cell_type": "code",
   "execution_count": 136,
   "metadata": {},
   "outputs": [],
   "source": [
    "flashpoints = haz.loc[haz['Measurement name'] == 'Flash point']"
   ]
  },
  {
   "cell_type": "code",
   "execution_count": 137,
   "metadata": {},
   "outputs": [
    {
     "name": "stdout",
     "output_type": "stream",
     "text": [
      "['Common name', 'Data type', 'Measurement name', 'Measurement value', 'Measurement units']\n"
     ]
    }
   ],
   "source": [
    "print(list(flashpoints))"
   ]
  },
  {
   "cell_type": "code",
   "execution_count": 138,
   "metadata": {},
   "outputs": [
    {
     "name": "stderr",
     "output_type": "stream",
     "text": [
      "C:\\Users\\Nathaniel\\Miniconda3\\envs\\moleprop\\lib\\site-packages\\ipykernel_launcher.py:1: SettingWithCopyWarning: \n",
      "A value is trying to be set on a copy of a slice from a DataFrame.\n",
      "Try using .loc[row_indexer,col_indexer] = value instead\n",
      "\n",
      "See the caveats in the documentation: http://pandas.pydata.org/pandas-docs/stable/indexing.html#indexing-view-versus-copy\n",
      "  \"\"\"Entry point for launching an IPython kernel.\n"
     ]
    }
   ],
   "source": [
    "flashpoints['smiles'] = flashpoints['Common name'].apply(get_smiles)"
   ]
  },
  {
   "cell_type": "code",
   "execution_count": 139,
   "metadata": {},
   "outputs": [],
   "source": [
    "def get_compound_with_element(data, element):\n",
    "    return data[data['smiles'].str.contains(element)]\n",
    "\n",
    "def get_smiles(compound):\n",
    "    smilesUrl = \"https://opsin.ch.cam.ac.uk/opsin/\"+compound+\".smi\"\n",
    "    requestSmiles = requests.get(smilesUrl)\n",
    "    if requestSmiles.status_code == 400 or requestSmiles.status_code == 404:\n",
    "        return None\n",
    "    else:\n",
    "        return Chem.MolToSmiles(Chem.MolFromSmiles(requestSmiles.text))  \n",
    "    \n",
    "def celsiusToKelvin(temp):\n",
    "    return temp + 273.15\n",
    "\n",
    "def get_compound_with_element(data, element):\n",
    "    return data[data['smiles'].str.contains(element)]"
   ]
  },
  {
   "cell_type": "code",
   "execution_count": 140,
   "metadata": {},
   "outputs": [
    {
     "data": {
      "text/html": [
       "<div>\n",
       "<style scoped>\n",
       "    .dataframe tbody tr th:only-of-type {\n",
       "        vertical-align: middle;\n",
       "    }\n",
       "\n",
       "    .dataframe tbody tr th {\n",
       "        vertical-align: top;\n",
       "    }\n",
       "\n",
       "    .dataframe thead th {\n",
       "        text-align: right;\n",
       "    }\n",
       "</style>\n",
       "<table border=\"1\" class=\"dataframe\">\n",
       "  <thead>\n",
       "    <tr style=\"text-align: right;\">\n",
       "      <th></th>\n",
       "      <th>Common name</th>\n",
       "      <th>Data type</th>\n",
       "      <th>Measurement name</th>\n",
       "      <th>Measurement value</th>\n",
       "      <th>Measurement units</th>\n",
       "      <th>smiles</th>\n",
       "    </tr>\n",
       "  </thead>\n",
       "  <tbody>\n",
       "    <tr>\n",
       "      <th>2</th>\n",
       "      <td>Acetal</td>\n",
       "      <td>Experimental</td>\n",
       "      <td>Flash point</td>\n",
       "      <td>-21.0</td>\n",
       "      <td>$^{\\circ}$C</td>\n",
       "      <td>None</td>\n",
       "    </tr>\n",
       "    <tr>\n",
       "      <th>11</th>\n",
       "      <td>Acetaldehyde</td>\n",
       "      <td>Experimental</td>\n",
       "      <td>Flash point</td>\n",
       "      <td>-38.0</td>\n",
       "      <td>$^{\\circ}$C</td>\n",
       "      <td>CC=O</td>\n",
       "    </tr>\n",
       "    <tr>\n",
       "      <th>18</th>\n",
       "      <td>Acetanilide</td>\n",
       "      <td>Experimental</td>\n",
       "      <td>Flash point</td>\n",
       "      <td>174.0</td>\n",
       "      <td>$^{\\circ}$C</td>\n",
       "      <td>CC(=O)Nc1ccccc1</td>\n",
       "    </tr>\n",
       "    <tr>\n",
       "      <th>26</th>\n",
       "      <td>Acetic acid</td>\n",
       "      <td>Experimental</td>\n",
       "      <td>Flash point</td>\n",
       "      <td>43.0</td>\n",
       "      <td>$^{\\circ}$C</td>\n",
       "      <td>CC(=O)O</td>\n",
       "    </tr>\n",
       "    <tr>\n",
       "      <th>35</th>\n",
       "      <td>Acetic anhydride</td>\n",
       "      <td>Experimental</td>\n",
       "      <td>Flash point</td>\n",
       "      <td>54.0</td>\n",
       "      <td>$^{\\circ}$C</td>\n",
       "      <td>CC(=O)OC(C)=O</td>\n",
       "    </tr>\n",
       "  </tbody>\n",
       "</table>\n",
       "</div>"
      ],
      "text/plain": [
       "         Common name     Data type Measurement name  Measurement value  \\\n",
       "2             Acetal  Experimental      Flash point              -21.0   \n",
       "11      Acetaldehyde  Experimental      Flash point              -38.0   \n",
       "18       Acetanilide  Experimental      Flash point              174.0   \n",
       "26       Acetic acid  Experimental      Flash point               43.0   \n",
       "35  Acetic anhydride  Experimental      Flash point               54.0   \n",
       "\n",
       "   Measurement units           smiles  \n",
       "2        $^{\\circ}$C             None  \n",
       "11       $^{\\circ}$C             CC=O  \n",
       "18       $^{\\circ}$C  CC(=O)Nc1ccccc1  \n",
       "26       $^{\\circ}$C          CC(=O)O  \n",
       "35       $^{\\circ}$C    CC(=O)OC(C)=O  "
      ]
     },
     "execution_count": 140,
     "metadata": {},
     "output_type": "execute_result"
    }
   ],
   "source": [
    "flashpoints = flashpoints[~flashpoints['Measurement value'].str.contains('<')]\n",
    "flashpoints = flashpoints[~flashpoints['Measurement value'].str.contains('>')]\n",
    "flashpoints = flashpoints[~flashpoints['Measurement value'].str.contains('~')]\n",
    "pattern = '\\\\w+-\\\\w'\n",
    "flashpoints['Measurement value'] = flashpoints['Measurement value'].str.replace(pattern, 'none', regex=True)\n",
    "#flashpoints = flashpoints[~flashpoints['Measurement value'].str.contains('none')]\n",
    "flashpoints['Measurement value'] = pd.to_numeric(flashpoints['Measurement value'], errors='coerce')\n",
    "\n",
    "flashpoints.head()"
   ]
  },
  {
   "cell_type": "code",
   "execution_count": 141,
   "metadata": {},
   "outputs": [],
   "source": [
    "flashpoints['flashpoint'] = flashpoints['Measurement value'].apply(celsiusToKelvin)\n",
    "flashpoints.drop(columns=['Measurement name','Data type', 'Measurement units', 'Measurement value'], inplace=True)\n",
    "#flashpoints.rename(columns={'Common name' : 'compound', 'Measurement value' : 'flashpoint'}, inplace=True)"
   ]
  },
  {
   "cell_type": "code",
   "execution_count": 142,
   "metadata": {},
   "outputs": [
    {
     "data": {
      "text/plain": [
       "(368, 5)"
      ]
     },
     "execution_count": 142,
     "metadata": {},
     "output_type": "execute_result"
    }
   ],
   "source": [
    "flashpoints.dropna(inplace=True)\n",
    "flashpoints.rename(columns={'Common name' : 'compound'}, inplace=True)\n",
    "#flashpoints.drop(df.columns[i], axis=1)\n",
    "flashpoints['pure substance'] = 1\n",
    "flashpoints['source'] = 'hazardous materials'\n",
    "hazardous_mat = flashpoints[['compound', 'flashpoint', 'pure substance', 'smiles', 'source']]\n",
    "hazardous_mat.shape"
   ]
  },
  {
   "cell_type": "code",
   "execution_count": 143,
   "metadata": {},
   "outputs": [
    {
     "data": {
      "text/html": [
       "<div>\n",
       "<style scoped>\n",
       "    .dataframe tbody tr th:only-of-type {\n",
       "        vertical-align: middle;\n",
       "    }\n",
       "\n",
       "    .dataframe tbody tr th {\n",
       "        vertical-align: top;\n",
       "    }\n",
       "\n",
       "    .dataframe thead th {\n",
       "        text-align: right;\n",
       "    }\n",
       "</style>\n",
       "<table border=\"1\" class=\"dataframe\">\n",
       "  <thead>\n",
       "    <tr style=\"text-align: right;\">\n",
       "      <th></th>\n",
       "      <th>compound</th>\n",
       "      <th>flashpoint</th>\n",
       "      <th>pure substance</th>\n",
       "      <th>smiles</th>\n",
       "      <th>source</th>\n",
       "    </tr>\n",
       "  </thead>\n",
       "  <tbody>\n",
       "    <tr>\n",
       "      <th>11</th>\n",
       "      <td>Acetaldehyde</td>\n",
       "      <td>235.15</td>\n",
       "      <td>1</td>\n",
       "      <td>CC=O</td>\n",
       "      <td>hazardous materials</td>\n",
       "    </tr>\n",
       "    <tr>\n",
       "      <th>18</th>\n",
       "      <td>Acetanilide</td>\n",
       "      <td>447.15</td>\n",
       "      <td>1</td>\n",
       "      <td>CC(=O)Nc1ccccc1</td>\n",
       "      <td>hazardous materials</td>\n",
       "    </tr>\n",
       "    <tr>\n",
       "      <th>26</th>\n",
       "      <td>Acetic acid</td>\n",
       "      <td>316.15</td>\n",
       "      <td>1</td>\n",
       "      <td>CC(=O)O</td>\n",
       "      <td>hazardous materials</td>\n",
       "    </tr>\n",
       "    <tr>\n",
       "      <th>35</th>\n",
       "      <td>Acetic anhydride</td>\n",
       "      <td>327.15</td>\n",
       "      <td>1</td>\n",
       "      <td>CC(=O)OC(C)=O</td>\n",
       "      <td>hazardous materials</td>\n",
       "    </tr>\n",
       "    <tr>\n",
       "      <th>44</th>\n",
       "      <td>Acetone</td>\n",
       "      <td>255.15</td>\n",
       "      <td>1</td>\n",
       "      <td>CC(C)=O</td>\n",
       "      <td>hazardous materials</td>\n",
       "    </tr>\n",
       "  </tbody>\n",
       "</table>\n",
       "</div>"
      ],
      "text/plain": [
       "            compound  flashpoint  pure substance           smiles  \\\n",
       "11      Acetaldehyde      235.15               1             CC=O   \n",
       "18       Acetanilide      447.15               1  CC(=O)Nc1ccccc1   \n",
       "26       Acetic acid      316.15               1          CC(=O)O   \n",
       "35  Acetic anhydride      327.15               1    CC(=O)OC(C)=O   \n",
       "44           Acetone      255.15               1          CC(C)=O   \n",
       "\n",
       "                 source  \n",
       "11  hazardous materials  \n",
       "18  hazardous materials  \n",
       "26  hazardous materials  \n",
       "35  hazardous materials  \n",
       "44  hazardous materials  "
      ]
     },
     "execution_count": 143,
     "metadata": {},
     "output_type": "execute_result"
    }
   ],
   "source": [
    "hazardous_mat.head()"
   ]
  },
  {
   "cell_type": "code",
   "execution_count": 61,
   "metadata": {},
   "outputs": [
    {
     "name": "stdout",
     "output_type": "stream",
     "text": [
      "(3684, 5)\n",
      "(3471, 5)\n"
     ]
    }
   ],
   "source": [
    "#data = pd.read_csv('../data/integrated_dataset.csv')\n",
    "#frames = [data, hazardous_mat]\n",
    "#result = pd.concat(frames)\n",
    "no_dups = remove_duplicates(result)\n",
    "print(result.shape)\n",
    "print(no_dups.shape)\n",
    "#no_dups.to_csv('../data/integrated_dataset.csv', index=False)"
   ]
  },
  {
   "cell_type": "code",
   "execution_count": null,
   "metadata": {},
   "outputs": [],
   "source": []
  }
 ],
 "metadata": {
  "kernelspec": {
   "display_name": "moleprop",
   "language": "python",
   "name": "moleprop"
  },
  "language_info": {
   "codemirror_mode": {
    "name": "ipython",
    "version": 3
   },
   "file_extension": ".py",
   "mimetype": "text/x-python",
   "name": "python",
   "nbconvert_exporter": "python",
   "pygments_lexer": "ipython3",
   "version": "3.6.8"
  }
 },
 "nbformat": 4,
 "nbformat_minor": 2
}
