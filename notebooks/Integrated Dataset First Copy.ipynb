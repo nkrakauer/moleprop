{
 "cells": [
  {
   "cell_type": "code",
   "execution_count": null,
   "metadata": {},
   "outputs": [],
   "source": [
    "import pandas as pd\n",
    "from rdkit import Chem\n",
    "import requests"
   ]
  },
  {
   "cell_type": "code",
   "execution_count": null,
   "metadata": {},
   "outputs": [],
   "source": [
    "def getSmiles(compound):\n",
    "    smilesUrl = \"https://opsin.ch.cam.ac.uk/opsin/\"+compound+\".smi\"\n",
    "    requestSmiles = requests.get(smilesUrl)\n",
    "    if requestSmiles.status_code == 400 or requestSmiles.status_code == 404:\n",
    "        return None\n",
    "    else:\n",
    "        return requestSmiles.text\n",
    "def CtoK(num):\n",
    "    return num + 273.15"
   ]
  },
  {
   "cell_type": "markdown",
   "metadata": {},
   "source": [
    "## Carroll"
   ]
  },
  {
   "cell_type": "code",
   "execution_count": null,
   "metadata": {},
   "outputs": [],
   "source": [
    "data = pd.read_csv('../data/Carroll11.csv', encoding = \"ISO-8859-1\")"
   ]
  },
  {
   "cell_type": "code",
   "execution_count": null,
   "metadata": {},
   "outputs": [],
   "source": [
    "carroll = data[['Compound', 'TFP(K)Ref.']]\n",
    "carroll['source'] = 'carroll11'\n",
    "carroll['pure substance'] = 1"
   ]
  },
  {
   "cell_type": "code",
   "execution_count": null,
   "metadata": {},
   "outputs": [],
   "source": [
    "carroll['smiles'] = carroll['Compound'].apply(getSmiles)"
   ]
  },
  {
   "cell_type": "code",
   "execution_count": null,
   "metadata": {},
   "outputs": [],
   "source": [
    "carroll.dropna(subset=['smiles'], inplace=True)"
   ]
  },
  {
   "cell_type": "code",
   "execution_count": null,
   "metadata": {},
   "outputs": [],
   "source": [
    "carroll.dropna(subset=['Compound'], inplace=True)"
   ]
  },
  {
   "cell_type": "code",
   "execution_count": null,
   "metadata": {},
   "outputs": [],
   "source": [
    "carroll.head()"
   ]
  },
  {
   "cell_type": "code",
   "execution_count": null,
   "metadata": {},
   "outputs": [],
   "source": [
    "carroll.rename(index=str, columns={\"Compound\": \"compound\", \"TFP(K)Ref.\": \"flashpoint\"}, inplace=True)"
   ]
  },
  {
   "cell_type": "code",
   "execution_count": null,
   "metadata": {},
   "outputs": [],
   "source": [
    "carroll = carroll[['smiles', 'compound', 'flashpoint', 'source', 'pure substance']]\n",
    "carroll.head()\n",
    "carroll.to_csv('Carroll11.csv', index=False)"
   ]
  },
  {
   "cell_type": "code",
   "execution_count": null,
   "metadata": {},
   "outputs": [],
   "source": [
    "print(carroll['flashpoint'].mean())\n",
    "print(carroll['flashpoint'].std())"
   ]
  },
  {
   "cell_type": "markdown",
   "metadata": {},
   "source": [
    "## Saldana"
   ]
  },
  {
   "cell_type": "code",
   "execution_count": null,
   "metadata": {},
   "outputs": [],
   "source": [
    "data = pd.read_csv('../data/Saldana11(fuels).csv', encoding = \"ISO-8859-1\")"
   ]
  },
  {
   "cell_type": "code",
   "execution_count": null,
   "metadata": {},
   "outputs": [],
   "source": [
    "fuels = data[['Name', 'Family', 'SMILES', 'FP Exp.']]\n",
    "fuels['source'] = 'Saldana11'\n",
    "fuels['pure substance'] = 1\n",
    "fuels.rename(index=str, columns={\"Name\": \"compound\", \"FP Exp.\": \"flashpoint\", \"SMILES\": \"smiles\"}, inplace=True)\n",
    "fuels = fuels[['smiles', 'compound', 'flashpoint', 'source', 'pure substance', 'Family']]\n",
    "fuels.head()"
   ]
  },
  {
   "cell_type": "code",
   "execution_count": null,
   "metadata": {},
   "outputs": [],
   "source": [
    "fuels.to_csv('fuels.csv', index=False)"
   ]
  },
  {
   "cell_type": "code",
   "execution_count": null,
   "metadata": {},
   "outputs": [],
   "source": [
    "print(fuels['flashpoint'].mean())\n",
    "print(fuels['flashpoint'].std())"
   ]
  },
  {
   "cell_type": "markdown",
   "metadata": {},
   "source": [
    "## Pan12"
   ]
  },
  {
   "cell_type": "code",
   "execution_count": null,
   "metadata": {},
   "outputs": [],
   "source": [
    "data = pd.read_csv('../data/pan12.csv', encoding = \"ISO-8859-1\")"
   ]
  },
  {
   "cell_type": "code",
   "execution_count": null,
   "metadata": {},
   "outputs": [],
   "source": [
    "pan12 = data[['Compounds Name','smiles', 'Observed']]\n",
    "pan12.rename(index=str,columns={\"Compounds Name\": \"compound\", 'Observed': 'flashpoint'}, inplace=True)\n",
    "pan12['flashpoint'] = pan12['flashpoint'].apply(CtoK)\n",
    "pan12['source'] = 'pan12'\n",
    "pan12['pure substance'] = 1\n",
    "pan12 = pan12[['smiles', 'compound', 'flashpoint', 'source', 'pure substance']]\n",
    "pan12.head()"
   ]
  },
  {
   "cell_type": "code",
   "execution_count": null,
   "metadata": {},
   "outputs": [],
   "source": [
    "pan12.to_csv('pan12.csv', index=False)"
   ]
  },
  {
   "cell_type": "markdown",
   "metadata": {},
   "source": [
    "## chen14"
   ]
  },
  {
   "cell_type": "code",
   "execution_count": null,
   "metadata": {},
   "outputs": [],
   "source": [
    "data = pd.read_csv('../data/chen14.csv', encoding = \"ISO-8859-1\")"
   ]
  },
  {
   "cell_type": "code",
   "execution_count": null,
   "metadata": {},
   "outputs": [],
   "source": [
    "data.head()"
   ]
  },
  {
   "cell_type": "code",
   "execution_count": null,
   "metadata": {},
   "outputs": [],
   "source": [
    "chen14 = data[['Compond Name','smiles', 'Observed']]\n",
    "chen14.rename(index=str,columns={\"Compond Name\": \"compound\", 'Observed': 'flashpoint'}, inplace=True)\n",
    "chen14['flashpoint'] = chen14['flashpoint'].apply(CtoK)\n",
    "chen14['source'] = 'chen14'\n",
    "chen14['pure substance'] = 1\n",
    "chen14 = chen14[['smiles', 'compound', 'flashpoint', 'source', 'pure substance']]\n",
    "chen14.head()"
   ]
  },
  {
   "cell_type": "code",
   "execution_count": null,
   "metadata": {},
   "outputs": [],
   "source": [
    "chen14.to_csv('chen14.csv', index=False)"
   ]
  },
  {
   "cell_type": "code",
   "execution_count": null,
   "metadata": {},
   "outputs": [],
   "source": [
    "carroll = pd.read_csv('Carroll11.csv', encoding = \"ISO-8859-1\")\n",
    "fuels = pd.read_csv('fuels.csv', encoding = \"ISO-8859-1\")\n",
    "pan12 = pd.read_csv('pan12.csv', encoding = \"ISO-8859-1\")\n",
    "chen14 = pd.read_csv('chen14.csv', encoding = \"ISO-8859-1\")"
   ]
  },
  {
   "cell_type": "code",
   "execution_count": null,
   "metadata": {},
   "outputs": [],
   "source": [
    "# canonicalize carroll smiles\n",
    "for i in range(0, len(carroll)):\n",
    "    carroll.iloc[i]['smiles'] = Chem.MolToSmiles(Chem.MolFromSmiles(carroll.iloc[i]['smiles']))\n"
   ]
  },
  {
   "cell_type": "code",
   "execution_count": null,
   "metadata": {},
   "outputs": [],
   "source": [
    "fuels.drop(['Family'], axis=1, inplace=True)\n",
    "print(carroll.columns)\n",
    "print(fuels.columns)\n",
    "print(pan12.columns)\n",
    "print(chen14.columns)"
   ]
  },
  {
   "cell_type": "code",
   "execution_count": null,
   "metadata": {},
   "outputs": [],
   "source": [
    "carroll['smiles']"
   ]
  },
  {
   "cell_type": "code",
   "execution_count": null,
   "metadata": {},
   "outputs": [],
   "source": [
    "frames = [fuels, carroll, pan12, chen14]\n",
    "result = pd.concat(frames)"
   ]
  },
  {
   "cell_type": "code",
   "execution_count": null,
   "metadata": {},
   "outputs": [],
   "source": [
    "result.shape"
   ]
  },
  {
   "cell_type": "code",
   "execution_count": null,
   "metadata": {},
   "outputs": [],
   "source": [
    "#canonicalize smiles with rdkit\n",
    "result['canonical smiles'] = None\n",
    "for idx, row in result.iterrows():\n",
    "    result.loc[idx,'canonical smiles'] = Chem.MolToSmiles(Chem.MolFromSmiles(result.iloc[idx]['smiles']))"
   ]
  },
  {
   "cell_type": "code",
   "execution_count": null,
   "metadata": {},
   "outputs": [],
   "source": [
    "result.dropna(inplace=True)"
   ]
  },
  {
   "cell_type": "code",
   "execution_count": null,
   "metadata": {},
   "outputs": [],
   "source": [
    "result.shape"
   ]
  },
  {
   "cell_type": "code",
   "execution_count": null,
   "metadata": {},
   "outputs": [],
   "source": [
    "result.to_csv('integrated_dataset.csv', index=False)"
   ]
  },
  {
   "cell_type": "code",
   "execution_count": null,
   "metadata": {},
   "outputs": [],
   "source": [
    "result = pd.read_csv('../data/integrated_dataset.csv')"
   ]
  },
  {
   "cell_type": "code",
   "execution_count": null,
   "metadata": {},
   "outputs": [],
   "source": [
    "result['canonical smiles'] = None\n",
    "result.head(5)"
   ]
  },
  {
   "cell_type": "code",
   "execution_count": null,
   "metadata": {},
   "outputs": [],
   "source": [
    "for idx, row in result.iterrows():\n",
    "    result.loc[idx,'canonical smiles'] = Chem.MolToSmiles(Chem.MolFromSmiles(result.loc[idx]['smiles']))"
   ]
  },
  {
   "cell_type": "code",
   "execution_count": null,
   "metadata": {},
   "outputs": [],
   "source": [
    "result.to_csv('../data/integrated_dataset.csv', index=False)"
   ]
  },
  {
   "cell_type": "markdown",
   "metadata": {},
   "source": [
    "## Add Gelest to dataset"
   ]
  },
  {
   "cell_type": "code",
   "execution_count": null,
   "metadata": {},
   "outputs": [],
   "source": [
    "#result = pd.read_csv('../data/integrated_dataset.csv')\n",
    "result.drop(columns=['smiles'], inplace=True)\n",
    "result.rename(index=str, columns={\"canonical smiles\" : \"smiles\"}, inplace=True)"
   ]
  },
  {
   "cell_type": "code",
   "execution_count": null,
   "metadata": {},
   "outputs": [],
   "source": [
    "silanes = pd.read_csv('../data/silanes_all.csv')\n",
    "metal_organic = pd.read_csv('../data/metal-organics_all.csv')\n",
    "tin = pd.read_csv('../data/tin_all.csv')\n",
    "germanium  = pd.read_csv('../data/germanium_all.csv')"
   ]
  },
  {
   "cell_type": "code",
   "execution_count": null,
   "metadata": {},
   "outputs": [],
   "source": [
    "result = result[['compound', 'smiles', 'flashpoint', 'pure substance', 'source']]\n",
    "result.head()"
   ]
  },
  {
   "cell_type": "code",
   "execution_count": null,
   "metadata": {},
   "outputs": [],
   "source": [
    "frames = [silanes, metal_organic, tin, germanium, result]\n",
    "resultv2 = pd.concat(frames)"
   ]
  },
  {
   "cell_type": "code",
   "execution_count": null,
   "metadata": {},
   "outputs": [],
   "source": [
    "resultv2.shape\n",
    "resultv2.to_csv('../data/integrated_dataset.csv')"
   ]
  },
  {
   "cell_type": "markdown",
   "metadata": {},
   "source": [
    "## pubchem integration"
   ]
  },
  {
   "cell_type": "code",
   "execution_count": 2,
   "metadata": {},
   "outputs": [],
   "source": [
    "pubchem = pd.read_csv('../data/pubchem_data.csv')\n",
    "carroll = pd.read_csv('../data/Carroll11.csv')\n",
    "chen14 = pd.read_csv('../data/chen14.csv')\n",
    "fuels = pd.read_csv('../data/fuels.csv')\n",
    "germanium = pd.read_csv('../data/germanium_all.csv')\n",
    "metal_organics = pd.read_csv('../data/metal-organics_all.csv')\n",
    "pan12 = pd.read_csv('../data/pan12.csv')\n",
    "silanes = pd.read_csv('../data/silanes_all.csv')\n",
    "tin = pd.read_csv('../data/tin_all.csv')"
   ]
  },
  {
   "cell_type": "code",
   "execution_count": 14,
   "metadata": {},
   "outputs": [
    {
     "name": "stdout",
     "output_type": "stream",
     "text": [
      "['compound', 'smiles', 'flashpoint', 'source', 'pure substance']\n",
      "['compound', 'smiles', 'flashpoint', 'pure substance', 'source']\n",
      "['compound', 'smiles', 'flashpoint', 'pure substance', 'source']\n",
      "['compound', 'smiles', 'flashpoint', 'pure substance', 'source']\n",
      "['compound', 'smiles', 'flashpoint', 'pure substance', 'source']\n",
      "['compound', 'smiles', 'flashpoint', 'pure substance', 'source']\n",
      "['compound', 'smiles', 'flashpoint', 'pure substance', 'source']\n",
      "['compound', 'smiles', 'flashpoint', 'pure substance', 'source']\n",
      "['compound', 'smiles', 'flashpoint', 'pure substance', 'source']\n"
     ]
    }
   ],
   "source": [
    "print(list(pubchem))\n",
    "print(list(carroll))\n",
    "print(list(chen14))\n",
    "print(list(fuels))\n",
    "print(list(germanium))\n",
    "print(list(metal_organics))\n",
    "print(list(pan12))\n",
    "print(list(silanes))\n",
    "print(list(tin))"
   ]
  },
  {
   "cell_type": "code",
   "execution_count": 51,
   "metadata": {},
   "outputs": [],
   "source": [
    "def canoicalize_smiles(data):\n",
    "    for idx, row in data.iterrows():\n",
    "        m = Chem.MolFromSmiles(data.iloc[idx]['smiles'])\n",
    "        if m != None:\n",
    "            data.iloc[idx]['smiles'] = Chem.MolToSmiles(m)\n",
    "        else:\n",
    "            data.iloc[idx]['smiles'] = None\n",
    "    return data"
   ]
  },
  {
   "cell_type": "code",
   "execution_count": 16,
   "metadata": {},
   "outputs": [
    {
     "name": "stderr",
     "output_type": "stream",
     "text": [
      "C:\\Users\\Nathaniel\\Miniconda3\\envs\\moleprop\\lib\\site-packages\\ipykernel_launcher.py:2: FutureWarning: Sorting because non-concatenation axis is not aligned. A future version\n",
      "of pandas will change to not sort by default.\n",
      "\n",
      "To accept the future behavior, pass 'sort=False'.\n",
      "\n",
      "To retain the current behavior and silence the warning, pass 'sort=True'.\n",
      "\n",
      "  \n"
     ]
    }
   ],
   "source": [
    "frames = [pubchem, carroll, chen14, fuels, germanium, metal_organics, pan12, silanes, tin]\n",
    "result = pd.concat(frames)"
   ]
  },
  {
   "cell_type": "code",
   "execution_count": 52,
   "metadata": {},
   "outputs": [
    {
     "name": "stderr",
     "output_type": "stream",
     "text": [
      "C:\\Users\\Nathaniel\\Miniconda3\\envs\\moleprop\\lib\\site-packages\\ipykernel_launcher.py:5: SettingWithCopyWarning: \n",
      "A value is trying to be set on a copy of a slice from a DataFrame\n",
      "\n",
      "See the caveats in the documentation: http://pandas.pydata.org/pandas-docs/stable/indexing.html#indexing-view-versus-copy\n",
      "  \"\"\"\n",
      "C:\\Users\\Nathaniel\\Miniconda3\\envs\\moleprop\\lib\\site-packages\\ipykernel_launcher.py:7: SettingWithCopyWarning: \n",
      "A value is trying to be set on a copy of a slice from a DataFrame\n",
      "\n",
      "See the caveats in the documentation: http://pandas.pydata.org/pandas-docs/stable/indexing.html#indexing-view-versus-copy\n",
      "  import sys\n"
     ]
    }
   ],
   "source": [
    "canonical_smiles_data = canoicalize_smiles(result)"
   ]
  },
  {
   "cell_type": "code",
   "execution_count": 59,
   "metadata": {},
   "outputs": [
    {
     "data": {
      "text/plain": [
       "(12, 5)"
      ]
     },
     "execution_count": 59,
     "metadata": {},
     "output_type": "execute_result"
    }
   ],
   "source": [
    "canonical_smiles_data[canonical_smiles_data.duplicated()].shape"
   ]
  },
  {
   "cell_type": "code",
   "execution_count": 60,
   "metadata": {},
   "outputs": [],
   "source": [
    "canonical_smiles_data.to_csv('../data/integrated_dataset.csv', index=False)"
   ]
  },
  {
   "cell_type": "code",
   "execution_count": 63,
   "metadata": {},
   "outputs": [],
   "source": [
    "data = canonical_smiles_data"
   ]
  },
  {
   "cell_type": "code",
   "execution_count": 66,
   "metadata": {},
   "outputs": [
    {
     "data": {
      "text/plain": [
       "(3971, 5)"
      ]
     },
     "execution_count": 66,
     "metadata": {},
     "output_type": "execute_result"
    }
   ],
   "source": [
    "data.drop_duplicates().shape"
   ]
  },
  {
   "cell_type": "code",
   "execution_count": 105,
   "metadata": {},
   "outputs": [
    {
     "data": {
      "text/plain": [
       "compound          TRIMETHYLCHLOROTIN\n",
       "flashpoint                    370.15\n",
       "pure substance                     1\n",
       "smiles                 C[Sn](C)(C)Cl\n",
       "source                    gelest_tin\n",
       "Name: 41, dtype: object"
      ]
     },
     "execution_count": 105,
     "metadata": {},
     "output_type": "execute_result"
    }
   ],
   "source": [
    "#data.drop_duplicates('smiles').\n",
    "rows = data.loc[data['smiles'] == 'C[Sn](C)(C)Cl']\n",
    "rows.iloc[0]#['flashpoint'].std()"
   ]
  },
  {
   "cell_type": "code",
   "execution_count": 129,
   "metadata": {},
   "outputs": [],
   "source": [
    "def remove_duplicates(data):\n",
    "    duplicates = data[data.duplicated(subset='smiles')]\n",
    "    result = data.drop_duplicates(subset='smiles', keep=False)#[~duplicates]\n",
    "    #for each unique smiles that has duplicates\n",
    "    for smiles in data[data.duplicated(subset='smiles')]['smiles'].unique():\n",
    "        dup_rows = data.loc[data['smiles'] == smiles]\n",
    "        if dup_rows['flashpoint'].unique().shape[0] == 1:\n",
    "            # remove all but one\n",
    "            result = result.append(dup_rows.iloc[0], sort=False)\n",
    "        else:\n",
    "            if dup_rows['flashpoint'].std() < 5:\n",
    "                # add 1 back\n",
    "                result = result.append(dup_rows.iloc[0], sort=False)\n",
    "    return result  \n",
    "            "
   ]
  },
  {
   "cell_type": "code",
   "execution_count": 96,
   "metadata": {},
   "outputs": [
    {
     "data": {
      "text/plain": [
       "(3914, 5)"
      ]
     },
     "execution_count": 96,
     "metadata": {},
     "output_type": "execute_result"
    }
   ],
   "source": [
    "pure_compounds = data.loc[data['pure substance'] == 1]\n",
    "pure_compounds.shape"
   ]
  },
  {
   "cell_type": "code",
   "execution_count": 95,
   "metadata": {},
   "outputs": [
    {
     "data": {
      "text/plain": [
       "(550, 5)"
      ]
     },
     "execution_count": 95,
     "metadata": {},
     "output_type": "execute_result"
    }
   ],
   "source": [
    "data[data.duplicated(subset='smiles')].shape"
   ]
  },
  {
   "cell_type": "code",
   "execution_count": 130,
   "metadata": {},
   "outputs": [
    {
     "name": "stdout",
     "output_type": "stream",
     "text": [
      "(3914, 5)\n",
      "(3316, 5)\n"
     ]
    }
   ],
   "source": [
    "data = data.loc[data['pure substance'] == 1]\n",
    "print(data.shape)\n",
    "no_dups = remove_duplicates(data)\n",
    "print(no_dups.shape)"
   ]
  },
  {
   "cell_type": "code",
   "execution_count": 133,
   "metadata": {},
   "outputs": [],
   "source": [
    "no_dups[no_dups.duplicated(subset='smiles')]\n",
    "#no_dups.loc[no_dups['smiles'] == 'CC1=CCCC(=C)C2CC(C2CC1)(C)C']\n",
    "no_dups.to_csv('../data/integrated_dataset.csv', index=False)"
   ]
  },
  {
   "cell_type": "code",
   "execution_count": 116,
   "metadata": {},
   "outputs": [
    {
     "data": {
      "text/plain": [
       "(2948, 5)"
      ]
     },
     "execution_count": 116,
     "metadata": {},
     "output_type": "execute_result"
    }
   ],
   "source": [
    "result = data.drop_duplicates(subset='smiles', keep=False)\n",
    "result.shape"
   ]
  },
  {
   "cell_type": "code",
   "execution_count": 119,
   "metadata": {},
   "outputs": [
    {
     "data": {
      "text/plain": [
       "array(['CC1(C2CCC1(C(C2)O)C)C', 'CC(CC1=CC=CC=C1)NC',\n",
       "       'CC1CCC(C(C1)O)C(C)C', 'CC1=CCCC(=C)C2CC(C2CC1)(C)C',\n",
       "       'CCCCCCCCCCCCCC(=O)OC1C(C2(C(C=C(CC3(C2C=C(C3=O)C)O)CO)C4C1(C4(C)C)OC(=O)C)O)C',\n",
       "       'CC(=O)OC1CC2CCC1(C2(C)C)C', 'CC(C(=O)O)O', 'CC=CC=C',\n",
       "       'CC(CC1=CC=CC=C1)NC.Cl', 'CN1CCCC1C2=CN=CC=C2',\n",
       "       'C1C=CCC2C1C(=O)OC2=O', 'CC1(C2CCC1(C(=O)C2)C)C', 'C(C=CCO)O',\n",
       "       'CC1(C2CCC1(C(C2)OC(=O)CSC#N)C)C', 'CC1=CCC(CC1)C(=C)C',\n",
       "       'CC1(C2CCC(=C)C1C2)C', 'CC1=CCC2CC1C2(C)C', 'CC=CC(=O)O',\n",
       "       'C1=CC=C(C=C1)C=CC=O', 'CC(=CCCl)Cl', 'CC(=CCCC(=CC=O)C)C',\n",
       "       'C1CC=CCCC=CCCC=C1', 'C(=CCl)Cl', 'C(C=CCCl)Cl', 'CC=CC=CC(=O)O',\n",
       "       'CC(=CCCC(=CCO)C)C', 'CC1CC(=O)C=C2C1(CC(CC2)C(=C)C)C',\n",
       "       'CCC=CCC1=C(CCC1=O)C', 'C(=O)C(=C(C(=O)O)Cl)Cl',\n",
       "       'CC1C(SC(=O)N1C(=O)NC2CCCCC2)C3=CC=C(C=C3)Cl',\n",
       "       'C1=CC=C(C=C1)C=CCO', 'CCC=CCCO',\n",
       "       'CC1=C(C=CC=C1COC(=O)C2C(C2(C)C)C=C(C(F)(F)F)Cl)C3=CC=CC=C3',\n",
       "       'CC1=CCCC(C1C=CC(=O)C)(C)C', 'CC(C)N(C(C)C)C(=O)SCC(=CCl)Cl',\n",
       "       'CC=CC', 'CCC(=NO)C', 'CCCC=NO', 'CCCC=C(CC)C=O',\n",
       "       'CC(=CC1=CC=CC=C1)C=O', 'CC(=O)OCN=[N+](C)[O-]', 'CCCCCCC=CC',\n",
       "       'CC=C1CC2CC1C=C2', 'C(C(=CCl)Cl)Cl', 'C(CO)C=CO',\n",
       "       'C1=CC=C(C=C1)C=C([N+](=O)[O-])Br',\n",
       "       'CC1(C(C1C(=O)OC(C#N)C2=CC(=CC=C2)OC3=CC=CC=C3)C(C(Br)(Br)Br)Br)C',\n",
       "       'CC1=C(C(=O)CC1OC(=O)C2C(C2(C)C)C=C(C)C)CC#C',\n",
       "       'C1C2C(C(C1Cl)Cl)C3(C(=C(C2(C3(Cl)Cl)Cl)Cl)Cl)Cl',\n",
       "       'C1C2C3C(C1C4C2O4)C5(C(=C(C3(C5(Cl)Cl)Cl)Cl)Cl)Cl',\n",
       "       'C(CNC(=S)[S-])NC(=S)[S-].C(CNC(=S)[S-])NC(=S)[S-].[Mn+2].[Zn+2]',\n",
       "       '[CH-]1C=CC=C1.[CH-]1C=CC=C1.[Ni+2]', 'C1C=CC2C1C3CC2C=C3',\n",
       "       'C1=C(C=C(C(=C1O)O)O)C(=O)OC2=CC(=CC(=C2O)O)C(=O)OCC3C(C(C(C(O3)OC(=O)C4=CC(=C(C(=C4)OC(=O)C5=CC(=C(C(=C5)O)O)O)O)O)OC(=O)C6=CC(=C(C(=C6)OC(=O)C7=CC(=C(C(=C7)O)O)O)O)O)OC(=O)C8=CC(=C(C(=C8)OC(=O)C9=CC(=C(C(=C9)O)O)O)O)O)OC(=O)C1=CC(=C(C(=C1)OC(=O)C1=CC(=C(C(=C1)O)O)O)O)O',\n",
       "       'CCCCCCCCC=CCCCCCCCC(=O)[O-].[K+]',\n",
       "       'CC(C)C1=CC2=CCC3C(C2CC1)(CCCC3(C)C(=O)O)C',\n",
       "       'C1C=CC=[C-]1.C1C=CC=[C-]1.[Ni+2]',\n",
       "       'CCCCC(CC)CN1C(=O)C2C3CC(C2C1=O)C=C3',\n",
       "       'CCCCO.CCCCO.CCCCO.CCCCO.[Ti]', 'CC(COC(=O)C=C)O',\n",
       "       'CCC1CCC(C1)CCC(=O)O',\n",
       "       'CC(C)CCCCCCCOP(=S)(OCCCCCCCC(C)C)[S-].CC(C)CCCCCCCOP(=S)(OCCCCCCCC(C)C)[S-].[Zn+2]',\n",
       "       'COP(=O)(OC)OC1=C(C2C1CC=C2)Cl',\n",
       "       'CC(=CCCC(=CCCC(=CCCC=C(C)CCC=C(C)CCC=C(C)C)C)C)C', 'CCCCC',\n",
       "       'CCCCCC', 'CCCCCCC', 'CCCCCCCC', 'CCCCCCCCC', 'CCCCCCCCCC',\n",
       "       'CCCCCCCCCCC', 'CCCCCCCCCCCC', 'CCCCCCCCCCCCC', 'CCCCCCCCCCCCCC',\n",
       "       'CCCCCCCCCCCCCCCC', 'CCCCCCCCCCCCCCCCC', 'CC(C)C(C)C', 'CC1CCCC1',\n",
       "       'C1CCCCC1', 'CC1CCCCC1', 'C1CCCCCC1', 'CC(=C)CC(C)(C)C',\n",
       "       'CC(=CC=C)C', 'C=CCCCCC=C', 'C1=CC=CC=C1', 'CC1=CC=CC=C1',\n",
       "       'CC1=CC(=CC(=C1)C)C', 'CC1=C(C(=CC=C1)C)C', 'COCCOC', 'CC(=O)C',\n",
       "       'CC(C)O', 'CCC(CC)O', 'CC(CCO)CC(C)(C)C', 'CC(C(C)O)O', 'C(CO)O',\n",
       "       'CN(C)C1CCCCC1', 'C(CN)N', 'CNC=O', 'CSC', 'CSSC',\n",
       "       'C=CC1=CC=CC=C1', 'CN1CCOCC1', 'CNC1=CC=CC=C1', 'COCCO', 'CNCCO',\n",
       "       'C(COCCO)O', 'CN(CCO)CCO', 'C[Si](Cl)(Cl)Cl', 'CO[Si](OC)(OC)OC',\n",
       "       'C[Si](C)(C)C', 'C[Si]1(O[Si](O[Si](O[Si](O1)(C)C)(C)C)(C)C)C',\n",
       "       'C[Si]1(O[Si](O[Si](O[Si](O[Si](O1)(C)C)(C)C)(C)C)(C)C)C',\n",
       "       'C[Si]1(O[Si](O[Si](O[Si](O[Si](O[Si](O1)(C)C)(C)C)(C)C)(C)C)(C)C)C',\n",
       "       'C(=C)[Si](CC)(CC)CC',\n",
       "       'C[Si](O[Si](O[Si](O[Si](O[Si](O[Si](O[Si](C)(C)C)(C)C)(C)C)(C)C)(C)C)(C)C)(C)C',\n",
       "       'C[SiH](Cl)C', 'CCC(CC)CO', 'CCCCC(CC)CO', 'CCC(C)CO',\n",
       "       'CCC(C)(C)O', 'CCCC(C)CO', 'CC(C)(C)O', 'CC(C)CC(C)O', 'CCCCO',\n",
       "       'CCC(C)O', 'CCCCCCCCCCO', 'CCO', 'CCCCCCCO', 'CCCCCC(C)O',\n",
       "       'CCCCCCO', 'CCCCC(C)O', 'CO', 'CCCCCCCCCO', 'CCCCCCCCO',\n",
       "       'CCCCCCC(C)O', 'CCCCCO', 'CCCC(C)O', 'CCCO', 'CCCCCCCCCCCCCCO',\n",
       "       'CCCCCCCCCCCCCO', 'CC1CCC(=O)O1', 'CC(=O)OC1CCCCC1', 'C1COC1=O',\n",
       "       'CCC(CC)OC(=O)C', 'CC(=C)OC(=O)C', 'CCCCC(CC)COC(=O)C',\n",
       "       'CCCCC(CC)COC(=O)C=C', 'CC(=O)OCC=C', 'CCCCOC(=O)C(=C)C',\n",
       "       'CCCCOC(=O)CCC', 'CCCCOC(=O)C', 'CCCCOC=O', 'CCCCOC(=O)C=C',\n",
       "       'CCCCOC(=O)CC', 'CCCCC(CC)COC(=O)CCCCC(=O)OCC(CC)CCCC',\n",
       "       'CCCCOC(=O)CCCCCCCCC(=O)OCCCC', 'CCOC(=O)CCC(=O)OCC',\n",
       "       'CCOC(=O)OCC', 'CCOC(=O)C(=O)OCC', 'CCOC(=O)CC(=O)OCC',\n",
       "       'CCCCCCOC(=O)CCCCC(=O)OCCCCCC', 'CCCCCCCCOC(=O)CCCCC(=O)OCCCCCCCC',\n",
       "       'CC(=O)OC=C', 'CCOC(=O)C(C)O', 'CCOC(=O)C(=C)C', 'CCCC(=O)OCC',\n",
       "       'CCOC(=O)C', 'CCOC=O', 'CCOC(=O)C=C', 'CC(=O)OCCOC(=O)C',\n",
       "       'CCCCCCCOC(=O)C', 'CCCCCCOC(=O)C', 'CC(C)COC(=O)C(C)C',\n",
       "       'CC(C)COC(=O)C(=C)C', 'CC(C)COC(=O)C', 'CC(C)CCOC(=O)C',\n",
       "       'CC(C)OC(=O)C', 'CCCC(=O)OC', 'CCCCCC(=O)OC', 'COC=O',\n",
       "       'CCCCCCCCCCCCCCCCCC(=O)OC', 'COC(=O)C=C', 'CCC(=O)OC',\n",
       "       'CCCCCCCCCCCCCCCCCC(=O)OCCCC', 'CCCOC(=O)C', 'CCCOC=O',\n",
       "       'CCCCCOC(=O)CCC', 'CCCCCOC(=O)C', 'CCCCCOC=O', 'CCCCCOC(=O)CC',\n",
       "       'CCCOC(=O)C(=C)C', 'CCC(C)OC(=O)C', 'CC(=O)OC(C)(C)C',\n",
       "       'C1CCCCCCCCC1', 'C1CC=CC=C1', 'C1CCCCCCCC1', 'C1=CC=CC=CC=C1',\n",
       "       'C1CCCCCCC1', 'C1C=CC=C1', 'C1CCCC1', 'CCC1CCCCC1',\n",
       "       'CC(C)C1CCCCC1', 'C=C1CCCC1', 'CC1=CCC(=C(C)C)CC1', 'CC1=CCCCC1',\n",
       "       'CC1=CCCC1', 'CCCC(=C)C', 'CC(=C)C', 'CC(=C)C(=C)C',\n",
       "       'CC(=C)C(C)(C)C', 'CC(=CC(C)(C)C)C', 'C=CC1CCC=CC1', 'CC(CC=C)CC',\n",
       "       'CCC=C', 'C=CC=C', 'C1CCC=CC1', 'C1CC=CC1', 'CCCCCCCCC=C',\n",
       "       'CCCCCCCCCCC=C', 'CCCCCC=C', 'C=CCCCC=C', 'CCCCC=C', 'CCCCCCCC=C',\n",
       "       'C=CCCCCCC=C', 'CCCCCCC=C', 'CCCC=C', 'CC=C', 'CCCCCCCCCCCCC=C',\n",
       "       'CCCCCCCCCCCC=C', 'CCCCCCCCCC=C', 'CCCCCC(C)C', 'CCCCC(C)C',\n",
       "       'CCC(C)(C)C', 'CC(C)CC(C)(C)C', 'CC(C)CCC(C)(C)C', 'CC(C)CC(C)C',\n",
       "       'CC(C)CCC(C)C', 'CC(C)CCCC(C)C', 'CC(C)C', 'CCCC(C)C', 'CCC(C)C',\n",
       "       'CCCCCCCCCCCCCCCCCC', 'CCCCCCCCCCCCCCC',\n",
       "       'CCCC[O-].CCCC[O-].CCCC[O-].CCCC[O-].[Ti+4]',\n",
       "       'CC[O-].CC[O-].CC[O-].CC[O-].[Ti+4]',\n",
       "       'CC[N-]C.CC[N-]C.CC[N-]C.CC[N-]C.[Hf+4]', 'CCOP(=O)(OCC)OCC',\n",
       "       'CCOP(OCC)OCC', 'COP(OC)OC', 'CC[Pb](CC)(CC)CC', 'Cl[SiH](Cl)Cl',\n",
       "       'Cl[SiH2]Cl', 'ClC(Cl)[Si](Cl)(Cl)C', 'C(C)[Si](Cl)(Cl)Cl',\n",
       "       'C[Si](Cl)(Cl)C', 'C(C=C)[Si](Cl)(Cl)Cl', 'ClCCC[Si](Cl)(Cl)Cl',\n",
       "       'BrC[Si](Cl)(C)C', 'ClC[Si](Cl)(C)C', 'C[Si](Br)(C)C',\n",
       "       'C[Si](Cl)(C)C', 'CO[SiH](OC)OC', 'C[SiH](C)C',\n",
       "       'C(#N)CC[Si](Cl)(Cl)C', 'C(C=C)C[SiH](Cl)Cl',\n",
       "       'C(C)(C)(C)[Si](Cl)(Cl)Cl', 'C(C(C)C)[Si](Cl)(Cl)Cl',\n",
       "       'C(CCC)[Si](Cl)(Cl)Cl', 'C(CC)[Si](Cl)(Cl)C', 'BrC[Si](C)(C)C',\n",
       "       'C(C)[Si](Cl)(C)C', 'Cl[Si](O[Si](Cl)(C)C)(C)C', 'C[Si](OC)(OC)C',\n",
       "       'C[Si](OC)(OC)OC', 'CN(C)[SiH](C)C', 'C[SiH](O[SiH](C)C)C',\n",
       "       'CN([Si](C)(C)C)[SiH3]', 'C1(CCCC1)[Si](Cl)(Cl)Cl',\n",
       "       'C[Si](C)(C)OC(C(F)(F)F)=O', 'C1(CCCC1)[SiH](Cl)Cl',\n",
       "       'C(C=C)[Si](Cl)(C)C', 'ClCC(C[Si](Cl)(Cl)C)C',\n",
       "       'C(CCC)[Si](Cl)(Cl)C', 'CC=C[SiH](OC)OC', 'CC(=C(C)C)[SiH3]',\n",
       "       'C(C)[Si](Cl)(C)CC', 'ClC[Si](OCC)(C)C', 'C(C)[Si](OC)(OC)OC',\n",
       "       'CN(C)[Si](C)(C)C', 'CN(C)C(N(C)C)[SiH3]', 'C[SiH](O[Si](C)(C)C)C',\n",
       "       'C1(=CC=CC=C1)[SiH3]', 'C(=CCCCC)[Si](Cl)(Cl)Cl',\n",
       "       'ClC[Si](O[Si](C)(C)C)(C)CCl', 'C(C#C)O[Si](C)(C)C',\n",
       "       'C[Si](OC(C)=O)(OC(C)=O)C', 'C(=C)[Si](C)(C)C=C',\n",
       "       'C(CCCCC)[Si](Cl)(Cl)Cl', 'C(=C)[Si](OCC)(C)C', 'C[Si]1(OCCCC1)C',\n",
       "       'C(C=C)O[Si](C)(C)C', 'C(C)(=O)OC[Si](C)(C)C', 'C(C=C)[Si](C)(C)C',\n",
       "       'C(C)[Si](Cl)(CC)CC', 'C(C)(C)(C)[Si](Cl)(C)C',\n",
       "       'ClCCC[Si](OC)(OC)OC', 'C[Si](OCCC)(C)C', 'C(C)(C)(C)[Si](O)(C)C',\n",
       "       'C[Si](OCC)(OCC)C', 'C(C)[SiH](CC)CC', 'C(CCCCC)[SiH3]',\n",
       "       'C(C)(C)(C)[SiH](C)C', 'CN(C)[Si](C)(C)N(C)C',\n",
       "       'C[Si]1(O[Si](O[Si](O1)(C)C)(C)C)C', 'C[Si](S[Si](C)(C)C)(C)C',\n",
       "       'C[Si]([Si](C)(C)C)(C)C', 'CN(C)[SiH](N(C)C)N(C)C',\n",
       "       'C[Si](O[SiH2]O[Si](C)(C)C)(C)C', 'C1(=CC=CC=C1)C[SiH](Cl)Cl',\n",
       "       'C1(=CC=CC=C1)C[SiH2]Cl', 'C(=C)C(C=C)(C=C)[SiH3]',\n",
       "       'C1(CCCCC1)C[SiH](Cl)Cl', 'C[Si](OC=CC=C)(C)C',\n",
       "       'ClCC(=C)C[Si](C)(C)C', 'C(CCCCC)[Si](Cl)(Cl)C',\n",
       "       'C(=C)C[SiH](OCC)OCC', 'C(=C)[Si](C)(CC)CC', 'C[Si](N1CCOCC1)(C)C',\n",
       "       'C(C)(C)(C)O[Si](C)(C)C', 'C(C(C)C)[Si](OC)(OC)OC',\n",
       "       'C[Si](OCC)(OCC)OCC', 'C(C)N(CC)[Si](C)(C)C',\n",
       "       'C[Si](C)(C)C[Si](C)(C)C', 'C1(=CC=CC=C1)[Si](Cl)(C)C',\n",
       "       'CN(C)[Si](CC)(CC)CC', 'C(=C)[Si](C=C)(C=C)C=C',\n",
       "       'C(C)[Si](OC(C)=O)(OC(C)=O)OC(C)=O', 'C1(C=CC=C1)[Si](C)(C)C',\n",
       "       'C[Si](C1C=CCC1)(C)C', 'C(C=CC=C)[Si](C)(C)C',\n",
       "       'C(CCCCCCC)[Si](Cl)(Cl)Cl', 'C(CCCCCC)[Si](Cl)(Cl)C',\n",
       "       'C(C)C(C(=O)O[SiH3])(CC)CC', 'C(=C)[Si](OCC)(OCC)OCC',\n",
       "       'C(=C)[Si](N[Si](C=C)(C)C)(C)C', 'C(C)O[Si](OCC)(OCC)OCC',\n",
       "       'C(C)[Si](CC)(CC)CC', 'C(CCCCCCC)[SiH3]', 'NCCNCCC[Si](OC)(OC)OC',\n",
       "       'C[Si](O[Si](O[Si](C)(C)C)(C)C)(C)C',\n",
       "       'C[Si]1(N[Si](N[Si](N[Si](N1)(C)C)(C)C)(C)C)C',\n",
       "       'C[SiH](O[Si](O[SiH](C)C)(O[SiH](C)C)O[SiH](C)C)C',\n",
       "       'ClC1=CC=C(C=C1)[Si](C)(C)C', 'C[Si](OC)(OC)C1=CC=CC=C1',\n",
       "       'C1(=CC=CC=C1)[Si](OC)(OC)OC', 'C[Si](C1=CC=CC=C1)(C)C',\n",
       "       'C(#N)CC[Si](OCC)(OCC)OCC', 'C1(CCCCC1)C[SiH](OC)OC',\n",
       "       'C(C1CO1)OCCC[Si](OC)(OC)OC', 'C(C)(C)(C)[Si](Cl)(C)C(C)(C)C',\n",
       "       'C(CCCCC)[Si](OC)(OC)OC', 'C(C)(C)[SiH](C(C)C)C(C)C',\n",
       "       'C(CC)[SiH](CCC)CCC', 'C(C)(C)N(C(C)C)[Si](C)(C)C',\n",
       "       'Cl[Si](O[Si](O[Si](O[Si](C)(C)C)(C)C)(C)C)(C)C',\n",
       "       'C(CC)[Si](O[SiH](C)C)(O[SiH](C)C)O[SiH](C)C',\n",
       "       'C(C1=CC=CC=C1)[Si](C)(C)C', 'C(C(=C)C)(=O)OCCC[Si](OC)(OC)OC',\n",
       "       'C(CCCCCCC)[Si](Cl)(C)C', 'C(C)N(CC)[Si](C)(C)N(CC)CC',\n",
       "       'C[Si](O[Si](O[Si](O[Si](C)(C)C)(C)C)(C)C)(C)C',\n",
       "       'C1(CC2C(CC1)O2)CC[Si](OC)(OC)OC', 'C(CCCCCCCCC)[Si](Cl)(Cl)C',\n",
       "       'C1(=CC=CC=C1)[Si](OCC)(OCC)OCC', 'C1(=CC=CC=C1)[SiH2]C1=CC=CC=C1',\n",
       "       'C(CCCCCCCCCCC)[Si](Cl)(Cl)Cl', 'C(C)[Si](O[Si](CC)(CC)CC)(CC)CC',\n",
       "       'C[Si](O[Si](O[Si](O[Si](O[Si](C)(C)C)(C)C)(C)C)(C)C)(C)C',\n",
       "       'C[Si](Cl)(C1=CC=CC=C1)C1=CC=CC=C1', 'C(CCCCCCCCCCC)[Si](Cl)(Cl)C',\n",
       "       'C1(=CC=CC=C1)[Si](OC)(OC)C1=CC=CC=C1',\n",
       "       'C(CCCCCCC)[Si](OCC)(OCC)OCC',\n",
       "       'C[Si](O[Si](O[Si](O[Si](O[Si](O[Si](C)(C)C)(C)C)(C)C)(C)C)(C)C)(C)C',\n",
       "       'C(CCCCCCCCCCCCCCCCC)[Si](Cl)(Cl)Cl',\n",
       "       'C[Si](O[Si](O[Si](O[Si](O[Si](O[Si](O[Si](O[Si](C)(C)C)(C)C)(C)C)(C)C)(C)C)(C)C)(C)C)(C)C',\n",
       "       'C(=C)[Si](Cl)(Cl)Cl', 'C(C)[SiH3]', 'C(CC)[Si](Cl)(Cl)Cl',\n",
       "       'C[Si](F)(C)C', 'CC(=C[SiH2]Cl)C', 'C[Si](C)(C)N=C=S',\n",
       "       'CO[Si](C)(C)C', 'C(C)[SiH2]CC', 'N(=C=O)[Si](N=C=O)(N=C=O)N=C=O',\n",
       "       'C(C)(CCC)[Si](Cl)(Cl)Cl', 'C(=C)[Si](OC)(OC)OC',\n",
       "       'C(C)O[Si](C)(C)C', 'C1(=CC=CC=C1)[Si](Cl)(Cl)Cl',\n",
       "       'C1(CCCCC1)[Si](Cl)(Cl)Cl', 'C[Si](C#CC)(C)C',\n",
       "       'C(CCCCC)[SiH](Cl)Cl', 'C(C=C)[Si](OC)(OC)OC',\n",
       "       'ClCCC[Si](OC)(OC)C', 'C(CC)[Si](OC)(OC)OC',\n",
       "       'C[Si](O[Si](C)(C)C)(C)C', 'C[Si](N[Si](C)(C)C)(C)C',\n",
       "       'C[Si](OC(C)=O)(OC(C)=O)OC(C)=O', 'C(CCCCCC)[Si](Cl)(Cl)Cl',\n",
       "       'COCC(C)O[Si](C)(C)C', 'C[Si](N([Si](C)(C)C)C)(C)C',\n",
       "       'C(=C)[Si](OC(C)=O)(OC(C)=O)OC(C)=O', 'C1(=CCCC1)O[Si](C)(C)C',\n",
       "       'C[Si](O[Si](C=C)(C=C)C)(C)C', 'C(C)[Si](OCC)(OCC)CC',\n",
       "       'CC(C(O[Si]([O])OCC)(C)C)C', 'C(CC)[Si](Cl)(CCC)CCC',\n",
       "       'C(#CCCCCC)[Si](C)(C)C',\n",
       "       'C[Si](OC(O[Si](C)(C)C)(O[Si](C)(C)C)[SiH3])(C)C',\n",
       "       'C1(=CC=CC=C1)[Si](Cl)(Cl)C1=CC=CC=C1',\n",
       "       'C(CC)O[Si](OCCC)(OCCC)OCCC', 'C1(=CC=CC=C1)C(C1=CC=CC=C1)[SiH3]',\n",
       "       'C=CC[Si](Cl)(Cl)Cl', 'CO[Si](CCCNCCN)(OC)OC',\n",
       "       'CCO[Si](CCCN)(OCC)OCC', 'CO[Si](CCCN)(OC)OC',\n",
       "       'CCCC[Sn](CCCC)(CCCC)CCCC', 'C[Sn](C)(C)C'], dtype=object)"
      ]
     },
     "execution_count": 119,
     "metadata": {},
     "output_type": "execute_result"
    }
   ],
   "source": [
    "data[data.duplicated(subset='smiles')]['smiles'].unique()"
   ]
  },
  {
   "cell_type": "code",
   "execution_count": null,
   "metadata": {},
   "outputs": [],
   "source": []
  }
 ],
 "metadata": {
  "kernelspec": {
   "display_name": "moleprop",
   "language": "python",
   "name": "moleprop"
  },
  "language_info": {
   "codemirror_mode": {
    "name": "ipython",
    "version": 3
   },
   "file_extension": ".py",
   "mimetype": "text/x-python",
   "name": "python",
   "nbconvert_exporter": "python",
   "pygments_lexer": "ipython3",
   "version": "3.6.8"
  }
 },
 "nbformat": 4,
 "nbformat_minor": 2
}
