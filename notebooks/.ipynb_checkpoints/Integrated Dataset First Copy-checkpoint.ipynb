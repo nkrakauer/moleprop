{
 "cells": [
  {
   "cell_type": "code",
   "execution_count": 90,
   "metadata": {},
   "outputs": [],
   "source": [
    "import pandas as pd\n",
    "from rdkit import Chem\n",
    "from rdkit.Chem import Draw\n",
    "import numpy as np\n",
    "import requests\n",
    "import re\n",
    "#from helpers.integration_helpers import canoicalize_smiles"
   ]
  },
  {
   "cell_type": "code",
   "execution_count": 65,
   "metadata": {},
   "outputs": [],
   "source": [
    "def get_compound_with_element(data, element):\n",
    "    return data[data['smiles'].str.contains(element)]\n",
    "\n",
    "def get_smiles(compound):\n",
    "    smilesUrl = \"https://opsin.ch.cam.ac.uk/opsin/\"+compound+\".smi\"\n",
    "    requestSmiles = requests.get(smilesUrl)\n",
    "    if requestSmiles.status_code == 400 or requestSmiles.status_code == 404:\n",
    "        return None\n",
    "    else:\n",
    "        return Chem.MolToSmiles(Chem.MolFromSmiles(requestSmiles.text))  \n",
    "    \n",
    "def celsiusToKelvin(temp):\n",
    "    return temp + 273.15\n",
    "\n",
    "def get_compound_with_element(data, element):\n",
    "    return data[data['smiles'].str.contains(element)]"
   ]
  },
  {
   "cell_type": "code",
   "execution_count": 66,
   "metadata": {},
   "outputs": [
    {
     "name": "stdout",
     "output_type": "stream",
     "text": [
      "['pubchem' 'carroll11' 'chen14' 'Saldana11' 'gelest_germanium'\n",
      " 'gelest_metal-organics' 'pan12' 'gelest_silanes' 'gelest_tin'\n",
      " 'hazardous materials' 'le15' 'wang11' 'didier14' 'pan07' 'caroll15'\n",
      " 'didier12']\n"
     ]
    },
    {
     "data": {
      "text/plain": [
       "smiles            0\n",
       "compound          0\n",
       "flashpoint        0\n",
       "source            0\n",
       "pure substance    0\n",
       "dtype: int64"
      ]
     },
     "execution_count": 66,
     "metadata": {},
     "output_type": "execute_result"
    }
   ],
   "source": [
    "integrated_data = pd.read_csv('../data/integrated_dataset.csv')\n",
    "print(integrated_data['source'].unique())\n",
    "integrated_data.isnull().sum()"
   ]
  },
  {
   "cell_type": "markdown",
   "metadata": {},
   "source": [
    "## Carroll"
   ]
  },
  {
   "cell_type": "code",
   "execution_count": null,
   "metadata": {},
   "outputs": [],
   "source": [
    "carroll = pd.read_csv('../data/Carroll11.csv', encoding = \"ISO-8859-1\")"
   ]
  },
  {
   "cell_type": "code",
   "execution_count": null,
   "metadata": {},
   "outputs": [],
   "source": [
    "print(list(carroll))\n",
    "#carroll = data[['Compound', 'TFP(K)Ref.']]\n",
    "#carroll['source'] = 'carroll11'\n",
    "#carroll['pure substance'] = 1\n",
    "carroll.head()"
   ]
  },
  {
   "cell_type": "markdown",
   "metadata": {},
   "source": [
    "## Saldana"
   ]
  },
  {
   "cell_type": "code",
   "execution_count": null,
   "metadata": {},
   "outputs": [],
   "source": [
    "fuels = pd.read_csv('../data/fuels.csv', encoding = \"ISO-8859-1\")\n",
    "fuels.head()"
   ]
  },
  {
   "cell_type": "markdown",
   "metadata": {},
   "source": [
    "## Pan12"
   ]
  },
  {
   "cell_type": "code",
   "execution_count": null,
   "metadata": {},
   "outputs": [],
   "source": [
    "pan12 = pd.read_csv('../data/pan12.csv', encoding = \"ISO-8859-1\")\n",
    "pan12.head()"
   ]
  },
  {
   "cell_type": "markdown",
   "metadata": {},
   "source": [
    "## chen14"
   ]
  },
  {
   "cell_type": "code",
   "execution_count": null,
   "metadata": {},
   "outputs": [],
   "source": [
    "chen14 = pd.read_csv('../data/chen14.csv', encoding = \"ISO-8859-1\")"
   ]
  },
  {
   "cell_type": "code",
   "execution_count": null,
   "metadata": {},
   "outputs": [],
   "source": [
    "chen14.head()"
   ]
  },
  {
   "cell_type": "code",
   "execution_count": null,
   "metadata": {},
   "outputs": [],
   "source": [
    "# canonicalize carroll smiles\n",
    "for i in range(0, len(carroll)):\n",
    "    carroll.iloc[i]['smiles'] = Chem.MolToSmiles(Chem.MolFromSmiles(carroll.iloc[i]['smiles']))\n"
   ]
  },
  {
   "cell_type": "code",
   "execution_count": null,
   "metadata": {},
   "outputs": [],
   "source": [
    "#canonicalize smiles with rdkit\n",
    "result['canonical smiles'] = None\n",
    "for idx, row in result.iterrows():\n",
    "    result.loc[idx,'canonical smiles'] = Chem.MolToSmiles(Chem.MolFromSmiles(result.iloc[idx]['smiles']))"
   ]
  },
  {
   "cell_type": "code",
   "execution_count": null,
   "metadata": {},
   "outputs": [],
   "source": [
    "for idx, row in result.iterrows():\n",
    "    result.loc[idx,'canonical smiles'] = Chem.MolToSmiles(Chem.MolFromSmiles(result.loc[idx]['smiles']))"
   ]
  },
  {
   "cell_type": "markdown",
   "metadata": {},
   "source": [
    "## Add Gelest to dataset"
   ]
  },
  {
   "cell_type": "code",
   "execution_count": null,
   "metadata": {},
   "outputs": [],
   "source": [
    "silanes = pd.read_csv('../data/silanes_all.csv')\n",
    "metal_organic = pd.read_csv('../data/metal-organics_all.csv')\n",
    "tin = pd.read_csv('../data/tin_all.csv')\n",
    "germanium  = pd.read_csv('../data/germanium_all.csv')\n",
    "print(list(silanes))\n",
    "print(list(metal_organic))\n",
    "print(list(tin))\n",
    "print(list(germanium))"
   ]
  },
  {
   "cell_type": "code",
   "execution_count": null,
   "metadata": {},
   "outputs": [],
   "source": [
    "#result = result[['compound', 'smiles', 'flashpoint', 'pure substance', 'source']]\n",
    "silanes_pure = silanes[silanes['pure substance'] == 1]\n",
    "metal_organic_pure = metal_organic[metal_organic['pure substance'] == 1]\n",
    "tin_pure = tin[tin['pure substance'] == 1]\n",
    "germanium_pure = germanium[germanium['pure substance'] == 1]"
   ]
  },
  {
   "cell_type": "markdown",
   "metadata": {},
   "source": [
    "## pubchem integration"
   ]
  },
  {
   "cell_type": "code",
   "execution_count": null,
   "metadata": {},
   "outputs": [],
   "source": [
    "pubchem = pd.read_csv('../data/pubchem_data.csv')\n",
    "pubchem = pubchem[['smiles', 'compound', 'flashpoint', 'source', 'pure substance']]\n",
    "germanium_pure = germanium_pure[['smiles', 'compound', 'flashpoint', 'source', 'pure substance']]\n",
    "tin_pure = tin_pure[['smiles', 'compound', 'flashpoint', 'source', 'pure substance']]\n",
    "metal_organic_pure = metal_organic_pure[['smiles', 'compound', 'flashpoint', 'source', 'pure substance']]\n",
    "silanes_pure = silanes_pure[['smiles', 'compound', 'flashpoint', 'source', 'pure substance']]\n",
    "hazardous_mat = hazardous_mat[['smiles', 'compound', 'flashpoint', 'source', 'pure substance']]\n"
   ]
  },
  {
   "cell_type": "code",
   "execution_count": null,
   "metadata": {},
   "outputs": [],
   "source": [
    "print(list(pubchem))\n",
    "print(list(carroll))\n",
    "print(list(chen14))\n",
    "print(list(fuels))\n",
    "print(list(germanium_pure))\n",
    "print(list(metal_organic_pure))\n",
    "print(list(pan12))\n",
    "print(list(silanes_pure))\n",
    "print(list(tin_pure))\n",
    "print(list(hazardous_mat))"
   ]
  },
  {
   "cell_type": "code",
   "execution_count": null,
   "metadata": {},
   "outputs": [],
   "source": [
    "def canoicalize_smiles(data):\n",
    "    for idx, row in data.iterrows():\n",
    "        m = Chem.MolFromSmiles(data.iloc[idx]['smiles'])\n",
    "        if m != None:\n",
    "            data.iloc[idx]['smiles'] = Chem.MolToSmiles(m)\n",
    "        else:\n",
    "            data.iloc[idx]['smiles'] = None\n",
    "    return data"
   ]
  },
  {
   "cell_type": "code",
   "execution_count": null,
   "metadata": {},
   "outputs": [],
   "source": [
    "frames = [pubchem, carroll, chen14, fuels, germanium_pure, metal_organic_pure, pan12, silanes_pure, tin_pure, hazardous_mat]\n",
    "result = pd.concat(frames)"
   ]
  },
  {
   "cell_type": "code",
   "execution_count": null,
   "metadata": {},
   "outputs": [],
   "source": [
    "canonical_smiles_data = canoicalize_smiles(result)"
   ]
  },
  {
   "cell_type": "code",
   "execution_count": null,
   "metadata": {},
   "outputs": [],
   "source": [
    "print(canonical_smiles_data.shape)\n",
    "print(canonical_smiles_data.dropna().shape)\n",
    "canonical_smiles_data.dropna(inplace=True)"
   ]
  },
  {
   "cell_type": "code",
   "execution_count": null,
   "metadata": {},
   "outputs": [],
   "source": [
    "canonical_smiles_data.to_csv('../data/integrated_dataset.csv', index=False)"
   ]
  },
  {
   "cell_type": "code",
   "execution_count": null,
   "metadata": {},
   "outputs": [],
   "source": [
    "def remove_duplicates(data):\n",
    "    duplicates = data[data.duplicated(subset='smiles')]\n",
    "    result = data.drop_duplicates(subset='smiles', keep=False)#[~duplicates]\n",
    "    #for each unique smiles that has duplicates\n",
    "    for smiles in data[data.duplicated(subset='smiles')]['smiles'].unique():\n",
    "        dup_rows = data.loc[data['smiles'] == smiles]\n",
    "        if dup_rows['flashpoint'].unique().shape[0] == 1:\n",
    "            # remove all but one\n",
    "            result = result.append(dup_rows.iloc[0], sort=False)\n",
    "        else:\n",
    "            if dup_rows['flashpoint'].std() < 5:\n",
    "                # add 1 back\n",
    "                result = result.append(dup_rows.iloc[0], sort=False)\n",
    "    return result  \n",
    "            "
   ]
  },
  {
   "cell_type": "code",
   "execution_count": null,
   "metadata": {},
   "outputs": [],
   "source": [
    "pure_compounds = data.loc[data['pure substance'] == 1]\n",
    "pure_compounds.shape"
   ]
  },
  {
   "cell_type": "code",
   "execution_count": null,
   "metadata": {},
   "outputs": [],
   "source": [
    "data[data.duplicated(subset='smiles')].shape"
   ]
  },
  {
   "cell_type": "code",
   "execution_count": null,
   "metadata": {},
   "outputs": [],
   "source": [
    "data = data.loc[data['pure substance'] == 1]\n",
    "print(data.shape)\n",
    "no_dups = remove_duplicates(data)\n",
    "print(no_dups.shape)"
   ]
  },
  {
   "cell_type": "code",
   "execution_count": null,
   "metadata": {},
   "outputs": [],
   "source": [
    "no_dups[no_dups.duplicated(subset='smiles')]\n",
    "#no_dups.loc[no_dups['smiles'] == 'CC1=CCCC(=C)C2CC(C2CC1)(C)C']\n",
    "no_dups.to_csv('../data/integrated_dataset.csv', index=False)"
   ]
  },
  {
   "cell_type": "code",
   "execution_count": null,
   "metadata": {},
   "outputs": [],
   "source": [
    "result = data.drop_duplicates(subset='smiles', keep=False)\n",
    "result.shape"
   ]
  },
  {
   "cell_type": "code",
   "execution_count": null,
   "metadata": {},
   "outputs": [],
   "source": [
    "data[data.duplicated(subset='smiles')]['smiles'].unique()"
   ]
  },
  {
   "cell_type": "markdown",
   "metadata": {},
   "source": [
    "### Hazardous Materials"
   ]
  },
  {
   "cell_type": "code",
   "execution_count": null,
   "metadata": {},
   "outputs": [],
   "source": [
    "data = pd.read_csv('../data/hazardous_materials.csv')\n",
    "haz = data[['Common name', 'Data type', 'Measurement name', 'Measurement value', 'Measurement units']]"
   ]
  },
  {
   "cell_type": "code",
   "execution_count": null,
   "metadata": {},
   "outputs": [],
   "source": [
    "flashpoints = haz.loc[haz['Measurement name'] == 'Flash point']"
   ]
  },
  {
   "cell_type": "code",
   "execution_count": null,
   "metadata": {},
   "outputs": [],
   "source": [
    "print(list(flashpoints))"
   ]
  },
  {
   "cell_type": "code",
   "execution_count": null,
   "metadata": {},
   "outputs": [],
   "source": [
    "flashpoints['smiles'] = flashpoints['Common name'].apply(get_smiles)"
   ]
  },
  {
   "cell_type": "code",
   "execution_count": 12,
   "metadata": {},
   "outputs": [],
   "source": []
  },
  {
   "cell_type": "code",
   "execution_count": null,
   "metadata": {},
   "outputs": [],
   "source": [
    "flashpoints = flashpoints[~flashpoints['Measurement value'].str.contains('<')]\n",
    "flashpoints = flashpoints[~flashpoints['Measurement value'].str.contains('>')]\n",
    "flashpoints = flashpoints[~flashpoints['Measurement value'].str.contains('~')]\n",
    "pattern = '\\\\w+-\\\\w'\n",
    "flashpoints['Measurement value'] = flashpoints['Measurement value'].str.replace(pattern, 'none', regex=True)\n",
    "#flashpoints = flashpoints[~flashpoints['Measurement value'].str.contains('none')]\n",
    "flashpoints['Measurement value'] = pd.to_numeric(flashpoints['Measurement value'], errors='coerce')\n",
    "\n",
    "flashpoints.head()"
   ]
  },
  {
   "cell_type": "code",
   "execution_count": null,
   "metadata": {},
   "outputs": [],
   "source": [
    "flashpoints['flashpoint'] = flashpoints['Measurement value'].apply(celsiusToKelvin)\n",
    "flashpoints.drop(columns=['Measurement name','Data type', 'Measurement units', 'Measurement value'], inplace=True)\n",
    "#flashpoints.rename(columns={'Common name' : 'compound', 'Measurement value' : 'flashpoint'}, inplace=True)"
   ]
  },
  {
   "cell_type": "code",
   "execution_count": null,
   "metadata": {},
   "outputs": [],
   "source": [
    "flashpoints.dropna(inplace=True)\n",
    "flashpoints.rename(columns={'Common name' : 'compound'}, inplace=True)\n",
    "#flashpoints.drop(df.columns[i], axis=1)\n",
    "flashpoints['pure substance'] = 1\n",
    "flashpoints['source'] = 'hazardous materials'\n",
    "hazardous_mat = flashpoints[['compound', 'flashpoint', 'pure substance', 'smiles', 'source']]\n",
    "hazardous_mat.shape"
   ]
  },
  {
   "cell_type": "code",
   "execution_count": null,
   "metadata": {},
   "outputs": [],
   "source": [
    "hazardous_mat.head()"
   ]
  },
  {
   "cell_type": "code",
   "execution_count": null,
   "metadata": {},
   "outputs": [],
   "source": [
    "#data = pd.read_csv('../data/integrated_dataset.csv')\n",
    "#frames = [data, hazardous_mat]\n",
    "#result = pd.concat(frames)\n",
    "no_dups = remove_duplicates(result)\n",
    "print(result.shape)\n",
    "print(no_dups.shape)\n",
    "#no_dups.to_csv('../data/integrated_dataset.csv', index=False)"
   ]
  },
  {
   "cell_type": "markdown",
   "metadata": {},
   "source": [
    "## Le 2015"
   ]
  },
  {
   "cell_type": "code",
   "execution_count": 79,
   "metadata": {},
   "outputs": [],
   "source": [
    "og_le15 = pd.read_csv('../data/le15.csv')\n",
    "og_le15_2 = pd.read_csv('../data/le15_2.csv')\n",
    "#le15.rename(columns={\"MolID\" : \"compound\", \"FP\" : \"flashpoint\"}, inplace=True)\n",
    "#print(le15.head())\n",
    "#print(le15_2.head())"
   ]
  },
  {
   "cell_type": "code",
   "execution_count": 71,
   "metadata": {},
   "outputs": [],
   "source": [
    "le15['flashpoint'] = le15['flashpoint'].apply(celsiusToKelvin)\n",
    "le15_2['flashpoint'] = le15_2['flashpoint'].apply(celsiusToKelvin)"
   ]
  },
  {
   "cell_type": "code",
   "execution_count": 72,
   "metadata": {},
   "outputs": [],
   "source": [
    "le15['smiles'] = le15['compound'].apply(get_smiles)\n",
    "le15_2['smiles'] = le15_2['compound'].apply(get_smiles)"
   ]
  },
  {
   "cell_type": "code",
   "execution_count": 81,
   "metadata": {},
   "outputs": [
    {
     "data": {
      "text/html": [
       "<div>\n",
       "<style scoped>\n",
       "    .dataframe tbody tr th:only-of-type {\n",
       "        vertical-align: middle;\n",
       "    }\n",
       "\n",
       "    .dataframe tbody tr th {\n",
       "        vertical-align: top;\n",
       "    }\n",
       "\n",
       "    .dataframe thead th {\n",
       "        text-align: right;\n",
       "    }\n",
       "</style>\n",
       "<table border=\"1\" class=\"dataframe\">\n",
       "  <thead>\n",
       "    <tr style=\"text-align: right;\">\n",
       "      <th></th>\n",
       "      <th>compound</th>\n",
       "      <th>flashpoint</th>\n",
       "      <th>smiles</th>\n",
       "    </tr>\n",
       "  </thead>\n",
       "  <tbody>\n",
       "    <tr>\n",
       "      <th>0</th>\n",
       "      <td>(4-bromophenyl)urea</td>\n",
       "      <td>402.85</td>\n",
       "      <td>NC(=O)Nc1ccc(Br)cc1</td>\n",
       "    </tr>\n",
       "    <tr>\n",
       "      <th>1</th>\n",
       "      <td>[dimethyl(trimethylsilyloxy)silyl]oxy-dimethyl...</td>\n",
       "      <td>361.25</td>\n",
       "      <td>C[Si](C)(C)O[Si](C)(C)O[Si](C)(C)O[Si](C)(C)C</td>\n",
       "    </tr>\n",
       "    <tr>\n",
       "      <th>2</th>\n",
       "      <td>1,1,3,3-tetraethylurea</td>\n",
       "      <td>360.15</td>\n",
       "      <td>CCN(CC)C(=O)N(CC)CC</td>\n",
       "    </tr>\n",
       "    <tr>\n",
       "      <th>3</th>\n",
       "      <td>1,1,3-trimethylurea</td>\n",
       "      <td>367.55</td>\n",
       "      <td>CNC(=O)N(C)C</td>\n",
       "    </tr>\n",
       "    <tr>\n",
       "      <th>4</th>\n",
       "      <td>1,2-dihydroAcenaphthalene120oC</td>\n",
       "      <td>393.15</td>\n",
       "      <td>None</td>\n",
       "    </tr>\n",
       "  </tbody>\n",
       "</table>\n",
       "</div>"
      ],
      "text/plain": [
       "                                            compound  flashpoint  \\\n",
       "0                                (4-bromophenyl)urea      402.85   \n",
       "1  [dimethyl(trimethylsilyloxy)silyl]oxy-dimethyl...      361.25   \n",
       "2                             1,1,3,3-tetraethylurea      360.15   \n",
       "3                                1,1,3-trimethylurea      367.55   \n",
       "4                     1,2-dihydroAcenaphthalene120oC      393.15   \n",
       "\n",
       "                                          smiles  \n",
       "0                            NC(=O)Nc1ccc(Br)cc1  \n",
       "1  C[Si](C)(C)O[Si](C)(C)O[Si](C)(C)O[Si](C)(C)C  \n",
       "2                            CCN(CC)C(=O)N(CC)CC  \n",
       "3                                   CNC(=O)N(C)C  \n",
       "4                                           None  "
      ]
     },
     "execution_count": 81,
     "metadata": {},
     "output_type": "execute_result"
    }
   ],
   "source": [
    "le15['flashpoint'] = og_le15['flashpoint'].apply(celsiusToKelvin)\n",
    "le15_2['flashpoint'] = og_le15_2['flashpoint'].apply(celsiusToKelvin)\n",
    "le15_2.head()"
   ]
  },
  {
   "cell_type": "code",
   "execution_count": 82,
   "metadata": {},
   "outputs": [],
   "source": [
    "le15_smiles = le15[le15.smiles.isnull() == False]\n",
    "le15_2_smiles = le15_2[le15_2.smiles.isnull() == False]\n",
    "le15_no_smiles = le15[le15.smiles.isnull() == True]\n",
    "le15_2_no_smiles = le15_2[le15_2.smiles.isnull() == True]"
   ]
  },
  {
   "cell_type": "code",
   "execution_count": 115,
   "metadata": {},
   "outputs": [
    {
     "data": {
      "text/plain": [
       "'Glycine i'"
      ]
     },
     "execution_count": 115,
     "metadata": {},
     "output_type": "execute_result"
    }
   ],
   "source": [
    "le15_no_smiles[le15_no_smiles['compound'] == '1butyne-63oC']\n",
    "pat = r'\\w+ ?\\D'\n",
    "prog = re.compile(pat)\n",
    "compound = 'Glycine iron sulphate (1:1)'\n",
    "prog.match(compound).group(0)\n",
    "#le15_no_smiles.compound.str.replace('')"
   ]
  },
  {
   "cell_type": "code",
   "execution_count": 107,
   "metadata": {},
   "outputs": [
    {
     "name": "stdout",
     "output_type": "stream",
     "text": [
      "C1CN1 Aziridine151564\n",
      "CC=O Acetaldehyde75070\n",
      "COC Dimethylether115106\n",
      "CCO ethanol64175\n",
      "C#CCC 1butyne-63oC\n",
      "CC#CC 2butyne-49oC\n",
      "C=CC=O 2propenal107028\n",
      "CN=C=O MethylIsocyanate624839\n",
      "CC1CN1 2methylaziridine-10oC\n",
      "C=CCN Allylamine107119\n",
      "CC(C)=O Acetone67641\n",
      "C=CCO Allylalcohol107186\n",
      "CCC=O Propionaldehyde123386\n",
      "CC(C)N Isopropylamine75310\n",
      "CC(=O)O Aceticacid64197\n",
      "COC=O Methylformate107313\n",
      "CC(C)O 2propanol67630\n",
      "CCOC Ethylmethylether540670\n",
      "CC[SiH3] EthylSilane-60oC\n",
      "CSC Dimethylsulfide75183\n",
      "CCS Ethanethiol75081\n",
      "CCCl Ethylchloride75003\n",
      "C=CC#CC 1pentene3yne-30oC\n",
      "C#CCC=C 1pentene4yne-44oC\n",
      "C#CC(=C)C 2methyl1butene3yne-52oC\n",
      "C=CCC#N 3butenenitrile109751\n",
      "N#CC1CC1 Cyclopropanecarbonitrile5500210\n",
      "C#CC(C)C 3methyl1butyne-52oC\n",
      "C=CC(=C)C Isoprene78795\n",
      "CCCC#N Butyronitrile109740\n",
      "CC(C)C#N Isobutyronitrile78820\n",
      "C/C=C/C=O Crotonaldehyde123739\n",
      "C=C(C)C=O Isobutenal78853\n",
      "C=C(C)C=O Methacrolein78853\n",
      "C=CC(C)=O Methylvinylketone78944\n",
      "CC=CCC 2pentene-47oC\n",
      "C1CCCC1 Cyclopentane287923\n",
      "C1CCNC1 Pyrrolidine123751\n",
      "CCC(C)=O 2butanone78933\n",
      "C=C(C)CO 2methyl2propen1ol513428\n",
      "C=CCCO 3buten1ol627270\n",
      "CCCC=O Butyraldehyde123728\n",
      "C=COCC Ethylvinylether109922\n",
      "CC(C)C=O Isobutyraldehyde78842\n",
      "C1CCOC1 Tetrahydrofuran109999\n",
      "C/C=C/CO trans2buten1ol504610\n",
      "CCCCC Pentane109660\n",
      "CN=C=S Methylisothiocyanate556616\n",
      "CCCCN Butylamine109739\n",
      "CCNCC Diethylamine109897\n",
      "CC(C)CN Isobutylamine78819\n",
      "CCOC=O Ethylformate109944\n",
      "COC(C)=O methylacetate79209\n",
      "CCC(=O)O PropanoicAcid79094\n",
      "CCC(C)O 2butanol78922\n",
      "CCCCO 4butylalcohol75650\n",
      "CCOCC Diethylether60297\n",
      "CC(C)CO Isobutylalcohol78831\n",
      "CCCOC methylpropylether557175\n",
      "C[SiH](C)C TrimethylSilane-69oC\n",
      "NCC(=O)O Glycine iron sulphate (1:1)\n",
      "CC[N+](=O)[O-] Nitroethane79243\n",
      "CC(O)CN 1amino2propanol78966\n",
      "CNCCO 2methylaminoEthanol109831\n",
      "COCCO 2methoxyethanol109864\n",
      "COCOC Dimethoxymethane109875\n",
      "CC(C)(C)F 2fluoro2methylpropane353617\n",
      "CCCS 1propanethiol107039\n",
      "C=C(C)Cl 2chloro1propene-34oC\n",
      "C=CCCl 3chloro1propene-32oC\n",
      "C=CCCl Allylchloride107051\n",
      "c1ccccc1 Benzene71432\n",
      "CC(=O)Cl Acetylchloride75365\n",
      "CC(C)Cl Isopropylchloride75296\n",
      "c1ccncc1 Pyridine110861\n",
      "N#CCCC#N Succinonitrile110612\n",
      "OCCCl 2chloroethanol107073\n",
      "CCC#CCC 3hexyne-17oC\n",
      "CCCCC#N Pentanenitrile110598\n",
      "CCCCC#N Valeronitrile110598\n",
      "O=C1CCCC1 Cyclopentanone120923\n",
      "c1ccsc1 Thiophene110021\n",
      "CC=CC(C)C 4methyl2pentene-35oC\n",
      "C1CCCCC1 Cyclohexane110827\n",
      "C1CCNCC1 Piperidine110894\n"
     ]
    },
    {
     "ename": "AttributeError",
     "evalue": "'NoneType' object has no attribute 'group'",
     "output_type": "error",
     "traceback": [
      "\u001b[1;31m---------------------------------------------------------------------------\u001b[0m",
      "\u001b[1;31mAttributeError\u001b[0m                            Traceback (most recent call last)",
      "\u001b[1;32m<ipython-input-107-d3ac64297a63>\u001b[0m in \u001b[0;36m<module>\u001b[1;34m\u001b[0m\n\u001b[0;32m      2\u001b[0m \u001b[0mprog\u001b[0m \u001b[1;33m=\u001b[0m \u001b[0mre\u001b[0m\u001b[1;33m.\u001b[0m\u001b[0mcompile\u001b[0m\u001b[1;33m(\u001b[0m\u001b[0mpat\u001b[0m\u001b[1;33m)\u001b[0m\u001b[1;33m\u001b[0m\u001b[1;33m\u001b[0m\u001b[0m\n\u001b[0;32m      3\u001b[0m \u001b[1;32mfor\u001b[0m \u001b[0mcompound\u001b[0m \u001b[1;32min\u001b[0m \u001b[0mle15_no_smiles\u001b[0m\u001b[1;33m[\u001b[0m\u001b[1;34m'compound'\u001b[0m\u001b[1;33m]\u001b[0m\u001b[1;33m:\u001b[0m\u001b[1;33m\u001b[0m\u001b[1;33m\u001b[0m\u001b[0m\n\u001b[1;32m----> 4\u001b[1;33m     \u001b[0mnew_compound\u001b[0m \u001b[1;33m=\u001b[0m \u001b[0mprog\u001b[0m\u001b[1;33m.\u001b[0m\u001b[0mmatch\u001b[0m\u001b[1;33m(\u001b[0m\u001b[0mcompound\u001b[0m\u001b[1;33m)\u001b[0m\u001b[1;33m.\u001b[0m\u001b[0mgroup\u001b[0m\u001b[1;33m(\u001b[0m\u001b[1;36m0\u001b[0m\u001b[1;33m)\u001b[0m\u001b[1;33m\u001b[0m\u001b[1;33m\u001b[0m\u001b[0m\n\u001b[0m\u001b[0;32m      5\u001b[0m     \u001b[0msmi\u001b[0m \u001b[1;33m=\u001b[0m \u001b[0mget_smiles\u001b[0m\u001b[1;33m(\u001b[0m\u001b[0mnew_compound\u001b[0m\u001b[1;33m)\u001b[0m\u001b[1;33m\u001b[0m\u001b[1;33m\u001b[0m\u001b[0m\n\u001b[0;32m      6\u001b[0m     \u001b[1;32mif\u001b[0m \u001b[0msmi\u001b[0m \u001b[1;33m!=\u001b[0m \u001b[1;32mNone\u001b[0m\u001b[1;33m:\u001b[0m\u001b[1;33m\u001b[0m\u001b[1;33m\u001b[0m\u001b[0m\n",
      "\u001b[1;31mAttributeError\u001b[0m: 'NoneType' object has no attribute 'group'"
     ]
    }
   ],
   "source": [
    "pat = r'\\w+\\D'\n",
    "prog = re.compile(pat)\n",
    "for compound in le15_no_smiles['compound']:\n",
    "    match = prog.match(compound)\n",
    "    if match !=None:\n",
    "        new_compound = match.group(0)\n",
    "        smi = get_smiles(new_compound)\n",
    "        if smi != None:\n",
    "            print(smi+' '+compound)"
   ]
  },
  {
   "cell_type": "code",
   "execution_count": 32,
   "metadata": {},
   "outputs": [
    {
     "name": "stdout",
     "output_type": "stream",
     "text": [
      "['smiles', 'compound', 'flashpoint', 'source', 'pure substance']\n"
     ]
    }
   ],
   "source": [
    "all_data = pd.read_csv('../data/integrated_dataset.csv')\n",
    "print(list(all_data))"
   ]
  },
  {
   "cell_type": "code",
   "execution_count": 78,
   "metadata": {},
   "outputs": [
    {
     "name": "stdout",
     "output_type": "stream",
     "text": [
      "['smiles', 'compound', 'flashpoint', 'source', 'pure substance']\n"
     ]
    }
   ],
   "source": [
    "le15_smiles['source'] = 'le15'\n",
    "le15_smiles['pure substance'] = 1\n",
    "le15_smiles = le15_smiles[['smiles', 'compound', 'flashpoint', 'source', 'pure substance']]\n",
    "le15_smiles['flashpoint'] = le15_smiles['flashpoint'].apply(celsiusToKelvin) \n",
    "print(list(le15_smiles))"
   ]
  },
  {
   "cell_type": "code",
   "execution_count": 79,
   "metadata": {},
   "outputs": [
    {
     "data": {
      "text/plain": [
       "(10017,)"
      ]
     },
     "execution_count": 79,
     "metadata": {},
     "output_type": "execute_result"
    }
   ],
   "source": [
    "frames = [all_data, le15_smiles]\n",
    "result = pd.concat(frames)\n",
    "result.smiles.unique().shape"
   ]
  },
  {
   "cell_type": "code",
   "execution_count": 93,
   "metadata": {},
   "outputs": [
    {
     "data": {
      "text/plain": [
       "array(['pubchem', 'carroll11', 'chen14', 'Saldana11', 'gelest_germanium',\n",
       "       'gelest_metal-organics', 'pan12', 'gelest_silanes', 'gelest_tin',\n",
       "       'hazardous materials', 'le15'], dtype=object)"
      ]
     },
     "execution_count": 93,
     "metadata": {},
     "output_type": "execute_result"
    }
   ],
   "source": [
    "result['source'].unique()"
   ]
  },
  {
   "cell_type": "code",
   "execution_count": 89,
   "metadata": {},
   "outputs": [],
   "source": [
    "test = result.drop_duplicates(subset='smiles', keep='first')\n",
    "test.shape\n",
    "test = test[['smiles', 'flashpoint']]\n",
    "test.to_csv('all_fp.csv', index=False)"
   ]
  },
  {
   "cell_type": "code",
   "execution_count": 3,
   "metadata": {},
   "outputs": [],
   "source": [
    "#result[result['source'] == 'le15'].head()\n",
    "result = pd.read_csv('../data/integrated_dataset.csv')"
   ]
  },
  {
   "cell_type": "markdown",
   "metadata": {},
   "source": [
    "### Wang11"
   ]
  },
  {
   "cell_type": "code",
   "execution_count": 6,
   "metadata": {},
   "outputs": [
    {
     "name": "stdout",
     "output_type": "stream",
     "text": [
      "(230, 2)\n"
     ]
    }
   ],
   "source": [
    "wang = pd.read_csv('../data/wang11.csv')\n",
    "wang.head()\n",
    "print(wang.shape)"
   ]
  },
  {
   "cell_type": "code",
   "execution_count": 7,
   "metadata": {},
   "outputs": [
    {
     "data": {
      "text/html": [
       "<div>\n",
       "<style scoped>\n",
       "    .dataframe tbody tr th:only-of-type {\n",
       "        vertical-align: middle;\n",
       "    }\n",
       "\n",
       "    .dataframe tbody tr th {\n",
       "        vertical-align: top;\n",
       "    }\n",
       "\n",
       "    .dataframe thead th {\n",
       "        text-align: right;\n",
       "    }\n",
       "</style>\n",
       "<table border=\"1\" class=\"dataframe\">\n",
       "  <thead>\n",
       "    <tr style=\"text-align: right;\">\n",
       "      <th></th>\n",
       "      <th>compound</th>\n",
       "      <th>flashpoint</th>\n",
       "      <th>smiles</th>\n",
       "    </tr>\n",
       "  </thead>\n",
       "  <tbody>\n",
       "    <tr>\n",
       "      <th>0</th>\n",
       "      <td>Methyltrichlorosilane</td>\n",
       "      <td>276.15</td>\n",
       "      <td>C[Si](Cl)(Cl)Cl</td>\n",
       "    </tr>\n",
       "    <tr>\n",
       "      <th>1</th>\n",
       "      <td>Vinyltrichlorosilane</td>\n",
       "      <td>294.15</td>\n",
       "      <td>C=C[Si](Cl)(Cl)Cl</td>\n",
       "    </tr>\n",
       "    <tr>\n",
       "      <th>2</th>\n",
       "      <td>Dichloromethylmethyldichlorosilane</td>\n",
       "      <td>301.15</td>\n",
       "      <td>C[Si](Cl)(Cl)C(Cl)Cl</td>\n",
       "    </tr>\n",
       "    <tr>\n",
       "      <th>3</th>\n",
       "      <td>Ethyltrichlorosilane</td>\n",
       "      <td>263.15</td>\n",
       "      <td>CC[Si](Cl)(Cl)Cl</td>\n",
       "    </tr>\n",
       "    <tr>\n",
       "      <th>4</th>\n",
       "      <td>Dimethylchlorosilane</td>\n",
       "      <td>245.15</td>\n",
       "      <td>C[SiH](C)Cl</td>\n",
       "    </tr>\n",
       "  </tbody>\n",
       "</table>\n",
       "</div>"
      ],
      "text/plain": [
       "                             compound  flashpoint                smiles\n",
       "0               Methyltrichlorosilane      276.15       C[Si](Cl)(Cl)Cl\n",
       "1                Vinyltrichlorosilane      294.15     C=C[Si](Cl)(Cl)Cl\n",
       "2  Dichloromethylmethyldichlorosilane      301.15  C[Si](Cl)(Cl)C(Cl)Cl\n",
       "3                Ethyltrichlorosilane      263.15      CC[Si](Cl)(Cl)Cl\n",
       "4                Dimethylchlorosilane      245.15           C[SiH](C)Cl"
      ]
     },
     "execution_count": 7,
     "metadata": {},
     "output_type": "execute_result"
    }
   ],
   "source": [
    "wang['smiles'] = wang['compound'].apply(get_smiles)\n",
    "wang.head()"
   ]
  },
  {
   "cell_type": "code",
   "execution_count": 8,
   "metadata": {},
   "outputs": [
    {
     "data": {
      "text/plain": [
       "(210, 3)"
      ]
     },
     "execution_count": 8,
     "metadata": {},
     "output_type": "execute_result"
    }
   ],
   "source": [
    "wang[wang['smiles'].isnull() == False].shape"
   ]
  },
  {
   "cell_type": "code",
   "execution_count": 9,
   "metadata": {},
   "outputs": [
    {
     "data": {
      "text/plain": [
       "(210, 3)"
      ]
     },
     "execution_count": 9,
     "metadata": {},
     "output_type": "execute_result"
    }
   ],
   "source": [
    "wang.dropna(inplace=True)\n",
    "wang.shape"
   ]
  },
  {
   "cell_type": "code",
   "execution_count": 11,
   "metadata": {},
   "outputs": [
    {
     "name": "stdout",
     "output_type": "stream",
     "text": [
      "['smiles', 'compound', 'flashpoint', 'source', 'pure substance']\n",
      "['compound', 'flashpoint', 'smiles', 'pure substance', 'source']\n"
     ]
    }
   ],
   "source": [
    "wang['pure substance'] = 1\n",
    "wang['source'] = 'wang11'\n",
    "print(list(integrated_data))\n",
    "print(list(wang))"
   ]
  },
  {
   "cell_type": "code",
   "execution_count": 12,
   "metadata": {},
   "outputs": [],
   "source": [
    "wang = wang[['smiles', 'compound', 'flashpoint', 'source', 'pure substance']]"
   ]
  },
  {
   "cell_type": "code",
   "execution_count": 14,
   "metadata": {},
   "outputs": [
    {
     "data": {
      "text/plain": [
       "(10158,)"
      ]
     },
     "execution_count": 14,
     "metadata": {},
     "output_type": "execute_result"
    }
   ],
   "source": [
    "frames = [integrated_data, wang]\n",
    "integrated_data = pd.concat(frames)\n",
    "integrated_data['smiles'].unique().shape"
   ]
  },
  {
   "cell_type": "markdown",
   "metadata": {},
   "source": [
    "### Didier14"
   ]
  },
  {
   "cell_type": "code",
   "execution_count": 16,
   "metadata": {},
   "outputs": [
    {
     "name": "stdout",
     "output_type": "stream",
     "text": [
      "(1457, 4)\n",
      "['CASRN', 'Name', 'calc.', 'exp.', 'smiles', 'source', 'pure substance']\n"
     ]
    }
   ],
   "source": [
    "didier14 = pd.read_csv('../data/didier14.csv')\n",
    "didier14.dropna(inplace=True)\n",
    "print(didier14.shape)\n",
    "didier14['smiles'] = didier14['Name'].apply(get_smiles)\n",
    "didier14['source'] = 'didier14'\n",
    "didier14['pure substance'] = 1\n",
    "print(list(didier14))"
   ]
  },
  {
   "cell_type": "code",
   "execution_count": 89,
   "metadata": {},
   "outputs": [
    {
     "name": "stdout",
     "output_type": "stream",
     "text": [
      "(1457, 7)\n",
      "(1328, 7)\n"
     ]
    }
   ],
   "source": [
    "didier14.dropna(inplace=True)\n",
    "print(didier14.shape)"
   ]
  },
  {
   "cell_type": "code",
   "execution_count": 17,
   "metadata": {},
   "outputs": [],
   "source": [
    "didier14.rename(index=str, columns={'Name' : 'compound', 'exp.' : 'flashpoint'}, inplace=True)\n",
    "didier14.drop(columns=['CASRN', 'calc.'])\n",
    "didier14 = didier14[['smiles', 'compound', 'flashpoint', 'source', 'pure substance']]"
   ]
  },
  {
   "cell_type": "code",
   "execution_count": 18,
   "metadata": {},
   "outputs": [
    {
     "data": {
      "text/plain": [
       "(10403,)"
      ]
     },
     "execution_count": 18,
     "metadata": {},
     "output_type": "execute_result"
    }
   ],
   "source": [
    "frames = [integrated_data, didier14]\n",
    "integrated_data = pd.concat(frames)\n",
    "integrated_data['smiles'].unique().shape"
   ]
  },
  {
   "cell_type": "code",
   "execution_count": 84,
   "metadata": {},
   "outputs": [],
   "source": [
    "smi = Chem.MolToSmiles(Chem.MolFromSmiles('ClC(C)CCC(C)C'))\n",
    "#result[result['smiles'] == smi]"
   ]
  },
  {
   "cell_type": "code",
   "execution_count": 85,
   "metadata": {},
   "outputs": [
    {
     "data": {
      "text/html": [
       "<div>\n",
       "<style scoped>\n",
       "    .dataframe tbody tr th:only-of-type {\n",
       "        vertical-align: middle;\n",
       "    }\n",
       "\n",
       "    .dataframe tbody tr th {\n",
       "        vertical-align: top;\n",
       "    }\n",
       "\n",
       "    .dataframe thead th {\n",
       "        text-align: right;\n",
       "    }\n",
       "</style>\n",
       "<table border=\"1\" class=\"dataframe\">\n",
       "  <thead>\n",
       "    <tr style=\"text-align: right;\">\n",
       "      <th></th>\n",
       "      <th>smiles</th>\n",
       "      <th>compound</th>\n",
       "      <th>flashpoint</th>\n",
       "      <th>source</th>\n",
       "      <th>pure substance</th>\n",
       "    </tr>\n",
       "  </thead>\n",
       "  <tbody>\n",
       "  </tbody>\n",
       "</table>\n",
       "</div>"
      ],
      "text/plain": [
       "Empty DataFrame\n",
       "Columns: [smiles, compound, flashpoint, source, pure substance]\n",
       "Index: []"
      ]
     },
     "execution_count": 85,
     "metadata": {},
     "output_type": "execute_result"
    }
   ],
   "source": [
    "combined[combined['smiles'] == smi]"
   ]
  },
  {
   "cell_type": "markdown",
   "metadata": {},
   "source": [
    "### Yong_Pan07"
   ]
  },
  {
   "cell_type": "code",
   "execution_count": 21,
   "metadata": {},
   "outputs": [
    {
     "name": "stdout",
     "output_type": "stream",
     "text": [
      "(92, 5)\n",
      "['No.', 'Compound', 'Experimental FP (K)', 'Predicted FP (K)', 'Deviation (K)']\n"
     ]
    }
   ],
   "source": [
    "pan07 = pd.read_csv('../data/yong_pan07.csv')\n",
    "print(pan07.shape)\n",
    "print(list(pan07))"
   ]
  },
  {
   "cell_type": "code",
   "execution_count": 23,
   "metadata": {},
   "outputs": [
    {
     "name": "stdout",
     "output_type": "stream",
     "text": [
      "(92, 8)\n",
      "['No.', 'Compound', 'Experimental FP (K)', 'Predicted FP (K)', 'Deviation (K)', 'smiles', 'source', 'pure substance']\n",
      "['smiles', 'compound', 'flashpoint', 'source', 'pure substance']\n"
     ]
    }
   ],
   "source": [
    "pan07['smiles'] = pan07['Compound'].apply(get_smiles)\n",
    "pan07.dropna(inplace=True)\n",
    "print(pan07.shape)\n",
    "pan07['source'] = 'pan07'\n",
    "pan07['pure substance'] = 1\n",
    "print(list(pan07))\n",
    "print(list(integrated_data))"
   ]
  },
  {
   "cell_type": "code",
   "execution_count": 24,
   "metadata": {},
   "outputs": [],
   "source": [
    "pan07.rename(index=str, columns={'Compound' : 'compound', 'Experimental FP (K)' : 'flashpoint'}, inplace=True)\n",
    "pan07.drop(columns=['No.', 'Predicted FP (K)', 'Deviation (K)'])\n",
    "pan07 = pan07[['smiles', 'compound', 'flashpoint', 'source', 'pure substance']]"
   ]
  },
  {
   "cell_type": "code",
   "execution_count": 25,
   "metadata": {},
   "outputs": [
    {
     "data": {
      "text/plain": [
       "(10403,)"
      ]
     },
     "execution_count": 25,
     "metadata": {},
     "output_type": "execute_result"
    }
   ],
   "source": [
    "frames = [integrated_data, pan07]\n",
    "integrated_data = pd.concat(frames)\n",
    "integrated_data['smiles'].unique().shape"
   ]
  },
  {
   "cell_type": "markdown",
   "metadata": {},
   "source": [
    "### carroll15"
   ]
  },
  {
   "cell_type": "code",
   "execution_count": 26,
   "metadata": {},
   "outputs": [
    {
     "name": "stdout",
     "output_type": "stream",
     "text": [
      "(82, 4)\n",
      "['Entry', 'Compound', 'Y BP Pred.', 'T FP (K) Lit.']\n"
     ]
    }
   ],
   "source": [
    "carroll15 = pd.read_csv('../data/carroll15.csv')\n",
    "print(carroll15.shape)\n",
    "print(list(carroll15))"
   ]
  },
  {
   "cell_type": "code",
   "execution_count": 27,
   "metadata": {},
   "outputs": [
    {
     "name": "stdout",
     "output_type": "stream",
     "text": [
      "(81, 5)\n",
      "['Entry', 'Compound', 'Y BP Pred.', 'T FP (K) Lit.', 'smiles', 'source', 'pure substance']\n",
      "['smiles', 'compound', 'flashpoint', 'source', 'pure substance']\n"
     ]
    }
   ],
   "source": [
    "carroll15['smiles'] = carroll15['Compound'].apply(get_smiles)\n",
    "carroll15.dropna(inplace=True)\n",
    "print(carroll15.shape)\n",
    "carroll15['source'] = 'caroll15'\n",
    "carroll15['pure substance'] = 1\n",
    "print(list(carroll15))\n",
    "print(list(integrated_data))"
   ]
  },
  {
   "cell_type": "code",
   "execution_count": 28,
   "metadata": {},
   "outputs": [],
   "source": [
    "carroll15.rename(index=str, columns={'Compound' : 'compound', 'T FP (K) Lit.' : 'flashpoint'}, inplace=True)\n",
    "carroll15.drop(columns=['Entry', 'Y BP Pred.'])\n",
    "carroll15 = carroll15[['smiles', 'compound', 'flashpoint', 'source', 'pure substance']]"
   ]
  },
  {
   "cell_type": "code",
   "execution_count": 29,
   "metadata": {},
   "outputs": [
    {
     "data": {
      "text/plain": [
       "(10461,)"
      ]
     },
     "execution_count": 29,
     "metadata": {},
     "output_type": "execute_result"
    }
   ],
   "source": [
    "frames = [integrated_data, carroll15]\n",
    "integrated_data = pd.concat(frames)\n",
    "integrated_data['smiles'].unique().shape"
   ]
  },
  {
   "cell_type": "markdown",
   "metadata": {},
   "source": [
    "### Didier12"
   ]
  },
  {
   "cell_type": "code",
   "execution_count": 36,
   "metadata": {},
   "outputs": [
    {
     "name": "stdout",
     "output_type": "stream",
     "text": [
      "(230, 2)\n",
      "['Molecule', 'Exp.(K)']\n"
     ]
    }
   ],
   "source": [
    "didier12 = pd.read_csv('../data/didier12.csv')\n",
    "didier12 = didier12[['Molecule', 'Exp.(K)']]\n",
    "print(didier12.shape)\n",
    "print(list(didier12))"
   ]
  },
  {
   "cell_type": "code",
   "execution_count": 37,
   "metadata": {},
   "outputs": [
    {
     "name": "stdout",
     "output_type": "stream",
     "text": [
      "Methyltrichlorosilane\n",
      "Vinyltrichlorosilane\n",
      "Dichloromethylmethyldichlorosilane\n",
      "Ethyltrichlorosilane\n",
      "Dimethylchlorosilane\n",
      "Ethylsilane\n",
      "1,1,1-Trifluoropropyltrichlorosilane\n",
      "Allyltrichlorosilane\n",
      "Methylvinyldichlorosilane\n",
      "3-Chloropropyltrichlorosilane\n",
      "n-Propyltrichlorosilane\n",
      "Chloromethyldimethylchlorosilane\n",
      "Trimethylbromosilane\n",
      "Trimethylchlorosilane\n",
      "Trimethylfluorosilane\n",
      "Trimethoxysilane\n",
      "Cyanoethylmethyldichlorosilane\n",
      "Allylmethyldichlorosilane\n",
      "3-Chloropropylmethyldichlorosilane\n",
      "t-Butyltrichlorosilane\n",
      "Isobutyltrichlorosilane\n",
      "n-Butyltrichlorosilane\n",
      "Trimethylsilylisothiocyanate\n",
      "n-Propylmethyldichlorosilane\n",
      "Bromomethyltrimethylsilane\n",
      "Ethyldimethylchlorosilane\n",
      "Methoxytrimethylsilane\n",
      "Dimethyldimethoxysilane\n",
      "Methyltrimethoxysilane\n",
      "Tetramethoxysilane\n",
      "Tetramethylsilane\n",
      "Diethylsilane\n",
      "(N,N-Dimethylamino)dimethylsilane\n",
      "1,3,5,7-Tetramethylcyclotetrasiloxane\n",
      "Tetraisocyanatosilane\n",
      "Cyclopentyltrichlorosilane\n",
      "Trimethylsilyltrifluoroacetate\n",
      "Cyclopentyldichlorosilane\n",
      "n-Amyltrichlorosilane\n",
      "3-Chloro-2-methylpropylmethyldichlorosilane\n",
      "Methylvinyldimethoxysilane\n",
      "Vinyltrimethoxysilane\n",
      "Trimethylvinylsilane\n",
      "Cyclotrimethylenedimethylsilane\n",
      "Diethylmethylchlorosilane\n",
      "Chloromethyldimethylethoxysilane\n",
      "Ethoxytrimethylsilane\n",
      "Ethyltrimethoxysilane\n",
      "(N,N-Dimethylamino)trimethylsilane\n",
      "Pentamethyldisiloxane\n",
      "Phenyldichlorosilane\n",
      "Phenylsilane\n",
      "1-Hexenyltrichlorosilane\n",
      "Cyclohexyltrichlorosilane\n",
      "Bis(chloromethyl)tetramethyldisiloxane\n",
      "N-Methyl-N-trimethylsilyltrifluroacetamide\n",
      "Propargyloxytrimethylsilane\n",
      "Divinyldimethylsilane\n",
      "n-Hexyltrichlorosilane\n",
      "Hexyltriflurosilane\n",
      "n-Amylmethyldichlorosilane\n",
      "Hexyldichlorosilane\n",
      "1,1-Dimethyl-1-sila-2-oxacyclohexane\n",
      "Acetoxymethyltrimethylsilane\n",
      "Allyltrimethylsilane\n",
      "Cyclotetramethylenedimethylsilane\n",
      "Triethylchlorosilane\n",
      "t-Butyldimethylchlorosilane\n",
      "3-Chloropropylmethyldimethoxysilane\n",
      "Trimethyl-n-propoxysilane\n",
      "t-Butyldimethylsilanol\n",
      "Dimethyldiethoxysilane\n",
      "Triethylsilane\n",
      "Hexylsilane\n",
      "t-Butyldimethylsilane\n",
      "Bis(dimethylamino)dimethylsilane\n",
      "Hexamethylcyclotrisiloxane\n",
      "Hexamethyldisilthiane\n",
      "Hexamethyldisilazane\n",
      "Tris(dimethylamino)silane\n",
      "Hexamethyltrisiloxane\n",
      "p-Tolytrichlorosilane\n",
      "Phenylmethyldichlorosilane\n",
      "Phenylmethylchlorosilane\n",
      "Methyltriacetoxysilane\n",
      "Trivinylmethylsilane\n",
      "Cyclohexylmethyldichlorosilane\n",
      "1-(Trimethylsiloxy)-1,3-butadiene\n",
      "2-Chloromethyl-3-trimethylsilyl-1-propene\n",
      "n-Heptyltrichlorosilane\n",
      "n-Hexylmethyldichlorosilane\n",
      "Vinylmethyldiethoxysilane\n",
      "Ethyl(2-trimethylsilyl)acetate\n",
      "Cyclopentamethylenedimethylsilane\n",
      "N-(Trimethylsilyl)morpholine\n",
      "Bis(trimethylsily)carbodiimide\n",
      "t-Butoxytrimethylsilane\n",
      "Vinylpentamethyldisiloxane\n",
      "(1-Methoxy-2-propoxy)trimethylsilane\n",
      "Methyltriethoxysilane\n",
      "(Diethylamino)trimethylsilane\n",
      "Bis(trimethylsilyl)methane\n",
      "Heptamethyldisilazane\n",
      "Heptamethylsiloxane\n",
      "Phenylethyldichlorosilane\n",
      "Tetravinylsilane\n",
      "Phenyldimethylsilane\n",
      "Cyclopentadienyltrimethylsilane\n",
      "(Cyclopentenyloxy)trimethylsilane\n",
      "(2,4-Pentadienyl)trimethylsilane\n",
      "n-Octyltrichlorosilane\n",
      "n-Heptylmethyldichlorosilane\n",
      "Tetramethyldivinyldisiloxane\n",
      "Triethylacetoxysilane\n",
      "Vinyltriethoxysilane\n",
      "1,3-Divinyltetramethyldisilazane\n",
      "Diethyldiethoxysilane\n",
      "Tetraethoxysilane\n",
      "Tetraethylsilane\n",
      "Aminoethylaminopropyltrimethoxysilane\n",
      "Tetramethyldiethoxysiloxane\n",
      "Octamethyltrisiloxane\n",
      "Octamethylcyclotetrasiloxane\n",
      "Octamethylcyclotetrasilazane\n",
      "Tetrakisdimethylsiloxysilane\n",
      "p-Tolydimethylchlorosilane\n",
      "p-Chlorophenyltrimethylsilane\n",
      "Phenyltrimethoxysilane\n",
      "Trimethylphenylsilane\n",
      "Cyclohexylmethyldimethoxysilane\n",
      "Hexyltrimethoxysilane\n",
      "Triisopropylsilane\n",
      "Tri-n-propylsilane\n",
      "Tris(trimethylsioxy) boron\n",
      "Propyltris(dimethylsiloxy)silane\n",
      "Benzyltrimethylsilane\n",
      "3-Methacryloxypropyltrimethoxysilane\n",
      "1-Heptynyltrimethylsilane\n",
      "1,4-Divinyltetramethyldisilylethane\n",
      "n-Octyldimethylchlorosilane\n",
      "Bis(diethylamino)dimethylsilane\n",
      "Decamethyltetrasiloxane\n",
      "Decamethylcyclopentasiloxane\n",
      "2-(3,4-epoxycyclohexyl)ethyltrimethoxysilane\n",
      "n-Decylmethyldichlorosilane\n",
      "Vinyltriethylsilane\n",
      "Diphenyldichlorosilane\n",
      "Phenyltriethoxysilane\n",
      "Diphenylsilane\n",
      "Tetramethyltetravinylcyclotetrasilane\n",
      "n-Dodecyltrichlorosilane\n",
      "Tetra-n-propoxysilane\n",
      "Hexaethyldisiloxane\n",
      "Dodecamethylpentasiloxane\n",
      "Dodecamethylcyclohexasiloxane\n",
      "Methyldiphenylchlorosilane\n",
      "n-Dodecylmethyldichlorosilane\n",
      "Diphenyldimethoxysilane\n",
      "Octyltriethoxysilane\n",
      "Tetradecamethylhexasiloxane\n",
      "Hexadecamethylheptasiloxane\n",
      "n-0ctadecyltrichlorosilane\n",
      "Octadecamethyloctasiloxane\n",
      "Vinyltris(methoxyethoxy)silane\n",
      "Trimethyl(vinyloxy)silane\n",
      "Trichloro(3-cyanopropyl) Silane\n",
      "Trichloro(2-phenylethyl)silane\n",
      "Chlorodimethyl(3,3,3-trifluoropropyl) silane\n",
      "Vinylmethylbis (trimethylsiloxy) silane\n",
      "Trichloro(Chloromethyl) silane\n",
      "Dimethyl(pentafluorophenyl) silane\n",
      "Trichloro(p-chlorophenyl)silane\n",
      "Trisilane\n",
      "Trichlorononylsilane\n",
      "Dichloroethylsilane\n",
      "Trichloro(dichlorophenyl)silane\n",
      "Tris(trimethylsilyl)silane\n",
      "Tris(trimethylsiloxy)silane\n",
      "Hexadecyltrichlorosilane\n",
      "Flusilazol\n",
      "Dichloromethyl(2-tricyclo[3.3.1.1(3,7)-]dec-1-ylethyl) silane\n",
      "Dichlorosilane\n",
      "Methyldichlorosilane\n",
      "Iodotrimethylsilane\n",
      "Dimethyldichlorosilane\n",
      "Bromomethyldimethylchlorosilane\n",
      "Trimethylsilane\n",
      "Dimethylvinylchlorosilane\n",
      "1,3-Dichlorotetramethyldisiloxane\n",
      "1,1,3,3-Tetramethyldisiloxane\n",
      "Tetramethyldisilazane\n",
      "Allyldimethylchlorosilane\n",
      "sec-Amyltrichlorosilane\n",
      "n-Butylmethyldichlorosilane\n",
      "Bis(dimethylamino)methylsilane\n",
      "Phenyltrichlorosilane\n",
      "Phenyltriflurosilane\n",
      "Dimethyldiacetoxysilane\n",
      "1-Trimethylsilylpropyne\n",
      "Vinyldimethylethoxysilane\n",
      "Allyloxytrimethylsilane\n",
      "Allyltrimethoxysilane\n",
      "3-Chloropropyltrimethoxysilane\n",
      "n-Propyltrimethoxysilane\n",
      "Hexamethyldisiloxane\n",
      "Hexamethyldisilane\n",
      "Vinyldiethylmethylsilane\n",
      "Isobutyltrimethoxysilane\n",
      "Phenyldimethylchlorosilane\n",
      "(N,N-Dimethylamino)triethylsilane\n",
      "Vinyltriacetoxysilane\n",
      "Ethyltriacetoxysilane\n",
      "3-(Trimethylsilyl)cyclopentene\n",
      "Vinyltriethylsilane\n",
      "n-Octylsilane\n",
      "Methylphenyldimethoxysilane\n",
      "n-(t-Butyldimethylsilyl)-n-methyl-trifluoroacetamide\n",
      "2-Cyanoethyltriethoxysilane\n",
      "3-Glycidoxypropyltrimethoxysilane\n",
      "Di-t-butylmethylchlorosilane\n",
      "Tri-n-propylchlorosilane\n",
      "(Diisopropylamino)trimethylsilane\n",
      "1-Chlorononamethyltetrasiloxane\n",
      "Tristrimethylsiloxymethylsilane\n",
      "Diphenylmethylsilane\n",
      "Trimethyl[(1-methylethenyl)oxy]silane\n",
      "Dichloromethyl-3,3,3-trifluoropropylsilane\n",
      "[2-(chloromethoxy)ethyl]trimethylsilane\n",
      "Triphenylsilane\n",
      "Trichlorosilane\n",
      "(210, 3)\n",
      "['Molecule', 'Exp.(K)', 'smiles', 'source', 'pure substance']\n",
      "['smiles', 'compound', 'flashpoint', 'source', 'pure substance']\n"
     ]
    }
   ],
   "source": [
    "didier12['smiles'] = didier12['Molecule'].apply(get_smiles)\n",
    "didier12.dropna(inplace=True)\n",
    "print(didier12.shape)\n",
    "didier12['source'] = 'didier12'\n",
    "didier12['pure substance'] = 1\n",
    "print(list(didier12))\n",
    "print(list(integrated_data))"
   ]
  },
  {
   "cell_type": "code",
   "execution_count": 39,
   "metadata": {},
   "outputs": [],
   "source": [
    "didier12.rename(index=str, columns={'Molecule' : 'compound', 'Exp.(K)' : 'flashpoint'}, inplace=True)\n",
    "didier12 = didier12[['smiles', 'compound', 'flashpoint', 'source', 'pure substance']]"
   ]
  },
  {
   "cell_type": "code",
   "execution_count": 40,
   "metadata": {},
   "outputs": [
    {
     "data": {
      "text/plain": [
       "(10461,)"
      ]
     },
     "execution_count": 40,
     "metadata": {},
     "output_type": "execute_result"
    }
   ],
   "source": [
    "frames = [integrated_data, didier12]\n",
    "integrated_data = pd.concat(frames)\n",
    "integrated_data['smiles'].unique().shape"
   ]
  },
  {
   "cell_type": "code",
   "execution_count": 41,
   "metadata": {},
   "outputs": [],
   "source": [
    "integrated_data.to_csv('../data/integrated_dataset.csv', index=False)"
   ]
  },
  {
   "cell_type": "code",
   "execution_count": 51,
   "metadata": {},
   "outputs": [],
   "source": [
    "def remove_invalid_smiles(data):\n",
    "    invalid = []\n",
    "    for index, row in data.iterrows():\n",
    "        #print(row['smiles'])\n",
    "        if Chem.MolFromSmiles(row['smiles']) == None:\n",
    "            invalid.append(row['smiles'])\n",
    "            #data.drop(row.index[0], inplace=True)\n",
    "    print('invalid smiles strings')\n",
    "    print('------------------------------')\n",
    "    print(invalid)\n",
    "    print('------------------------------')\n",
    "    for smi in invalid:\n",
    "        data.drop([data[data['smiles'] == smi].index[0]], inplace=True)"
   ]
  },
  {
   "cell_type": "code",
   "execution_count": 62,
   "metadata": {},
   "outputs": [
    {
     "name": "stdout",
     "output_type": "stream",
     "text": [
      "[]\n"
     ]
    }
   ],
   "source": [
    "check_valid_smiles(integrated_data)"
   ]
  },
  {
   "cell_type": "code",
   "execution_count": 63,
   "metadata": {},
   "outputs": [
    {
     "data": {
      "text/html": [
       "<div>\n",
       "<style scoped>\n",
       "    .dataframe tbody tr th:only-of-type {\n",
       "        vertical-align: middle;\n",
       "    }\n",
       "\n",
       "    .dataframe tbody tr th {\n",
       "        vertical-align: top;\n",
       "    }\n",
       "\n",
       "    .dataframe thead th {\n",
       "        text-align: right;\n",
       "    }\n",
       "</style>\n",
       "<table border=\"1\" class=\"dataframe\">\n",
       "  <thead>\n",
       "    <tr style=\"text-align: right;\">\n",
       "      <th></th>\n",
       "      <th>smiles</th>\n",
       "      <th>compound</th>\n",
       "      <th>flashpoint</th>\n",
       "      <th>source</th>\n",
       "      <th>pure substance</th>\n",
       "    </tr>\n",
       "  </thead>\n",
       "  <tbody>\n",
       "  </tbody>\n",
       "</table>\n",
       "</div>"
      ],
      "text/plain": [
       "Empty DataFrame\n",
       "Columns: [smiles, compound, flashpoint, source, pure substance]\n",
       "Index: []"
      ]
     },
     "execution_count": 63,
     "metadata": {},
     "output_type": "execute_result"
    }
   ],
   "source": [
    "integrated_data[integrated_data['smiles'] == 'C1=CC=C(C=C1)[Si](Cl)(Cl)[Cl-]Cl']#.index[0]"
   ]
  },
  {
   "cell_type": "code",
   "execution_count": 54,
   "metadata": {},
   "outputs": [
    {
     "data": {
      "text/plain": [
       "smiles            0\n",
       "compound          0\n",
       "flashpoint        0\n",
       "source            0\n",
       "pure substance    0\n",
       "dtype: int64"
      ]
     },
     "execution_count": 54,
     "metadata": {},
     "output_type": "execute_result"
    }
   ],
   "source": [
    "integrated_data.dropna(inplace=True)\n",
    "integrated_data.isnull().sum()"
   ]
  },
  {
   "cell_type": "code",
   "execution_count": 55,
   "metadata": {},
   "outputs": [],
   "source": [
    "integrated_data.to_csv('../data/integrated_dataset.csv', index=False)"
   ]
  },
  {
   "cell_type": "code",
   "execution_count": 56,
   "metadata": {},
   "outputs": [
    {
     "data": {
      "text/plain": [
       "smiles              CCOP(=S)(C1=CC=CC=C1)OC2=CC=C(C=C2)[N+](=O)[O-]\n",
       "compound          ethoxy-(4-nitrophenoxy)-phenyl-sulfanylidene-Î...\n",
       "flashpoint                                                   303.15\n",
       "source                                                      pubchem\n",
       "pure substance                                                    1\n",
       "Name: 1682, dtype: object"
      ]
     },
     "execution_count": 56,
     "metadata": {},
     "output_type": "execute_result"
    }
   ],
   "source": [
    "integrated_data.iloc[1682]"
   ]
  },
  {
   "cell_type": "code",
   "execution_count": 59,
   "metadata": {},
   "outputs": [
    {
     "data": {
      "image/png": "[encoded data removed]",
      "text/plain": [
       "<PIL.Image.Image image mode=RGBA size=300x300 at 0x298B7DC45C0>"
      ]
     },
     "execution_count": 59,
     "metadata": {},
     "output_type": "execute_result"
    }
   ],
   "source": [
    "mol = Chem.MolFromSmiles('C1=C(C=C(C(=C1O)O)O)C(=O)OC2=CC(=CC(=C2O)O)C(=O)OCC3C(C(C(C(O3)OC(=O)C4=CC(=C(C(=C4)OC(=O)C5=CC(=C(C(=C5)O)O)O)O)O)OC(=O)C6=CC(=C(C(=C6)OC(=O)C7=CC(=C(C(=C7)O)O)O)O)O)OC(=O)C8=CC(=C(C(=C8)OC(=O)C9=CC(=C(C(=C9)O)O)O)O)O)OC(=O)C1=CC(=C(C(=C1)OC(=O)C1=CC(=C(C(=C1)O)O)O)O)O')\n",
    "Draw.MolToImage(mol)"
   ]
  },
  {
   "cell_type": "code",
   "execution_count": null,
   "metadata": {},
   "outputs": [],
   "source": []
  }
 ],
 "metadata": {
  "kernelspec": {
   "display_name": "moleprop",
   "language": "python",
   "name": "moleprop"
  },
  "language_info": {
   "codemirror_mode": {
    "name": "ipython",
    "version": 3
   },
   "file_extension": ".py",
   "mimetype": "text/x-python",
   "name": "python",
   "nbconvert_exporter": "python",
   "pygments_lexer": "ipython3",
   "version": "3.6.8"
  }
 },
 "nbformat": 4,
 "nbformat_minor": 2
}
